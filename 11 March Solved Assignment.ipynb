{
 "cells": [
  {
   "cell_type": "markdown",
   "id": "d2a6da21",
   "metadata": {},
   "source": [
    "# Statistics Advance-4\n",
    "Assignment Questions"
   ]
  },
  {
   "cell_type": "raw",
   "id": "80e04c66",
   "metadata": {},
   "source": [
    "Q1: What is the difference between a t-test and a z-test? Provide an example scenario where you would\n",
    "use each type of test."
   ]
  },
  {
   "cell_type": "markdown",
   "id": "415035c7",
   "metadata": {},
   "source": [
    "The t-test and the z-test are statistical tests used to determine if there is a significant difference between the means of two populations. The main difference between the two tests lies in the fact that a z-test is used when the population standard deviation is known, while a t-test is used when the population standard deviation is unknown and must be estimated from the sample data.\n",
    "\n",
    "An example scenario where a z-test could be used is when a pharmaceutical company wants to determine if a new drug is effective in reducing blood pressure. They know the population standard deviation of blood pressure readings and want to compare the mean blood pressure of patients who took the drug versus those who did not take the drug.\n",
    "\n",
    "On the other hand, a t-test can be used when the population standard deviation is unknown, such as when a new teaching method is introduced in a school to improve students' test scores. In this case, the population standard deviation of test scores is unknown, so a t-test is used to determine if there is a significant difference in mean test scores between students who used the new teaching method and those who did not.\n",
    "\n",
    "In summary, a z-test is used when the population standard deviation is known, while a t-test is used when the population standard deviation is unknown and must be estimated from the sample data."
   ]
  },
  {
   "cell_type": "raw",
   "id": "2604e1f1",
   "metadata": {},
   "source": [
    "Q2: Differentiate between one-tailed and two-tailed tests."
   ]
  },
  {
   "cell_type": "markdown",
   "id": "6f5df908",
   "metadata": {},
   "source": [
    "In hypothesis testing, the choice between a one-tailed and two-tailed test depends on the directionality of the research hypothesis.\n",
    "\n",
    "A one-tailed test is used when the research hypothesis specifies the direction of the difference between the sample mean and population mean. The one-tailed test will either test for a significant difference above or below the population mean, but not both. This type of test is appropriate when the research hypothesis suggests a directional relationship between variables. For example, a researcher might want to test whether a new drug increases the mean weight loss for a specific treatment. In this case, the one-tailed test will be used to test whether the mean weight loss is greater than the population mean.\n",
    "\n",
    "A two-tailed test is used when the research hypothesis does not specify the direction of the difference between the sample mean and population mean. The two-tailed test will test for a significant difference above and below the population mean. This type of test is appropriate when the research hypothesis suggests a non-directional relationship between variables. For example, a researcher might want to test whether a new teaching method improves student performance on a test. In this case, the two-tailed test will be used to test whether the mean test scores are different from the population mean, regardless of whether they are higher or lower."
   ]
  },
  {
   "cell_type": "raw",
   "id": "0eb17632",
   "metadata": {},
   "source": [
    "Q3: Explain the concept of Type 1 and Type 2 errors in hypothesis testing. Provide an example scenario for\n",
    "each type of error."
   ]
  },
  {
   "cell_type": "markdown",
   "id": "828da226",
   "metadata": {},
   "source": [
    "In hypothesis testing, a Type 1 error occurs when we reject a null hypothesis that is actually true. On the other hand, a Type 2 error occurs when we fail to reject a null hypothesis that is actually false.\n",
    "\n",
    "An example scenario for Type 1 error could be testing a drug for its effectiveness in treating a disease. If we reject the null hypothesis that the drug has no effect when in reality it does not work, patients may be given a useless medication with potential side effects.\n",
    "\n",
    "An example scenario for Type 2 error could be testing a new safety feature for cars to see if it reduces the risk of accidents. If we fail to reject the null hypothesis that the safety feature has no effect when in reality it does work, drivers may be at risk of accidents that could have been prevented.\n",
    "\n",
    "It is important to minimize the chances of both types of errors in hypothesis testing. The level of significance, sample size, and effect size can all impact the likelihood of Type 1 and Type 2 errors."
   ]
  },
  {
   "cell_type": "raw",
   "id": "e36863f3",
   "metadata": {},
   "source": [
    "Q4:  Explain Bayes's theorem with an example."
   ]
  },
  {
   "cell_type": "markdown",
   "id": "7a6333b4",
   "metadata": {},
   "source": [
    "Bayes's theorem is a statistical tool used to update the probability of an event based on new evidence or information. It is named after Reverend Thomas Bayes, an 18th-century statistician and theologian. Bayes's theorem is widely used in fields such as machine learning, medical diagnosis, and risk analysis.\n",
    "\n",
    "The theorem is expressed mathematically as:\n",
    "\n",
    "P(A|B) = P(B|A) * P(A) / P(B)\n",
    "\n",
    "Where:\n",
    "\n",
    "P(A|B) is the probability of A given B\n",
    "P(B|A) is the probability of B given A\n",
    "P(A) is the prior probability of A\n",
    "P(B) is the prior probability of B\n",
    "Here is an example to illustrate how Bayes's theorem works:\n",
    "\n",
    "Suppose a medical test is designed to detect a certain disease, which occurs in 1% of the population. The test has a false positive rate of 5% (i.e., it incorrectly identifies 5% of healthy people as having the disease) and a false negative rate of 10% (i.e., it incorrectly identifies 10% of people with the disease as healthy).\n",
    "\n",
    "If a person tests positive for the disease, what is the probability that they actually have it?\n",
    "\n",
    "Let's apply Bayes's theorem to solve this problem. We define the events as follows:\n",
    "\n",
    "A: The person has the disease\n",
    "B: The person tests positive for the disease\n",
    "From the problem statement, we know the following probabilities:\n",
    "\n",
    "P(A) = 0.01 (prior probability of having the disease)\n",
    "P(B|A) = 0.9 (probability of testing positive given that the person has the disease)\n",
    "P(B|not A) = 0.05 (probability of testing positive given that the person does not have the disease)\n",
    "To find P(A|B), we need to calculate P(B) first:\n",
    "\n",
    "P(B) = P(B|A) * P(A) + P(B|not A) * P(not A)\n",
    "= 0.9 * 0.01 + 0.05 * 0.99\n",
    "= 0.0585\n",
    "\n",
    "Now we can calculate P(A|B) using Bayes's theorem:\n",
    "\n",
    "P(A|B) = P(B|A) * P(A) / P(B)\n",
    "= 0.9 * 0.01 / 0.0585\n",
    "= 0.154\n",
    "\n",
    "So the probability that a person who tests positive for the disease actually has it is 15.4%. This means that out of 100 people who test positive, only 15 actually have the disease, while 85 are false positives."
   ]
  },
  {
   "cell_type": "raw",
   "id": "459e753f",
   "metadata": {},
   "source": [
    "Q5: What is a confidence interval? How to calculate the confidence interval, explain with an example."
   ]
  },
  {
   "cell_type": "markdown",
   "id": "5ad7a481",
   "metadata": {},
   "source": [
    "A confidence interval is a range of values that is likely to contain the true value of a population parameter with a certain degree of confidence. In other words, it provides an estimate of the range of values in which the true population parameter is likely to lie.\n",
    "\n",
    "To calculate the confidence interval, we need to first determine the sample mean, sample size, standard deviation, and the confidence level. The confidence level is typically set at 90%, 95%, or 99%.\n",
    "\n",
    "The formula to calculate the confidence interval for a population mean is:\n",
    "\n",
    "Confidence Interval = Sample Mean ± (Z-score or T-score * Standard Error)\n",
    "\n",
    "where,\n",
    "\n",
    "- Sample Mean is the mean of the sample\n",
    "- Z-score or T-score is the value obtained from the standard normal or t-distribution based on the confidence level and degrees of freedom\n",
    "- Standard Error is the standard deviation of the sampling distribution of the mean, which is calculated as the standard deviation of the sample divided by the square root of the sample size.\n",
    "Here's an example of how to calculate the confidence interval:\n",
    "\n",
    "Suppose we want to estimate the average height of a population of adult males. We take a random sample of 100 adult males and measure their heights. The sample mean height is 70 inches and the sample standard deviation is 2 inches. We want to calculate the 95% confidence interval for the population mean height.\n",
    "\n",
    "First, we need to calculate the standard error:\n",
    "\n",
    "Standard Error = 2 / sqrt(100) = 0.2\n",
    "\n",
    "Next, we need to find the Z-score for the 95% confidence level. From the standard normal distribution table, we find that the Z-score for a 95% confidence level is 1.96.\n",
    "\n",
    "Therefore, the 95% confidence interval for the population mean height is:\n",
    "\n",
    "Confidence Interval = 70 ± (1.96 * 0.2) = (69.6, 70.4)\n",
    "\n",
    "This means that we can be 95% confident that the true population mean height of adult males lies between 69.6 and 70.4 inches."
   ]
  },
  {
   "cell_type": "raw",
   "id": "6f619805",
   "metadata": {},
   "source": [
    "Q6. Use Bayes' Theorem to calculate the probability of an event occurring given prior knowledge of the\n",
    "event's probability and new evidence. Provide a sample problem and solution."
   ]
  },
  {
   "cell_type": "markdown",
   "id": "1981c34b",
   "metadata": {},
   "source": [
    "here's an example problem:\n",
    "\n",
    "Suppose that a rare disease affects 1 in 100,000 people. A new diagnostic test has been developed that correctly identifies the disease 99% of the time when the person has the disease and 98% of the time when the person does not have the disease. A person tests positive for the disease. What is the probability that the person actually has the disease?\n",
    "\n",
    "We can use Bayes' Theorem to calculate the probability of having the disease given a positive test result:\n",
    "\n",
    "Let A = having the disease and B = testing positive for the disease.\n",
    "\n",
    "Then we have:\n",
    "\n",
    "P(A|B) = P(B|A)P(A) / [P(B|A)P(A) + P(B|not A)P(not A)]\n",
    "\n",
    "where P(A) is the prior probability of having the disease (1/100,000), P(B|A) is the probability of testing positive given that the person has the disease (0.99), P(not A) is the prior probability of not having the disease (1 - 1/100,000), and P(B|not A) is the probability of testing positive given that the person does not have the disease (0.02).\n",
    "\n",
    "Substituting in the values, we get:\n",
    "\n",
    "P(A|B) = (0.99)(1/100,000) / [(0.99)(1/100,000) + (0.02)(99,999/100,000)]\n",
    "\n",
    "Simplifying, we get:\n",
    "\n",
    "P(A|B) ≈ 0.0049\n",
    "\n",
    "So the probability that the person actually has the disease given a positive test result is only about 0.49%. This is a very low probability, indicating that the diagnostic test may not be very reliable."
   ]
  },
  {
   "cell_type": "raw",
   "id": "dc62bdfc",
   "metadata": {},
   "source": [
    "Q7. Calculate the 95% confidence interval for a sample of data with a mean of 50 and a standard deviation\n",
    "of 5. Interpret the results."
   ]
  },
  {
   "cell_type": "markdown",
   "id": "aeca1c37",
   "metadata": {},
   "source": [
    "To calculate the 95% confidence interval, we need to use the formula:\n",
    "\n",
    "CI = X̄ ± Zα/2 * (σ/√n)\n",
    "\n",
    "Where,\n",
    "X̄ = Sample mean\n",
    "Zα/2 = Critical value at α/2 level of significance (for a two-tailed test)\n",
    "σ = Population standard deviation\n",
    "n = Sample size\n",
    "\n",
    "Using the given values, we have:\n",
    "\n",
    "CI = 50 ± 1.96 * (5/√n)\n",
    "\n",
    "We do not have information on the sample size, so we cannot compute the exact value of the confidence interval. However, we can interpret the formula to understand the general concept of confidence intervals.\n",
    "\n",
    "A 95% confidence interval means that if we were to repeat the sampling process many times, 95% of the confidence intervals we construct would contain the true population mean. In other words, there is a high degree of certainty that the true population mean falls within the range of values calculated by the confidence interval."
   ]
  },
  {
   "cell_type": "raw",
   "id": "18553009",
   "metadata": {},
   "source": [
    "Q8. What is the margin of error in a confidence interval? How does sample size affect the margin of error?\n",
    "Provide an example of a scenario where a larger sample size would result in a smaller margin of error."
   ]
  },
  {
   "cell_type": "markdown",
   "id": "6184e7d1",
   "metadata": {},
   "source": [
    "The margin of error in a confidence interval is the range of values that is added or subtracted to the point estimate to determine the range in which the true population parameter is expected to lie with a certain level of confidence. It is a measure of the precision of the estimate.\n",
    "\n",
    "Sample size affects the margin of error in two ways. First, as the sample size increases, the margin of error decreases, assuming that all other factors remain the same. This is because a larger sample size provides more information and reduces the variability in the data. Second, the margin of error is also affected by the level of confidence desired. As the level of confidence increases, the margin of error also increases.\n",
    "\n",
    "For example, suppose we want to estimate the proportion of people in a city who prefer coffee over tea. A random sample of 100 people is taken, and 60 of them prefer coffee. The point estimate of the proportion is 0.6. We want to calculate a 95% confidence interval for the true proportion.\n",
    "\n",
    "Using the formula for the margin of error, we get:\n",
    "\n",
    "Margin of error = z*(sqrt(p*(1-p)/n))\n",
    "\n",
    "where z is the z-score for the desired level of confidence, p is the point estimate of the proportion, and n is the sample size.\n",
    "\n",
    "For a 95% confidence interval, the z-score is 1.96. Plugging in the values, we get:\n",
    "\n",
    "Margin of error = 1.96*(sqrt(0.6*(1-0.6)/100)) = 0.098\n",
    "\n",
    "The 95% confidence interval is therefore 0.6 ± 0.098, or (0.502, 0.698). This means we can be 95% confident that the true proportion of people in the city who prefer coffee over tea is between 0.502 and 0.698.\n",
    "\n",
    "Suppose we increase the sample size to 500 while keeping the proportion and level of confidence the same. Using the same formula, we get:\n",
    "\n",
    "Margin of error = 1.96*(sqrt(0.6*(1-0.6)/500)) = 0.044\n",
    "\n",
    "As we can see, the margin of error has decreased, indicating that the estimate is more precise with a larger sample size."
   ]
  },
  {
   "cell_type": "raw",
   "id": "4c5e530d",
   "metadata": {},
   "source": [
    "Q9. Calculate the z-score for a data point with a value of 75, a population mean of 70, and a population\n",
    "standard deviation of 5. Interpret the results."
   ]
  },
  {
   "cell_type": "markdown",
   "id": "9cd6a492",
   "metadata": {},
   "source": [
    "To calculate the z-score, we use the formula:\n",
    "\n",
    "z = (x - μ) / σ\n",
    "\n",
    "where:\n",
    "x = data point value\n",
    "μ = population mean\n",
    "σ = population standard deviation\n",
    "\n",
    "Substituting the given values, we get:\n",
    "\n",
    "z = (75 - 70) / 5\n",
    "z = 1\n",
    "\n",
    "Interpretation: The z-score of the data point 75 is 1. This means that the data point is 1 standard deviation above the population mean."
   ]
  },
  {
   "cell_type": "raw",
   "id": "dce1db0a",
   "metadata": {},
   "source": [
    "Q10. In a study of the effectiveness of a new weight loss drug, a sample of 50 participants lost an average\n",
    "of 6 pounds with a standard deviation of 2.5 pounds. Conduct a hypothesis test to determine if the drug is\n",
    "significantly effective at a 95% confidence level using a t-test."
   ]
  },
  {
   "cell_type": "markdown",
   "id": "18021b28",
   "metadata": {},
   "source": [
    "Null Hypothesis: The new weight loss drug is not significantly effective. μ = 0\n",
    "Alternative Hypothesis: The new weight loss drug is significantly effective. μ ≠ 0\n",
    "\n",
    "We will conduct a two-tailed t-test with a significance level of 0.05.\n",
    "\n",
    "Given that sample size is less than 30 and population standard deviation is unknown, we will use t-distribution.\n",
    "\n",
    "The test statistic is calculated as:\n",
    "\n",
    "t = (x̄ - μ) / (s / √n)\n",
    "\n",
    "where x̄ is the sample mean, μ is the population mean, s is the sample standard deviation, and n is the sample size.\n",
    "\n",
    "For a 95% confidence interval, the critical value of t with 49 degrees of freedom is ±2.009.\n",
    "\n",
    "The calculations are:\n",
    "\n",
    "t = (6 - 0) / (2.5 / √50) = 15.8\n",
    "t_critical = ±2.009\n",
    "\n",
    "Since the calculated t-value of 15.8 is greater than the critical value of ±2.009, we reject the null hypothesis.\n",
    "\n",
    "Therefore, we can conclude that the new weight loss drug is significantly effective at a 95% confidence level."
   ]
  },
  {
   "cell_type": "raw",
   "id": "d14d467b",
   "metadata": {},
   "source": [
    "Q11. In a survey of 500 people, 65% reported being satisfied with their current job. Calculate the 95%\n",
    "confidence interval for the true proportion of people who are satisfied with their job."
   ]
  },
  {
   "cell_type": "markdown",
   "id": "ee04b83e",
   "metadata": {},
   "source": [
    "To calculate the 95% confidence interval for the true proportion of people satisfied with their job, we can use the formula:\n",
    "\n",
    "CI = p ± zsqrt((p(1-p))/n)\n",
    "\n",
    "where:\n",
    "\n",
    "CI: confidence interval\n",
    "p: sample proportion (65% or 0.65)\n",
    "z: the z-score corresponding to the desired level of confidence (95% or 1.96)\n",
    "n: sample size (500)\n",
    "Substituting in the values, we get:\n",
    "\n",
    "CI = 0.65 ± 1.96sqrt((0.65(1-0.65))/500)\n",
    "\n",
    "CI = 0.65 ± 0.048\n",
    "\n",
    "So the 95% confidence interval for the true proportion of people satisfied with their job is (0.602, 0.698). This means we can be 95% confident that the true proportion of people satisfied with their job falls within this range."
   ]
  },
  {
   "cell_type": "raw",
   "id": "175aad27",
   "metadata": {},
   "source": [
    "Q12. A researcher is testing the effectiveness of two different teaching methods on student performance.\n",
    "Sample A has a mean score of 85 with a standard deviation of 6, while sample B has a mean score of 82\n",
    "with a standard deviation of 5. Conduct a hypothesis test to determine if the two teaching methods have a\n",
    "significant difference in student performance using a t-test with a significance level of 0.01."
   ]
  },
  {
   "cell_type": "markdown",
   "id": "736fad9d",
   "metadata": {},
   "source": [
    "To test if the two teaching methods have a significant difference in student performance, we will use a two-sample t-test for independent samples with equal variances.\n",
    "\n",
    "Null Hypothesis: The mean score for sample A is equal to the mean score for sample B.\n",
    "Alternative Hypothesis: The mean score for sample A is not equal to the mean score for sample B.\n",
    "Significance level: 0.01\n",
    "\n",
    "First, we need to calculate the pooled standard deviation:\n",
    "s_p = sqrt(((n1 - 1)*s1^2 + (n2 - 1)*s2^2) / (n1 + n2 - 2))\n",
    "where s1 and s2 are the standard deviations of sample A and sample B, n1 and n2 are the sample sizes.\n",
    "\n",
    "s1 = 6\n",
    "s2 = 5\n",
    "n1 = n2 = 30\n",
    "\n",
    "s_p = sqrt(((30 - 1)*6^2 + (30 - 1)*5^2) / (30 + 30 - 2)) = 5.38\n",
    "\n",
    "Next, we can calculate the t-statistic:\n",
    "t = (x1 - x2) / (s_p * sqrt(2/n))\n",
    "where x1 and x2 are the sample means, n is the sample size.\n",
    "\n",
    "x1 = 85\n",
    "x2 = 82\n",
    "n = 30\n",
    "\n",
    "t = (85 - 82) / (5.38 * sqrt(2/30)) = 2.68\n",
    "\n",
    "Using a t-distribution table with 58 degrees of freedom (n1 + n2 - 2), the critical values for a two-tailed test at a 0.01 significance level are ±2.660.\n",
    "\n",
    "Since our calculated t-statistic (2.68) is greater than the critical value (2.660), we reject the null hypothesis and conclude that there is a significant difference in student performance between the two teaching methods.\n",
    "\n",
    "In other words, we can infer that one teaching method is better than the other in terms of improving student performance."
   ]
  },
  {
   "cell_type": "raw",
   "id": "8d0815b4",
   "metadata": {},
   "source": [
    "Q13. A population has a mean of 60 and a standard deviation of 8. A sample of 50 observations has a mean\n",
    "of 65. Calculate the 90% confidence interval for the true population mean."
   ]
  },
  {
   "cell_type": "markdown",
   "id": "60aed6e6",
   "metadata": {},
   "source": [
    "To calculate the 90% confidence interval for the true population mean, we can use the following formula:\n",
    "\n",
    "CI = X̄ ± Z(α/2) * (σ/√n)\n",
    "\n",
    "Where:\n",
    "\n",
    "X̄ is the sample mean\n",
    "Z(α/2) is the Z-score for the confidence level (90% in this case)\n",
    "σ is the population standard deviation\n",
    "n is the sample size\n",
    "We are given:\n",
    "\n",
    "X̄ = 65\n",
    "σ = 8\n",
    "n = 50\n",
    "The confidence level is 90%, which corresponds to a Z-score of 1.645 (from a standard normal distribution table).\n",
    "Plugging in these values, we get:\n",
    "\n",
    "CI = 65 ± 1.645 * (8/√50)\n",
    "CI = 65 ± 2.316\n",
    "\n",
    "Therefore, the 90% confidence interval for the true population mean is (62.684, 67.316). We can be 90% confident that the true population mean falls within this range."
   ]
  },
  {
   "cell_type": "raw",
   "id": "cb79f3df",
   "metadata": {},
   "source": [
    "Q14. In a study of the effects of caffeine on reaction time, a sample of 30 participants had an average\n",
    "reaction time of 0.25 seconds with a standard deviation of 0.05 seconds. Conduct a hypothesis test to\n",
    "determine if the caffeine has a significant effect on reaction time at a 90% confidence level using a t-test."
   ]
  },
  {
   "cell_type": "markdown",
   "id": "f6f8d54f",
   "metadata": {},
   "source": [
    "To conduct a hypothesis test to determine if caffeine has a significant effect on reaction time at a 90% confidence level using a t-test, we need to follow the steps below:\n",
    "\n",
    "Step 1: State the null and alternative hypotheses\n",
    "\n",
    "The null hypothesis (H0) is that there is no significant difference in the reaction time between participants who consumed caffeine and those who did not. The alternative hypothesis (Ha) is that there is a significant difference in reaction time between the two groups.\n",
    "\n",
    "H0: μ1 - μ2 = 0\n",
    "Ha: μ1 - μ2 ≠ 0\n",
    "\n",
    "where μ1 is the population mean of the reaction time for participants who consumed caffeine, and μ2 is the population mean of the reaction time for participants who did not consume caffeine.\n",
    "\n",
    "Step 2: Determine the level of significance (α) and the degrees of freedom (df)\n",
    "\n",
    "The level of significance is 0.1 (90% confidence level), so α = 0.1. The degrees of freedom are (n1 + n2 - 2) = (30 + 30 - 2) = 58, where n1 and n2 are the sample sizes of the two groups.\n",
    "\n",
    "Step 3: Calculate the test statistic\n",
    "\n",
    "The formula for the t-test is:\n",
    "\n",
    "t = (x̄1 - x̄2) / [s^2p * (1/n1 + 1/n2)]^0.5\n",
    "\n",
    "where x̄1 and x̄2 are the sample means of the two groups, s^2p is the pooled variance of the two groups, and n1 and n2 are the sample sizes of the two groups.\n",
    "\n",
    "x̄1 = 0.25, x̄2 = ?, s1 = 0.05, s2 = ?, n1 = 30, n2 = 30\n",
    "\n",
    "We assume that the variance in the two groups is equal, so we can calculate the pooled variance as follows:\n",
    "\n",
    "s^2p = [(n1-1)s1^2 + (n2-1)s2^2] / (n1+n2-2)\n",
    "s2 = s1 = 0.05 (given)\n",
    "\n",
    "s^2p = [(30-1)*0.05^2 + (30-1)*0.05^2] / (30+30-2) = 0.00275\n",
    "\n",
    "Now we can calculate the test statistic:\n",
    "\n",
    "t = (0.25 - μ2) / [0.00275 * (1/30 + 1/30)]^0.5\n",
    "\n",
    "Step 4: Determine the critical value and p-value\n",
    "\n",
    "Since this is a two-tailed test, we need to find the critical values at the 0.05 level of significance (α/2 = 0.05/2 = 0.025) with 58 degrees of freedom using a t-table or calculator. The critical values are -2.001 and 2.001.\n",
    "\n",
    "We can also use a t-table or calculator to find the p-value. The p-value is the probability of obtaining a test statistic as extreme or more extreme than the observed value, assuming the null hypothesis is true.\n",
    "\n",
    "Step 5: Make a decision and interpret the results\n",
    "\n",
    "If the test statistic falls outside the critical values or if the p-value is less than the level of significance, we reject the null hypothesis. Otherwise, we fail to reject the null hypothesis.\n",
    "\n",
    "Let's assume that the average reaction time of participants who did not consume caffeine is 0.28 seconds. Then the test statistic is:\n",
    "\n",
    "t = (0.25 - 0.28) / [0.00275 * (1/30 + 1/30)]^0."
   ]
  },
  {
   "cell_type": "markdown",
   "id": "567ed3a4",
   "metadata": {},
   "source": [
    "Thank You \n",
    "Pwskills"
   ]
  },
  {
   "cell_type": "code",
   "execution_count": null,
   "id": "c26d9163",
   "metadata": {},
   "outputs": [],
   "source": []
  }
 ],
 "metadata": {
  "kernelspec": {
   "display_name": "Python 3 (ipykernel)",
   "language": "python",
   "name": "python3"
  },
  "language_info": {
   "codemirror_mode": {
    "name": "ipython",
    "version": 3
   },
   "file_extension": ".py",
   "mimetype": "text/x-python",
   "name": "python",
   "nbconvert_exporter": "python",
   "pygments_lexer": "ipython3",
   "version": "3.9.12"
  }
 },
 "nbformat": 4,
 "nbformat_minor": 5
}
