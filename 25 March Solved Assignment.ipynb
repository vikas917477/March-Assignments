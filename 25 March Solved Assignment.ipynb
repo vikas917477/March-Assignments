{
 "cells": [
  {
   "cell_type": "markdown",
   "id": "3386a55f",
   "metadata": {},
   "source": [
    "# Exploratory Data\n",
    "\n",
    "Analysis-2"
   ]
  },
  {
   "cell_type": "raw",
   "id": "0c022628",
   "metadata": {},
   "source": [
    "Q1. Load the flight price dataset and examine its dimensions. How many rows and columns does the\n",
    "dataset have?"
   ]
  },
  {
   "cell_type": "code",
   "execution_count": 7,
   "id": "5f11335c",
   "metadata": {},
   "outputs": [],
   "source": [
    "#importing basics libraries\n",
    "import pandas as pd\n",
    "import numpy as np\n",
    "import matplotlib.pyplot as plt\n",
    "import seaborn as sns\n",
    "%matplotlib inline"
   ]
  },
  {
   "cell_type": "code",
   "execution_count": 8,
   "id": "d7367321",
   "metadata": {},
   "outputs": [
    {
     "data": {
      "text/html": [
       "<div>\n",
       "<style scoped>\n",
       "    .dataframe tbody tr th:only-of-type {\n",
       "        vertical-align: middle;\n",
       "    }\n",
       "\n",
       "    .dataframe tbody tr th {\n",
       "        vertical-align: top;\n",
       "    }\n",
       "\n",
       "    .dataframe thead th {\n",
       "        text-align: right;\n",
       "    }\n",
       "</style>\n",
       "<table border=\"1\" class=\"dataframe\">\n",
       "  <thead>\n",
       "    <tr style=\"text-align: right;\">\n",
       "      <th></th>\n",
       "      <th>Airline</th>\n",
       "      <th>Date_of_Journey</th>\n",
       "      <th>Source</th>\n",
       "      <th>Destination</th>\n",
       "      <th>Route</th>\n",
       "      <th>Dep_Time</th>\n",
       "      <th>Arrival_Time</th>\n",
       "      <th>Duration</th>\n",
       "      <th>Total_Stops</th>\n",
       "      <th>Additional_Info</th>\n",
       "      <th>Price</th>\n",
       "    </tr>\n",
       "  </thead>\n",
       "  <tbody>\n",
       "    <tr>\n",
       "      <th>0</th>\n",
       "      <td>IndiGo</td>\n",
       "      <td>24/03/2019</td>\n",
       "      <td>Banglore</td>\n",
       "      <td>New Delhi</td>\n",
       "      <td>BLR → DEL</td>\n",
       "      <td>22:20</td>\n",
       "      <td>01:10 22 Mar</td>\n",
       "      <td>2h 50m</td>\n",
       "      <td>non-stop</td>\n",
       "      <td>No info</td>\n",
       "      <td>3897</td>\n",
       "    </tr>\n",
       "    <tr>\n",
       "      <th>1</th>\n",
       "      <td>Air India</td>\n",
       "      <td>1/05/2019</td>\n",
       "      <td>Kolkata</td>\n",
       "      <td>Banglore</td>\n",
       "      <td>CCU → IXR → BBI → BLR</td>\n",
       "      <td>05:50</td>\n",
       "      <td>13:15</td>\n",
       "      <td>7h 25m</td>\n",
       "      <td>2 stops</td>\n",
       "      <td>No info</td>\n",
       "      <td>7662</td>\n",
       "    </tr>\n",
       "    <tr>\n",
       "      <th>2</th>\n",
       "      <td>Jet Airways</td>\n",
       "      <td>9/06/2019</td>\n",
       "      <td>Delhi</td>\n",
       "      <td>Cochin</td>\n",
       "      <td>DEL → LKO → BOM → COK</td>\n",
       "      <td>09:25</td>\n",
       "      <td>04:25 10 Jun</td>\n",
       "      <td>19h</td>\n",
       "      <td>2 stops</td>\n",
       "      <td>No info</td>\n",
       "      <td>13882</td>\n",
       "    </tr>\n",
       "    <tr>\n",
       "      <th>3</th>\n",
       "      <td>IndiGo</td>\n",
       "      <td>12/05/2019</td>\n",
       "      <td>Kolkata</td>\n",
       "      <td>Banglore</td>\n",
       "      <td>CCU → NAG → BLR</td>\n",
       "      <td>18:05</td>\n",
       "      <td>23:30</td>\n",
       "      <td>5h 25m</td>\n",
       "      <td>1 stop</td>\n",
       "      <td>No info</td>\n",
       "      <td>6218</td>\n",
       "    </tr>\n",
       "    <tr>\n",
       "      <th>4</th>\n",
       "      <td>IndiGo</td>\n",
       "      <td>01/03/2019</td>\n",
       "      <td>Banglore</td>\n",
       "      <td>New Delhi</td>\n",
       "      <td>BLR → NAG → DEL</td>\n",
       "      <td>16:50</td>\n",
       "      <td>21:35</td>\n",
       "      <td>4h 45m</td>\n",
       "      <td>1 stop</td>\n",
       "      <td>No info</td>\n",
       "      <td>13302</td>\n",
       "    </tr>\n",
       "  </tbody>\n",
       "</table>\n",
       "</div>"
      ],
      "text/plain": [
       "       Airline Date_of_Journey    Source Destination                  Route  \\\n",
       "0       IndiGo      24/03/2019  Banglore   New Delhi              BLR → DEL   \n",
       "1    Air India       1/05/2019   Kolkata    Banglore  CCU → IXR → BBI → BLR   \n",
       "2  Jet Airways       9/06/2019     Delhi      Cochin  DEL → LKO → BOM → COK   \n",
       "3       IndiGo      12/05/2019   Kolkata    Banglore        CCU → NAG → BLR   \n",
       "4       IndiGo      01/03/2019  Banglore   New Delhi        BLR → NAG → DEL   \n",
       "\n",
       "  Dep_Time  Arrival_Time Duration Total_Stops Additional_Info  Price  \n",
       "0    22:20  01:10 22 Mar   2h 50m    non-stop         No info   3897  \n",
       "1    05:50         13:15   7h 25m     2 stops         No info   7662  \n",
       "2    09:25  04:25 10 Jun      19h     2 stops         No info  13882  \n",
       "3    18:05         23:30   5h 25m      1 stop         No info   6218  \n",
       "4    16:50         21:35   4h 45m      1 stop         No info  13302  "
      ]
     },
     "execution_count": 8,
     "metadata": {},
     "output_type": "execute_result"
    }
   ],
   "source": [
    "df=pd.read_excel('flight_price.xlsx')\n",
    "df.head()"
   ]
  },
  {
   "cell_type": "code",
   "execution_count": 9,
   "id": "005af138",
   "metadata": {},
   "outputs": [
    {
     "name": "stdout",
     "output_type": "stream",
     "text": [
      "Number of rows: 10683\n",
      "Number of columns: 11\n"
     ]
    }
   ],
   "source": [
    "# Print the dimensions of the dataset\n",
    "print(\"Number of rows:\", df.shape[0])\n",
    "print(\"Number of columns:\", df.shape[1])"
   ]
  },
  {
   "cell_type": "raw",
   "id": "fcf809ec",
   "metadata": {},
   "source": [
    "Q2. What is the distribution of flight prices in the dataset? Create a histogram to visualize the\n",
    "distribution."
   ]
  },
  {
   "cell_type": "code",
   "execution_count": 10,
   "id": "f348ec52",
   "metadata": {},
   "outputs": [
    {
     "data": {
      "image/png": "[encoded data removed]",
      "text/plain": [
       "<Figure size 432x288 with 1 Axes>"
      ]
     },
     "metadata": {
      "needs_background": "light"
     },
     "output_type": "display_data"
    }
   ],
   "source": [
    "df = pd.read_excel('flight_price.xlsx')\n",
    "\n",
    "# Create a histogram of flight prices\n",
    "plt.hist(df['Price'], bins=20)\n",
    "plt.xlabel('Flight Price')\n",
    "plt.ylabel('Count')\n",
    "plt.title('Histogram of Flight Prices')\n",
    "plt.show()"
   ]
  },
  {
   "cell_type": "raw",
   "id": "c1d10dd0",
   "metadata": {},
   "source": [
    "Q3. What is the range of prices in the dataset? What is the minimum and maximum price?"
   ]
  },
  {
   "cell_type": "code",
   "execution_count": 11,
   "id": "b84f4c82",
   "metadata": {},
   "outputs": [
    {
     "name": "stdout",
     "output_type": "stream",
     "text": [
      "Minimum Price: 1759\n",
      "Maximum Price: 79512\n"
     ]
    }
   ],
   "source": [
    "# Load the dataset\n",
    "df = pd.read_excel('flight_price.xlsx')\n",
    "\n",
    "# Find the range of prices in the dataset\n",
    "price_min = df['Price'].min()\n",
    "price_max = df['Price'].max()\n",
    "\n",
    "print(\"Minimum Price:\", price_min)\n",
    "print(\"Maximum Price:\", price_max)"
   ]
  },
  {
   "cell_type": "raw",
   "id": "4a8fedd5",
   "metadata": {},
   "source": [
    "Q4. How does the price of flights vary by airline? Create a boxplot to compare the prices of different\n",
    "airlines."
   ]
  },
  {
   "cell_type": "code",
   "execution_count": 12,
   "id": "62a9bd04",
   "metadata": {},
   "outputs": [
    {
     "data": {
      "image/png": "[encoded data removed]",
      "text/plain": [
       "<Figure size 432x288 with 1 Axes>"
      ]
     },
     "metadata": {
      "needs_background": "light"
     },
     "output_type": "display_data"
    }
   ],
   "source": [
    "# Load the dataset\n",
    "df = pd.read_excel('flight_price.xlsx')\n",
    "\n",
    "# Create a boxplot of flight prices by airline\n",
    "sns.boxplot(x='Airline', y='Price', data=df)\n",
    "plt.title('Flight Prices by Airline')\n",
    "plt.show()"
   ]
  },
  {
   "cell_type": "raw",
   "id": "4ee81743",
   "metadata": {},
   "source": [
    "Q5. Are there any outliers in the dataset? Identify any potential outliers using a boxplot and describe how\n",
    "they may impact your analysis."
   ]
  },
  {
   "cell_type": "code",
   "execution_count": 13,
   "id": "6004a760",
   "metadata": {},
   "outputs": [
    {
     "data": {
      "image/png": "[encoded data removed]",
      "text/plain": [
       "<Figure size 432x288 with 1 Axes>"
      ]
     },
     "metadata": {
      "needs_background": "light"
     },
     "output_type": "display_data"
    }
   ],
   "source": [
    "# Load the dataset\n",
    "df = pd.read_excel('flight_price.xlsx')\n",
    "\n",
    "# Create a boxplot of flight prices\n",
    "sns.boxplot(x='Price', data=df)\n",
    "plt.title('Flight Prices')\n",
    "plt.show()"
   ]
  },
  {
   "cell_type": "raw",
   "id": "e0b37074",
   "metadata": {},
   "source": [
    "Q6. You are working for a travel agency, and your boss has asked you to analyze the Flight Price dataset\n",
    "to identify the peak travel season. What features would you analyze to identify the peak season, and how\n",
    "would you present your findings to your boss?"
   ]
  },
  {
   "cell_type": "markdown",
   "id": "4574aa9d",
   "metadata": {},
   "source": [
    "To identify the peak travel season in the Flight Price dataset, here are some features you could analyze:\n",
    "\n",
    "1. Month/Season: You could analyze the distribution of flight prices by month or season to identify any trends or patterns.\n",
    "\n",
    "2. Departure City/Destination City: You could analyze the distribution of flight prices by departure and destination city to identify any seasonal variations.\n",
    "\n",
    "3. Airline: You could analyze the distribution of flight prices by airline to identify any seasonal variations in pricing.\n",
    "\n",
    "Once you have identified the peak travel season based on these features, you could present your findings to your boss in the following ways:\n",
    "\n",
    "1. Visualizations: You could create visualizations such as line charts or bar charts to show the distribution of flight prices over time or by location.\n",
    "\n",
    "2. Summary Statistics: You could calculate summary statistics such as mean, median, and standard deviation to show the average flight prices during the peak travel season compared to other times of the year.\n",
    "\n",
    "3. Recommendations: Based on your findings, you could provide recommendations to your boss on how to optimize pricing and marketing strategies during the peak travel season to increase sales and revenue.\n",
    "\n",
    "Overall, by analyzing the Flight Price dataset and presenting your findings to your boss, you can help your travel agency make data-driven decisions and improve business performance."
   ]
  },
  {
   "cell_type": "raw",
   "id": "7d1c7ed9",
   "metadata": {},
   "source": [
    "Q7. You are a data analyst for a flight booking website, and you have been asked to analyze the Flight\n",
    "Price dataset to identify any trends in flight prices. What features would you analyze to identify these\n",
    "trends, and what visualizations would you use to present your findings to your team?"
   ]
  },
  {
   "cell_type": "markdown",
   "id": "2cc514f8",
   "metadata": {},
   "source": [
    "To identify trends in flight prices in the Flight Price dataset, here are some features you could analyze:\n",
    "\n",
    "1. Time: You could analyze the distribution of flight prices over time to identify any seasonal variations or trends.\n",
    "\n",
    "2. Departure City/Destination City: You could analyze the distribution of flight prices by departure and destination city to identify any geographic trends or patterns.\n",
    "\n",
    "3. Airline: You could analyze the distribution of flight prices by airline to identify any pricing trends or patterns.\n",
    "\n",
    "4. Flight Route: You could analyze the distribution of flight prices by route to identify any pricing trends or patterns.\n",
    "\n",
    "Once you have identified trends in flight prices based on these features, you could present your findings to your team using the following visualizations:\n",
    "\n",
    "1. Line Charts: You could create line charts to show the distribution of flight prices over time or by location, which can help identify any seasonal or geographic trends.\n",
    "\n",
    "2. Heatmaps: You could create heatmaps to show the distribution of flight prices by month or location, which can help identify any seasonal or geographic patterns.\n",
    "\n",
    "3. Bar Charts: You could create bar charts to show the distribution of flight prices by airline or route, which can help identify any pricing trends or patterns.\n",
    "\n",
    "4. Boxplots: You could create boxplots to show the distribution of flight prices by airline or route, which can help identify any outliers or extreme values.\n",
    "\n",
    "Overall, by analyzing the Flight Price dataset and presenting your findings to your team using appropriate visualizations, you can help your flight booking website make data-driven decisions and optimize pricing strategies to improve customer satisfaction and business performance."
   ]
  },
  {
   "cell_type": "raw",
   "id": "576f0abf",
   "metadata": {},
   "source": [
    "Q8. You are a data scientist working for an airline company, and you have been asked to analyze the\n",
    "Flight Price dataset to identify the factors that affect flight prices. What features would you analyze to\n",
    "identify these factors, and how would you present your findings to the management team?"
   ]
  },
  {
   "cell_type": "markdown",
   "id": "3d2ccae8",
   "metadata": {},
   "source": [
    "To identify the factors that affect flight prices in the Flight Price dataset, here are some features you could analyze:\n",
    "\n",
    "1. Departure City/Destination City: You could analyze the distribution of flight prices by departure and destination city to identify any geographic variations.\n",
    "\n",
    "2. Airline: You could analyze the distribution of flight prices by airline to identify any pricing variations.\n",
    "\n",
    "3. Flight Route: You could analyze the distribution of flight prices by route to identify any pricing variations.\n",
    "\n",
    "4. Departure Time/Day of the Week: You could analyze the distribution of flight prices by departure time and day of the week to identify any variations due to peak or off-peak travel times.\n",
    "\n",
    "5. Booking Time: You could analyze the distribution of flight prices by the time of booking to identify any variations due to last-minute bookings or early bookings.\n",
    "\n",
    "Once you have identified the factors that affect flight prices based on these features, you could present your findings to the management team using the following methods:\n",
    "\n",
    "1. Regression Analysis: You could perform regression analysis to identify the factors that have a significant impact on flight prices, and quantify the impact of each factor.\n",
    "\n",
    "2. Visualizations: You could create visualizations such as scatterplots, heatmaps, or boxplots to show the relationship between flight prices and different factors.\n",
    "\n",
    "3. Summary Statistics: You could calculate summary statistics such as mean, median, and standard deviation to show the average flight prices associated with different factors.\n",
    "\n",
    "4. Recommendations: Based on your findings, you could provide recommendations to the management team on how to optimize pricing strategies, flight scheduling, or booking policies to improve business performance.\n",
    "\n",
    "Overall, by analyzing the Flight Price dataset and presenting your findings to the management team using appropriate methods, you can help the airline company make data-driven decisions and optimize pricing strategies to improve revenue and customer satisfaction."
   ]
  },
  {
   "cell_type": "markdown",
   "id": "107080b9",
   "metadata": {},
   "source": [
    "# Google Playstore:"
   ]
  },
  {
   "cell_type": "raw",
   "id": "b74479df",
   "metadata": {},
   "source": [
    "Q9. Load the Google Playstore dataset and examine its dimensions. How many rows and columns does\n",
    "the dataset have?"
   ]
  },
  {
   "cell_type": "code",
   "execution_count": 14,
   "id": "5b3dfe44",
   "metadata": {},
   "outputs": [],
   "source": [
    "import pandas as pd\n",
    "import numpy as np\n",
    "import matplotlib.pyplot as plt\n",
    "import seaborn as sns\n",
    "import warnings\n",
    "\n",
    "warnings.filterwarnings(\"ignore\")\n",
    "\n",
    "%matplotlib inline"
   ]
  },
  {
   "cell_type": "code",
   "execution_count": 15,
   "id": "39b9a554",
   "metadata": {},
   "outputs": [
    {
     "data": {
      "text/html": [
       "<div>\n",
       "<style scoped>\n",
       "    .dataframe tbody tr th:only-of-type {\n",
       "        vertical-align: middle;\n",
       "    }\n",
       "\n",
       "    .dataframe tbody tr th {\n",
       "        vertical-align: top;\n",
       "    }\n",
       "\n",
       "    .dataframe thead th {\n",
       "        text-align: right;\n",
       "    }\n",
       "</style>\n",
       "<table border=\"1\" class=\"dataframe\">\n",
       "  <thead>\n",
       "    <tr style=\"text-align: right;\">\n",
       "      <th></th>\n",
       "      <th>App</th>\n",
       "      <th>Category</th>\n",
       "      <th>Rating</th>\n",
       "      <th>Reviews</th>\n",
       "      <th>Size</th>\n",
       "      <th>Installs</th>\n",
       "      <th>Type</th>\n",
       "      <th>Price</th>\n",
       "      <th>Content Rating</th>\n",
       "      <th>Genres</th>\n",
       "      <th>Last Updated</th>\n",
       "      <th>Current Ver</th>\n",
       "      <th>Android Ver</th>\n",
       "    </tr>\n",
       "  </thead>\n",
       "  <tbody>\n",
       "    <tr>\n",
       "      <th>0</th>\n",
       "      <td>Photo Editor &amp; Candy Camera &amp; Grid &amp; ScrapBook</td>\n",
       "      <td>ART_AND_DESIGN</td>\n",
       "      <td>4.1</td>\n",
       "      <td>159</td>\n",
       "      <td>19M</td>\n",
       "      <td>10,000+</td>\n",
       "      <td>Free</td>\n",
       "      <td>0</td>\n",
       "      <td>Everyone</td>\n",
       "      <td>Art &amp; Design</td>\n",
       "      <td>January 7, 2018</td>\n",
       "      <td>1.0.0</td>\n",
       "      <td>4.0.3 and up</td>\n",
       "    </tr>\n",
       "    <tr>\n",
       "      <th>1</th>\n",
       "      <td>Coloring book moana</td>\n",
       "      <td>ART_AND_DESIGN</td>\n",
       "      <td>3.9</td>\n",
       "      <td>967</td>\n",
       "      <td>14M</td>\n",
       "      <td>500,000+</td>\n",
       "      <td>Free</td>\n",
       "      <td>0</td>\n",
       "      <td>Everyone</td>\n",
       "      <td>Art &amp; Design;Pretend Play</td>\n",
       "      <td>January 15, 2018</td>\n",
       "      <td>2.0.0</td>\n",
       "      <td>4.0.3 and up</td>\n",
       "    </tr>\n",
       "    <tr>\n",
       "      <th>2</th>\n",
       "      <td>U Launcher Lite – FREE Live Cool Themes, Hide ...</td>\n",
       "      <td>ART_AND_DESIGN</td>\n",
       "      <td>4.7</td>\n",
       "      <td>87510</td>\n",
       "      <td>8.7M</td>\n",
       "      <td>5,000,000+</td>\n",
       "      <td>Free</td>\n",
       "      <td>0</td>\n",
       "      <td>Everyone</td>\n",
       "      <td>Art &amp; Design</td>\n",
       "      <td>August 1, 2018</td>\n",
       "      <td>1.2.4</td>\n",
       "      <td>4.0.3 and up</td>\n",
       "    </tr>\n",
       "    <tr>\n",
       "      <th>3</th>\n",
       "      <td>Sketch - Draw &amp; Paint</td>\n",
       "      <td>ART_AND_DESIGN</td>\n",
       "      <td>4.5</td>\n",
       "      <td>215644</td>\n",
       "      <td>25M</td>\n",
       "      <td>50,000,000+</td>\n",
       "      <td>Free</td>\n",
       "      <td>0</td>\n",
       "      <td>Teen</td>\n",
       "      <td>Art &amp; Design</td>\n",
       "      <td>June 8, 2018</td>\n",
       "      <td>Varies with device</td>\n",
       "      <td>4.2 and up</td>\n",
       "    </tr>\n",
       "    <tr>\n",
       "      <th>4</th>\n",
       "      <td>Pixel Draw - Number Art Coloring Book</td>\n",
       "      <td>ART_AND_DESIGN</td>\n",
       "      <td>4.3</td>\n",
       "      <td>967</td>\n",
       "      <td>2.8M</td>\n",
       "      <td>100,000+</td>\n",
       "      <td>Free</td>\n",
       "      <td>0</td>\n",
       "      <td>Everyone</td>\n",
       "      <td>Art &amp; Design;Creativity</td>\n",
       "      <td>June 20, 2018</td>\n",
       "      <td>1.1</td>\n",
       "      <td>4.4 and up</td>\n",
       "    </tr>\n",
       "  </tbody>\n",
       "</table>\n",
       "</div>"
      ],
      "text/plain": [
       "                                                 App        Category  Rating  \\\n",
       "0     Photo Editor & Candy Camera & Grid & ScrapBook  ART_AND_DESIGN     4.1   \n",
       "1                                Coloring book moana  ART_AND_DESIGN     3.9   \n",
       "2  U Launcher Lite – FREE Live Cool Themes, Hide ...  ART_AND_DESIGN     4.7   \n",
       "3                              Sketch - Draw & Paint  ART_AND_DESIGN     4.5   \n",
       "4              Pixel Draw - Number Art Coloring Book  ART_AND_DESIGN     4.3   \n",
       "\n",
       "  Reviews  Size     Installs  Type Price Content Rating  \\\n",
       "0     159   19M      10,000+  Free     0       Everyone   \n",
       "1     967   14M     500,000+  Free     0       Everyone   \n",
       "2   87510  8.7M   5,000,000+  Free     0       Everyone   \n",
       "3  215644   25M  50,000,000+  Free     0           Teen   \n",
       "4     967  2.8M     100,000+  Free     0       Everyone   \n",
       "\n",
       "                      Genres      Last Updated         Current Ver  \\\n",
       "0               Art & Design   January 7, 2018               1.0.0   \n",
       "1  Art & Design;Pretend Play  January 15, 2018               2.0.0   \n",
       "2               Art & Design    August 1, 2018               1.2.4   \n",
       "3               Art & Design      June 8, 2018  Varies with device   \n",
       "4    Art & Design;Creativity     June 20, 2018                 1.1   \n",
       "\n",
       "    Android Ver  \n",
       "0  4.0.3 and up  \n",
       "1  4.0.3 and up  \n",
       "2  4.0.3 and up  \n",
       "3    4.2 and up  \n",
       "4    4.4 and up  "
      ]
     },
     "execution_count": 15,
     "metadata": {},
     "output_type": "execute_result"
    }
   ],
   "source": [
    "df=pd.read_csv('https://raw.githubusercontent.com/krishnaik06/playstore-Dataset/main/googleplaystore.csv')\n",
    "df.head()"
   ]
  },
  {
   "cell_type": "code",
   "execution_count": 16,
   "id": "8af64a77",
   "metadata": {},
   "outputs": [
    {
     "name": "stdout",
     "output_type": "stream",
     "text": [
      "Number of rows: 10841\n",
      "Number of columns: 13\n"
     ]
    }
   ],
   "source": [
    "# Print the dimensions of the dataset\n",
    "print(\"Number of rows:\", df.shape[0])\n",
    "print(\"Number of columns:\", df.shape[1])"
   ]
  },
  {
   "cell_type": "raw",
   "id": "7248b188",
   "metadata": {},
   "source": [
    "Q10. How does the rating of apps vary by category? Create a boxplot to compare the ratings of different\n",
    "app categories."
   ]
  },
  {
   "cell_type": "code",
   "execution_count": 18,
   "id": "8d723955",
   "metadata": {},
   "outputs": [
    {
     "data": {
      "text/plain": [
       "<Figure size 720x432 with 0 Axes>"
      ]
     },
     "metadata": {},
     "output_type": "display_data"
    },
    {
     "data": {
      "image/png": "[encoded data removed]",
      "text/plain": [
       "<Figure size 432x288 with 1 Axes>"
      ]
     },
     "metadata": {
      "needs_background": "light"
     },
     "output_type": "display_data"
    }
   ],
   "source": [
    "# Load the dataset\n",
    "df=pd.read_csv('https://raw.githubusercontent.com/krishnaik06/playstore-Dataset/main/googleplaystore.csv')\n",
    "\n",
    "# Filter out any apps with missing ratings or categories\n",
    "df = df.dropna(subset=['Rating', 'Category'])\n",
    "\n",
    "# Create a boxplot to compare the ratings of different app categories\n",
    "plt.figure(figsize=(10, 6))\n",
    "df.boxplot(column=['Rating'], by='Category', rot=90)\n",
    "plt.title('Boxplot of App Ratings by Category')\n",
    "plt.ylabel('Rating')\n",
    "plt.show()"
   ]
  },
  {
   "cell_type": "markdown",
   "id": "08ae0291",
   "metadata": {},
   "source": [
    "This visualization can help us understand how the rating of apps varies by category, and which categories tend to have higher or lower ratings. We can use this information to make data-driven decisions about which categories of apps to invest in, which categories may need improvement, and how to optimize app development and marketing strategies to improve user ratings and satisfaction.\n",
    "\n",
    "\n",
    "\n"
   ]
  },
  {
   "cell_type": "raw",
   "id": "00c99918",
   "metadata": {},
   "source": [
    "Q11. Are there any missing values in the dataset? Identify any missing values and describe how they may\n",
    "impact your analysis."
   ]
  },
  {
   "cell_type": "code",
   "execution_count": 19,
   "id": "175997e9",
   "metadata": {},
   "outputs": [
    {
     "name": "stdout",
     "output_type": "stream",
     "text": [
      "App               0\n",
      "Category          0\n",
      "Rating            0\n",
      "Reviews           0\n",
      "Size              0\n",
      "Installs          0\n",
      "Type              0\n",
      "Price             0\n",
      "Content Rating    1\n",
      "Genres            0\n",
      "Last Updated      0\n",
      "Current Ver       4\n",
      "Android Ver       3\n",
      "dtype: int64\n"
     ]
    }
   ],
   "source": [
    "# Check for missing values\n",
    "print(df.isna().sum())"
   ]
  },
  {
   "cell_type": "raw",
   "id": "f1c8abb6",
   "metadata": {},
   "source": [
    "Q12. What is the relationship between the size of an app and its rating? Create a scatter plot to visualize\n",
    "the relationship."
   ]
  },
  {
   "cell_type": "code",
   "execution_count": 28,
   "id": "5d97147c",
   "metadata": {},
   "outputs": [
    {
     "data": {
      "image/png": "[encoded data removed]",
      "text/plain": [
       "<Figure size 720x432 with 1 Axes>"
      ]
     },
     "metadata": {
      "needs_background": "light"
     },
     "output_type": "display_data"
    }
   ],
   "source": [
    "# Filter out any apps with missing ratings or sizes\n",
    "df=pd.read_csv('https://raw.githubusercontent.com/krishnaik06/playstore-Dataset/main/googleplaystore.csv')\n",
    "\n",
    "df = df.dropna(subset=['Rating', 'Size'])\n",
    "\n",
    "\n",
    "# Create a scatter plot of app size vs. rating\n",
    "plt.figure(figsize=(10, 6))\n",
    "plt.scatter(df['Size'], df['Rating'])\n",
    "plt.title('Scatter Plot of App Size vs. Rating')\n",
    "plt.xlabel('Size (KB)')\n",
    "plt.ylabel('Rating')\n",
    "plt.show()"
   ]
  },
  {
   "cell_type": "raw",
   "id": "d95705d9",
   "metadata": {},
   "source": [
    "Q13. How does the type of app affect its price? Create a bar chart to compare average prices by app type."
   ]
  },
  {
   "cell_type": "code",
   "execution_count": 36,
   "id": "22d385b4",
   "metadata": {},
   "outputs": [
    {
     "ename": "NameError",
     "evalue": "name 'avg_price_by_type' is not defined",
     "output_type": "error",
     "traceback": [
      "\u001b[1;31m---------------------------------------------------------------------------\u001b[0m",
      "\u001b[1;31mNameError\u001b[0m                                 Traceback (most recent call last)",
      "Input \u001b[1;32mIn [36]\u001b[0m, in \u001b[0;36m<cell line: 2>\u001b[1;34m()\u001b[0m\n\u001b[0;32m      1\u001b[0m \u001b[38;5;66;03m# Create a bar chart of the average price by app type\u001b[39;00m\n\u001b[1;32m----> 2\u001b[0m \u001b[43mavg_price_by_type\u001b[49m\u001b[38;5;241m.\u001b[39mplot(kind\u001b[38;5;241m=\u001b[39m\u001b[38;5;124m'\u001b[39m\u001b[38;5;124mbar\u001b[39m\u001b[38;5;124m'\u001b[39m)\n\u001b[0;32m      4\u001b[0m \u001b[38;5;66;03m# Set the chart title and axis labels\u001b[39;00m\n\u001b[0;32m      5\u001b[0m plt\u001b[38;5;241m.\u001b[39mtitle(\u001b[38;5;124m'\u001b[39m\u001b[38;5;124mAverage Price by App Type\u001b[39m\u001b[38;5;124m'\u001b[39m)\n",
      "\u001b[1;31mNameError\u001b[0m: name 'avg_price_by_type' is not defined"
     ]
    }
   ],
   "source": [
    "# Create a bar chart of the average price by app type\n",
    "avg_price_by_type.plot(kind='bar')\n",
    "\n",
    "# Set the chart title and axis labels\n",
    "plt.title('Average Price by App Type')\n",
    "plt.xlabel('App Type')\n",
    "plt.ylabel('Average Price')\n",
    "\n",
    "# Show the chart\n",
    "plt.show()"
   ]
  },
  {
   "cell_type": "raw",
   "id": "fff9d6ef",
   "metadata": {},
   "source": [
    "Q14. What are the top 10 most popular apps in the dataset? Create a frequency table to identify the apps\n",
    "with the highest number of installs."
   ]
  },
  {
   "cell_type": "code",
   "execution_count": 32,
   "id": "57350077",
   "metadata": {},
   "outputs": [
    {
     "name": "stdout",
     "output_type": "stream",
     "text": [
      "                                               App      Installs\n",
      "10472      Life Made WI-Fi Touchscreen Photo Frame          Free\n",
      "420    UC Browser - Fast Download Private & Secure  500,000,000+\n",
      "474                    LINE: Free Calls & Messages  500,000,000+\n",
      "3767                  Flipboard: News For Our Time  500,000,000+\n",
      "3574                                   Cloud Print  500,000,000+\n",
      "3326                  Gboard - the Google Keyboard  500,000,000+\n",
      "431                                Viber Messenger  500,000,000+\n",
      "4222                 imo free video calls and chat  500,000,000+\n",
      "3235                              Google Translate  500,000,000+\n",
      "1842                              Candy Crush Saga  500,000,000+\n"
     ]
    }
   ],
   "source": [
    "# Sort the dataset by number of installs in descending order\n",
    "df_sorted = df.sort_values('Installs', ascending=False)\n",
    "\n",
    "# Select the top 10 most popular apps\n",
    "top_10_apps = df_sorted[['App', 'Installs']].head(10)\n",
    "\n",
    "# Print the top 10 apps\n",
    "print(top_10_apps)"
   ]
  },
  {
   "cell_type": "code",
   "execution_count": 38,
   "id": "4797d41f",
   "metadata": {},
   "outputs": [
    {
     "name": "stdout",
     "output_type": "stream",
     "text": [
      "1,000,000+        1579\n",
      "10,000,000+       1252\n",
      "100,000+          1169\n",
      "10,000+           1054\n",
      "1,000+             907\n",
      "5,000,000+         752\n",
      "100+               719\n",
      "500,000+           539\n",
      "50,000+            479\n",
      "5,000+             477\n",
      "100,000,000+       409\n",
      "10+                386\n",
      "500+               330\n",
      "50,000,000+        289\n",
      "50+                205\n",
      "5+                  82\n",
      "500,000,000+        72\n",
      "1+                  67\n",
      "1,000,000,000+      58\n",
      "0+                  14\n",
      "0                    1\n",
      "Free                 1\n",
      "Name: Installs, dtype: int64\n"
     ]
    }
   ],
   "source": [
    "# Create a frequency table of app installs\n",
    "install_counts = df['Installs'].value_counts()\n",
    "\n",
    "# Print the frequency table\n",
    "print(install_counts)"
   ]
  },
  {
   "cell_type": "raw",
   "id": "5e3d7f00",
   "metadata": {},
   "source": [
    "Q15. A company wants to launch a new app on the Google Playstore and has asked you to analyze the\n",
    "Google Playstore dataset to identify the most popular app categories. How would you approach this\n",
    "task, and what features would you analyze to make recommendations to the company?"
   ]
  },
  {
   "cell_type": "markdown",
   "id": "402eda11",
   "metadata": {},
   "source": [
    "To identify the most popular app categories on the Google Playstore, we can approach this task by analyzing the following features:\n",
    "\n",
    "1. Number of installs: This feature would give us a sense of how popular an app category is by looking at the number of downloads or installs of apps in that category.\n",
    "\n",
    "2. Ratings: We can analyze the ratings of apps in each category to understand how well they are received by users.\n",
    "\n",
    "3. Reviews: Reviews can give us insights into what users think about the apps in each category and can help us identify areas for improvement.\n",
    "\n",
    "4. App size: App size can impact how many users are willing to download an app, so we can analyze the app sizes of each category to determine if there are any trends.\n",
    "\n",
    "5. Price: The price of an app can impact its popularity, so we can analyze the pricing of apps in each category to identify trends.\n",
    "\n",
    "Using these features, we can analyze the dataset to identify the most popular app categories. We can use a combination of frequency tables, bar charts, and scatter plots to visualize the data and identify any trends.\n",
    "\n",
    "For example, we can create a frequency table to identify the app categories with the highest number of installs, a bar chart to compare average ratings by category, and a scatter plot to compare app size and ratings by category. Based on our analysis, we can make recommendations to the company about which app categories are the most popular and would be a good fit for their new app."
   ]
  },
  {
   "cell_type": "raw",
   "id": "84f3d0cf",
   "metadata": {},
   "source": [
    "Q16. A mobile app development company wants to analyze the Google Playstore dataset to identify the\n",
    "most successful app developers. What features would you analyze to make recommendations to the\n",
    "company, and what data visualizations would you use to present your findings?"
   ]
  },
  {
   "cell_type": "markdown",
   "id": "1cf5f457",
   "metadata": {},
   "source": [
    "To identify the most successful app developers, the following features can be analyzed:\n",
    "\n",
    "1. Number of installs: Developers with a higher number of installs are likely to be more successful.\n",
    "\n",
    "2. User ratings: Developers with high user ratings are likely to have a higher user retention rate, leading to increased success in the long run.\n",
    "\n",
    "3. App category: Developers who specialize in popular app categories may have a higher chance of success.\n",
    "\n",
    "To present the findings, the following data visualizations can be used:\n",
    "\n",
    "1. A scatter plot with the number of installs on the x-axis and user ratings on the y-axis, with different developers represented by different colors or shapes.\n",
    "\n",
    "2. A bar chart comparing the average number of installs and ratings for each developer.\n",
    "\n",
    "3. A pie chart showing the distribution of app categories for each developer.\n",
    "\n",
    "These visualizations can help the company identify the most successful app developers and the factors that contribute to their success."
   ]
  },
  {
   "cell_type": "raw",
   "id": "c95570c3",
   "metadata": {},
   "source": [
    "Q17. A marketing research firm wants to analyze the Google Playstore dataset to identify the best time to\n",
    "launch a new app. What features would you analyze to make recommendations to the company, and\n",
    "what data visualizations would you use to present your findings?"
   ]
  },
  {
   "cell_type": "markdown",
   "id": "57197ccc",
   "metadata": {},
   "source": [
    "To identify the best time to launch a new app, the marketing research firm can analyze the following features:\n",
    "\n",
    "1. Average rating: Analyze the average rating of apps launched during different times of the year to see if there is a correlation between the launch date and the app's success. This can be visualized using a line chart.\n",
    "\n",
    "2. Number of installs: Analyze the number of installs for apps launched during different times of the year to see if there are any trends in user behavior. This can be visualized using a bar chart or a line chart.\n",
    "\n",
    "3. Competition: Analyze the number of apps launched during different times of the year to identify periods with high competition. This can be visualized using a line chart.\n",
    "\n",
    "4. App category: Analyze the popularity of different app categories during different times of the year to identify potential gaps in the market. This can be visualized using a bar chart.\n",
    "\n",
    "5. Price: Analyze the average price of apps launched during different times of the year to identify periods when users are more willing to pay for apps. This can be visualized using a line chart or a box plot.\n",
    "\n",
    "Overall, the marketing research firm should look for patterns and trends in the data that can help identify the best time to launch a new app. The results can be presented using various data visualizations such as line charts, bar charts, and box plots."
   ]
  },
  {
   "cell_type": "raw",
   "id": "9c2b0549",
   "metadata": {},
   "source": [
    "Thank You"
   ]
  },
  {
   "cell_type": "code",
   "execution_count": null,
   "id": "50736f9f",
   "metadata": {},
   "outputs": [],
   "source": []
  }
 ],
 "metadata": {
  "kernelspec": {
   "display_name": "Python 3 (ipykernel)",
   "language": "python",
   "name": "python3"
  },
  "language_info": {
   "codemirror_mode": {
    "name": "ipython",
    "version": 3
   },
   "file_extension": ".py",
   "mimetype": "text/x-python",
   "name": "python",
   "nbconvert_exporter": "python",
   "pygments_lexer": "ipython3",
   "version": "3.9.12"
  }
 },
 "nbformat": 4,
 "nbformat_minor": 5
}
