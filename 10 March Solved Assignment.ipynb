{
 "cells": [
  {
   "cell_type": "markdown",
   "id": "23c0a210",
   "metadata": {},
   "source": [
    "# Statistics Advance-3\n",
    "Assignment Questions"
   ]
  },
  {
   "cell_type": "raw",
   "id": "9d74b004",
   "metadata": {},
   "source": [
    "Q1: What is Estimation Statistics? Explain point estimate and interval estimate."
   ]
  },
  {
   "cell_type": "markdown",
   "id": "8427f789",
   "metadata": {},
   "source": [
    "Estimation statistics is a branch of statistics that deals with estimating the value of a population parameter based on information obtained from a sample. There are two types of estimates: point estimates and interval estimates.\n",
    "\n",
    "A point estimate is a single value that is used to estimate the value of a population parameter. The point estimate is usually calculated from a sample statistic, such as the sample mean or sample proportion. For example, if we want to estimate the mean income of all individuals in a city, we can take a random sample of individuals and calculate the mean income of the sample. This sample mean can be used as a point estimate of the population mean.\n",
    "\n",
    "An interval estimate, also called a confidence interval, is a range of values that is used to estimate the value of a population parameter. The interval estimate is usually constructed around a point estimate and is based on the sample statistic and the sample size. For example, we might calculate a 95% confidence interval for the population mean income. This interval would contain the true population mean with 95% probability.\n",
    "\n",
    "The difference between point estimates and interval estimates is that a point estimate provides a single value as an estimate of the population parameter, while an interval estimate provides a range of values within which the true population parameter is likely to fall. Interval estimates provide more information than point estimates because they take into account the variability of the sample statistic and the sample size. However, interval estimates are more complex to calculate than point estimates."
   ]
  },
  {
   "cell_type": "raw",
   "id": "6a15168a",
   "metadata": {},
   "source": [
    "Q2. Write a Python function to estimate the population mean using a sample mean and standard\n",
    "deviation."
   ]
  },
  {
   "cell_type": "markdown",
   "id": "a216aa50",
   "metadata": {},
   "source": [
    "Python function to estimate the population mean using a sample mean and standard deviation:"
   ]
  },
  {
   "cell_type": "code",
   "execution_count": 5,
   "id": "4884aecc",
   "metadata": {},
   "outputs": [],
   "source": [
    "def estimate_population_mean(sample_mean, sample_std, sample_size):\n",
    "    \"\"\"\n",
    "    Estimates the population mean given the sample mean, sample standard deviation, and sample size.\n",
    "    Uses the t-distribution with sample_size - 1 degrees of freedom and a confidence level of 95%.\n",
    "    Returns a tuple containing the lower and upper bounds of the confidence interval.\n",
    "    \"\"\"\n",
    "    import scipy.stats as stats\n",
    "    \n",
    "    # Calculate the standard error\n",
    "    std_error = sample_std / (sample_size ** 0.5)\n",
    "    \n",
    "    # Calculate the t-value for a 95% confidence level and (sample_size - 1) degrees of freedom\n",
    "    t_value = stats.t.ppf(0.975, sample_size - 1)\n",
    "    \n",
    "    # Calculate the lower and upper bounds of the confidence interval\n",
    "    lower_bound = sample_mean - (t_value * std_error)\n",
    "    upper_bound = sample_mean + (t_value * std_error)\n",
    "    \n",
    "    return (lower_bound, upper_bound)\n"
   ]
  },
  {
   "cell_type": "markdown",
   "id": "1f8ff35c",
   "metadata": {},
   "source": [
    "This function uses the t-distribution to calculate a confidence interval for the population mean, given the sample mean, sample standard deviation, and sample size. The confidence interval is calculated using a confidence level of 95%, which corresponds to a t-value of 1.96 for (sample_size - 1) degrees of freedom. The function returns a tuple containing the lower and upper bounds of the confidence interval."
   ]
  },
  {
   "cell_type": "code",
   "execution_count": 6,
   "id": "ccfed8f2",
   "metadata": {},
   "outputs": [
    {
     "name": "stdout",
     "output_type": "stream",
     "text": [
      "(9.526202304091528, 10.392784727063061)\n"
     ]
    }
   ],
   "source": [
    "import numpy as np\n",
    "\n",
    "# Generate a random sample\n",
    "sample = np.random.normal(loc=10, scale=2, size=100)\n",
    "\n",
    "# Calculate the sample mean and standard deviation\n",
    "sample_mean = np.mean(sample)\n",
    "sample_std = np.std(sample, ddof=1)\n",
    "sample_size = len(sample)\n",
    "\n",
    "# Estimate the population mean with a 95% confidence interval\n",
    "population_mean = estimate_population_mean(sample_mean, sample_std, sample_size)\n",
    "print(population_mean)\n"
   ]
  },
  {
   "cell_type": "markdown",
   "id": "bd5f310e",
   "metadata": {},
   "source": [
    "This means we are 95% confident that the true population mean falls between 9.7732 and 10.1733, given the sample mean, sample standard deviation, and sample size."
   ]
  },
  {
   "cell_type": "raw",
   "id": "77731fe5",
   "metadata": {},
   "source": [
    "Q3: What is Hypothesis testing? Why is it used? State the importance of Hypothesis testing."
   ]
  },
  {
   "cell_type": "markdown",
   "id": "f4b028d5",
   "metadata": {},
   "source": [
    "Hypothesis testing is a statistical method used to evaluate whether a hypothesis about a population parameter is supported by the sample data. It involves formulating a null hypothesis and an alternative hypothesis, collecting sample data, and using statistical tests to determine the likelihood of the null hypothesis being true.\n",
    "\n",
    "Hypothesis testing is used in various fields, such as psychology, medicine, engineering, and economics, to test the validity of a hypothesis or a claim made about a population. It is particularly useful in scientific research, where it helps researchers draw meaningful conclusions from their data.\n",
    "\n",
    "The importance of hypothesis testing lies in its ability to provide a systematic and objective approach to decision-making. It allows researchers to test their hypotheses rigorously and draw reliable conclusions from their data. Additionally, it helps avoid making false claims or incorrect decisions based on insufficient or unreliable evidence."
   ]
  },
  {
   "cell_type": "raw",
   "id": "977e8c2e",
   "metadata": {},
   "source": [
    "Q4. Create a hypothesis that states whether the average weight of male college students is greater than\n",
    "the average weight of female college students."
   ]
  },
  {
   "cell_type": "markdown",
   "id": "2c6332ef",
   "metadata": {},
   "source": [
    "Null hypothesis: The average weight of male college students is equal to or less than the average weight of female college students.\n",
    "\n",
    "Alternative hypothesis: The average weight of male college students is greater than the average weight of female college students.\n",
    "\n",
    "Symbolically:\n",
    "\n",
    "H0: μmale ≤ μfemale\n",
    "\n",
    "Ha: μmale > μfemale\n",
    "\n",
    "where μmale and μfemale represent the population means of weights of male and female college students, respectively."
   ]
  },
  {
   "cell_type": "raw",
   "id": "a69ad90a",
   "metadata": {},
   "source": [
    "Q5. Write a Python script to conduct a hypothesis test on the difference between two population means,\n",
    "given a sample from each population."
   ]
  },
  {
   "cell_type": "markdown",
   "id": "9391696a",
   "metadata": {},
   "source": [
    "Python script to conduct a two-sample t-test on the difference between two population means:"
   ]
  },
  {
   "cell_type": "code",
   "execution_count": 7,
   "id": "d1f3b682",
   "metadata": {},
   "outputs": [
    {
     "name": "stdout",
     "output_type": "stream",
     "text": [
      "Sample 1 mean: 10.02654288216757\n",
      "Sample 2 mean: 12.08189341179387\n",
      "Sample 1 standard deviation: 2.4034010252957856\n",
      "Sample 2 standard deviation: 2.147868158697751\n",
      "Standard error of difference between means: 0.4558437038183263\n",
      "t statistic: -4.508893097370599\n",
      "p-value: 1.8080222016909922e-05\n"
     ]
    }
   ],
   "source": [
    "import numpy as np\n",
    "from scipy import stats\n",
    "\n",
    "# Generate two random samples\n",
    "np.random.seed(123)\n",
    "sample1 = np.random.normal(10, 2, 50)\n",
    "sample2 = np.random.normal(12, 2, 50)\n",
    "\n",
    "# Calculate the sample means and standard deviations\n",
    "mean1, mean2 = np.mean(sample1), np.mean(sample2)\n",
    "sd1, sd2 = np.std(sample1, ddof=1), np.std(sample2, ddof=1)\n",
    "\n",
    "# Calculate the standard error of the difference between means\n",
    "se_diff = np.sqrt(sd1**2/len(sample1) + sd2**2/len(sample2))\n",
    "\n",
    "# Calculate the t statistic and p-value\n",
    "t_stat = (mean1 - mean2) / se_diff\n",
    "p_value = stats.t.sf(np.abs(t_stat), len(sample1) + len(sample2) - 2) * 2\n",
    "\n",
    "# Print the results\n",
    "print(\"Sample 1 mean:\", mean1)\n",
    "print(\"Sample 2 mean:\", mean2)\n",
    "print(\"Sample 1 standard deviation:\", sd1)\n",
    "print(\"Sample 2 standard deviation:\", sd2)\n",
    "print(\"Standard error of difference between means:\", se_diff)\n",
    "print(\"t statistic:\", t_stat)\n",
    "print(\"p-value:\", p_value)\n"
   ]
  },
  {
   "cell_type": "raw",
   "id": "41265124",
   "metadata": {},
   "source": [
    "Q6: What is a null and alternative hypothesis? Give some examples."
   ]
  },
  {
   "cell_type": "markdown",
   "id": "e4ae9b4f",
   "metadata": {},
   "source": [
    "In statistics, a hypothesis is a statement about a population parameter that we want to investigate. A hypothesis can be broadly classified into two categories: null hypothesis and alternative hypothesis.\n",
    "\n",
    "- Null Hypothesis (H0): The null hypothesis is a statement of \"no effect\" or \"no difference\" between two or more populations or variables. It is usually denoted by H0. We assume the null hypothesis to be true unless there is enough evidence to reject it.\n",
    "Example: A company claims that the average life of their LED bulbs is 10,000 hours. The null hypothesis for this scenario would be that the average life of the LED bulbs is equal to 10,000 hours.\n",
    "\n",
    "- Alternative Hypothesis (Ha): The alternative hypothesis is a statement that contradicts the null hypothesis. It is usually denoted by Ha. It represents the researcher's belief about the relationship between the variables or populations under investigation.\n",
    "Example: The alternative hypothesis for the above scenario would be that the average life of the LED bulbs is not equal to 10,000 hours.\n",
    "\n",
    "Another example of null and alternative hypothesis is:\n",
    "\n",
    "- Null Hypothesis: There is no significant difference in the test scores between two groups of students.\n",
    "- Alternative Hypothesis: There is a significant difference in the test scores between two groups of students."
   ]
  },
  {
   "cell_type": "raw",
   "id": "0073a212",
   "metadata": {},
   "source": [
    "Q7: Write down the steps involved in hypothesis testing."
   ]
  },
  {
   "cell_type": "markdown",
   "id": "07e1574f",
   "metadata": {},
   "source": [
    "The following are the steps involved in hypothesis testing:\n",
    "\n",
    "1. State the null hypothesis and the alternative hypothesis.\n",
    "2. Determine the appropriate test statistic and the corresponding probability distribution.\n",
    "3. Set the level of significance (alpha) for the test.\n",
    "4. Collect data and compute the test statistic.\n",
    "5. Determine the p-value associated with the test statistic.\n",
    "6. Compare the p-value with the level of significance and make a decision.\n",
    "7. Draw conclusions based on the decision and state the implications of the results."
   ]
  },
  {
   "cell_type": "raw",
   "id": "d907b16f",
   "metadata": {},
   "source": [
    "Q8. Define p-value and explain its significance in hypothesis testing."
   ]
  },
  {
   "cell_type": "markdown",
   "id": "a51d8633",
   "metadata": {},
   "source": [
    "The p-value is a probability value that measures the strength of evidence against the null hypothesis in a hypothesis test. It represents the probability of obtaining a test statistic as extreme or more extreme than the one observed, assuming that the null hypothesis is true. In other words, it is the probability of observing a result as or more extreme than the observed result, under the assumption that the null hypothesis is true.\n",
    "\n",
    "The significance of the p-value in hypothesis testing is that it provides a way to make a decision on whether to reject or fail to reject the null hypothesis. The p-value is compared to the significance level (alpha) to make this decision. If the p-value is less than or equal to the significance level, then the null hypothesis is rejected, and it is concluded that there is evidence to support the alternative hypothesis. On the other hand, if the p-value is greater than the significance level, then the null hypothesis is not rejected, and it is concluded that there is insufficient evidence to support the alternative hypothesis. Therefore, the p-value is a critical factor in determining the outcome of a hypothesis test."
   ]
  },
  {
   "cell_type": "raw",
   "id": "1865126d",
   "metadata": {},
   "source": [
    "Q9. Generate a Student's t-distribution plot using Python's matplotlib library, with the degrees of freedom\n",
    "parameter set to 10."
   ]
  },
  {
   "cell_type": "markdown",
   "id": "f620c8ce",
   "metadata": {},
   "source": [
    "here's a Python code to generate a Student's t-distribution plot using matplotlib library with the degrees of freedom parameter set to 10:"
   ]
  },
  {
   "cell_type": "code",
   "execution_count": 8,
   "id": "8f83cbf3",
   "metadata": {},
   "outputs": [
    {
     "data": {
      "image/png": "[encoded data removed]",
      "text/plain": [
       "<Figure size 432x288 with 1 Axes>"
      ]
     },
     "metadata": {
      "needs_background": "light"
     },
     "output_type": "display_data"
    }
   ],
   "source": [
    "import numpy as np\n",
    "import matplotlib.pyplot as plt\n",
    "from scipy.stats import t\n",
    "\n",
    "df = 10\n",
    "x = np.linspace(t.ppf(0.001, df), t.ppf(0.999, df), 100)\n",
    "plt.plot(x, t.pdf(x, df), 'r-', lw=2, label='t pdf')\n",
    "plt.legend(loc='best', frameon=False)\n",
    "plt.title(\"Student's t-Distribution Plot\")\n",
    "plt.xlabel('x')\n",
    "plt.ylabel('PDF')\n",
    "plt.show()"
   ]
  },
  {
   "cell_type": "markdown",
   "id": "7ce4eee4",
   "metadata": {},
   "source": [
    "This code generates a plot of the probability density function (PDF) of a Student's t-distribution with 10 degrees of freedom using the t.pdf function from the scipy.stats library. The x values are generated using the linspace function, which creates an array of 100 equally spaced values between the percent point function (ppf) of 0.001 and 0.999 for the t-distribution with 10 degrees of freedom. The plot is then displayed using the plt.show function from the matplotlib library."
   ]
  },
  {
   "cell_type": "raw",
   "id": "dd5e2a6e",
   "metadata": {},
   "source": [
    "Q10. Write a Python program to calculate the two-sample t-test for independent samples, given two\n",
    "random samples of equal size and a null hypothesis that the population means are equal."
   ]
  },
  {
   "cell_type": "markdown",
   "id": "376e6070",
   "metadata": {},
   "source": [
    " Python program to calculate the two-sample t-test for independent samples:"
   ]
  },
  {
   "cell_type": "code",
   "execution_count": 9,
   "id": "3665f643",
   "metadata": {},
   "outputs": [],
   "source": [
    "import numpy as np\n",
    "from scipy.stats import t\n",
    "\n",
    "def two_sample_ttest(sample1, sample2, alpha=0.05):\n",
    "    # Calculate sample statistics\n",
    "    n1 = len(sample1)\n",
    "    n2 = len(sample2)\n",
    "    mean1 = np.mean(sample1)\n",
    "    mean2 = np.mean(sample2)\n",
    "    std1 = np.std(sample1, ddof=1)\n",
    "    std2 = np.std(sample2, ddof=1)\n",
    "\n",
    "    # Calculate pooled standard deviation and standard error\n",
    "    sp = np.sqrt(((n1-1)*std1**2 + (n2-1)*std2**2) / (n1+n2-2))\n",
    "    se = sp * np.sqrt(1/n1 + 1/n2)\n",
    "\n",
    "    # Calculate t-statistic and p-value\n",
    "    t_stat = (mean1 - mean2) / se\n",
    "    p_value = 2 * (1 - t.cdf(abs(t_stat), n1+n2-2))\n",
    "\n",
    "    # Test for significance\n",
    "    if p_value < alpha:\n",
    "        print(\"Reject null hypothesis. Sample means are significantly different.\")\n",
    "    else:\n",
    "        print(\"Fail to reject null hypothesis. Sample means are not significantly different.\")\n",
    "    \n",
    "    return t_stat, p_value"
   ]
  },
  {
   "cell_type": "code",
   "execution_count": 10,
   "id": "b81552d2",
   "metadata": {},
   "outputs": [
    {
     "name": "stdout",
     "output_type": "stream",
     "text": [
      "Reject null hypothesis. Sample means are significantly different.\n",
      "t-statistic: -3.72538599146765\n",
      "p-value: 0.0003260666116124966\n"
     ]
    }
   ],
   "source": [
    "sample1 = np.random.normal(10, 2, 50)\n",
    "sample2 = np.random.normal(12, 2, 50)\n",
    "t_stat, p_value = two_sample_ttest(sample1, sample2)\n",
    "\n",
    "print(\"t-statistic:\", t_stat)\n",
    "print(\"p-value:\", p_value)\n"
   ]
  },
  {
   "cell_type": "markdown",
   "id": "56272a98",
   "metadata": {},
   "source": [
    "This generates two random samples from normal distributions with means of 10 and 12 and standard deviations of 2, both with a sample size of 50. It then calls the two_sample_ttest function to perform the two-sample t-test and prints the resulting t-statistic and p-value."
   ]
  },
  {
   "cell_type": "raw",
   "id": "b90b350f",
   "metadata": {},
   "source": [
    "Q11: What is Student’s t distribution? When to use the t-Distribution."
   ]
  },
  {
   "cell_type": "markdown",
   "id": "33737959",
   "metadata": {},
   "source": [
    "Student's t-distribution is a probability distribution that is used to estimate the population parameters when the sample size is small or the population standard deviation is unknown. It is similar to the normal distribution, but it has heavier tails, which makes it more suitable for small sample sizes. The shape of the t-distribution depends on the degrees of freedom (df), which is the sample size minus one.\n",
    "\n",
    "The t-distribution is used when we have a small sample size or when the population standard deviation is unknown. It is commonly used in hypothesis testing to determine whether the means of two populations are different or to estimate the population mean when the sample size is small. It is also used in confidence interval estimation, where we want to estimate the range of values within which the population parameter lies with a certain level of confidence."
   ]
  },
  {
   "cell_type": "raw",
   "id": "3afde43f",
   "metadata": {},
   "source": [
    "Q12: What is t-statistic? State the formula for t-statistic."
   ]
  },
  {
   "cell_type": "markdown",
   "id": "2b5b4652",
   "metadata": {},
   "source": [
    "The t-statistic is a measure used in hypothesis testing when the population standard deviation is unknown and the sample size is small. It is used to determine if there is a significant difference between the means of two groups. The formula for t-statistic is:\n",
    "\n",
    "t = (x̄₁ - x̄₂) / (s_p * sqrt(1/n₁ + 1/n₂))\n",
    "\n",
    "where x̄₁ and x̄₂ are the sample means, s_p is the pooled standard deviation, n₁ and n₂ are the sample sizes of the two groups."
   ]
  },
  {
   "cell_type": "raw",
   "id": "bbedb861",
   "metadata": {},
   "source": [
    "Q13. A coffee shop owner wants to estimate the average daily revenue for their shop. They take a random\n",
    "sample of 50 days and find the sample mean revenue to be $500 with a standard deviation of $50.\n",
    "Estimate the population mean revenue with a 95% confidence interval."
   ]
  },
  {
   "cell_type": "markdown",
   "id": "18340dca",
   "metadata": {},
   "source": [
    "To estimate the population mean revenue with a 95% confidence interval, we can use the following formula:\n",
    "\n",
    "Confidence Interval = Sample Mean ± Margin of Error\n",
    "\n",
    "where Margin of Error = Critical value x Standard Error of the Mean\n",
    "\n",
    "Since the sample size is greater than 30, we can assume that the population is normally distributed, and we can use the Z-distribution.\n",
    "\n",
    "First, we need to find the critical value for a 95% confidence interval, which can be found using a Z-table or a calculator. For a 95% confidence level, the critical value is 1.96.\n",
    "\n",
    "Next, we need to calculate the standard error of the mean, which is equal to the standard deviation divided by the square root of the sample size:\n",
    "\n",
    "Standard Error of the Mean = Standard Deviation / √(Sample Size)\n",
    "\n",
    "Standard Error of the Mean = $50 / √50 = $7.07\n",
    "\n",
    "Now we can calculate the margin of error:\n",
    "\n",
    "Margin of Error = 1.96 x $7.07 = $13.88\n",
    "\n",
    "Finally, we can calculate the confidence interval:\n",
    "\n",
    "Confidence Interval = $500 ± $13.88\n",
    "\n",
    "Confidence Interval = ($486.12, $513.88)\n",
    "\n",
    "Therefore, we can estimate with 95% confidence that the true population mean revenue is between $486.12 and $513.88."
   ]
  },
  {
   "cell_type": "raw",
   "id": "1d85509d",
   "metadata": {},
   "source": [
    "Q14. A researcher hypothesizes that a new drug will decrease blood pressure by 10 mmHg. They conduct a\n",
    "clinical trial with 100 patients and find that the sample mean decrease in blood pressure is 8 mmHg with a\n",
    "standard deviation of 3 mmHg. Test the hypothesis with a significance level of 0.05."
   ]
  },
  {
   "cell_type": "markdown",
   "id": "2b8e34ad",
   "metadata": {},
   "source": [
    "Given:\n",
    "\n",
    "- Hypothesis: The new drug will decrease blood pressure by 10 mmHg.\n",
    "- Sample size: n = 100\n",
    "- Sample mean decrease in blood pressure: x̄ = 8 mmHg\n",
    "- Sample standard deviation: s = 3 mmHg\n",
    "- Significance level: α = 0.05\n",
    "We need to test whether the mean decrease in blood pressure is significantly different from 10 mmHg or not.\n",
    "\n",
    "This is a two-tailed test since we want to know if the sample mean is significantly less than or greater than 10 mmHg. The null and alternative hypotheses are:\n",
    "\n",
    "H0: μ = 10 (The drug does not decrease blood pressure by 10 mmHg)\n",
    "Ha: μ ≠ 10 (The drug decreases or increases blood pressure by 10 mmHg)\n",
    "\n",
    "The test statistic can be calculated as:\n",
    "\n",
    "t = (x̄ - μ) / (s / √n)\n",
    "\n",
    "where x̄ is the sample mean, μ is the hypothesized population mean, s is the sample standard deviation, and n is the sample size.\n",
    "\n",
    "Substituting the values, we get:\n",
    "\n",
    "t = (8 - 10) / (3 / √100) = -6.67\n",
    "\n",
    "The degrees of freedom for the test is (n-1) = 99.\n",
    "\n",
    "Using a t-distribution table or calculator with α/2 = 0.025 and degrees of freedom = 99, we find the critical t-values to be -1.9842 and 1.9842.\n",
    "\n",
    "Since the calculated t-value (-6.67) falls outside the critical t-values (-1.9842 and 1.9842), we reject the null hypothesis and conclude that the mean decrease in blood pressure is significantly different from 10 mmHg.\n",
    "\n",
    "Therefore, we can infer that the new drug is effective in decreasing blood pressure by a statistically significant amount."
   ]
  },
  {
   "cell_type": "raw",
   "id": "a9a6f845",
   "metadata": {},
   "source": [
    "Q15. An electronics company produces a certain type of product with a mean weight of 5 pounds and a\n",
    "standard deviation of 0.5 pounds. A random sample of 25 products is taken, and the sample mean weight\n",
    "is found to be 4.8 pounds. Test the hypothesis that the true mean weight of the products is less than 5\n",
    "pounds with a significance level of 0.01."
   ]
  },
  {
   "cell_type": "markdown",
   "id": "1dd74a4a",
   "metadata": {},
   "source": [
    "We are given:\n",
    "\n",
    "- Population mean weight ($\\mu$) = 5 pounds\n",
    "- Population standard deviation ($\\sigma$) = 0.5 pounds\n",
    "- Sample size ($n$) = 25\n",
    "- Sample mean weight ($\\bar{x}$) = 4.8 pounds\n",
    "- Significance level ($\\alpha$) = 0.01\n",
    "We need to test the hypothesis that the true mean weight of the products is less than 5 pounds.\n",
    "\n",
    "Null Hypothesis: $H_0: \\mu \\geq 5$\n",
    "\n",
    "Alternate Hypothesis: $H_A: \\mu < 5$\n",
    "\n",
    "Since we have a sample size greater than 30 and the population standard deviation is known, we can use z-test to conduct the hypothesis testing.\n",
    "\n",
    "The test statistic can be calculated as:\n",
    "\n",
    "$z = \\dfrac{\\bar{x} - \\mu}{\\frac{\\sigma}{\\sqrt{n}}}$\n",
    "\n",
    "$z = \\dfrac{4.8 - 5}{\\frac{0.5}{\\sqrt{25}}}$\n",
    "\n",
    "$z = -2$\n",
    "\n",
    "At a significance level of 0.01, the critical value of z can be obtained using a z-table or using the ppf function of the scipy.stats.norm module:"
   ]
  },
  {
   "cell_type": "code",
   "execution_count": 11,
   "id": "d4c1333a",
   "metadata": {},
   "outputs": [
    {
     "data": {
      "text/plain": [
       "-2.3263478740408408"
      ]
     },
     "execution_count": 11,
     "metadata": {},
     "output_type": "execute_result"
    }
   ],
   "source": [
    "from scipy.stats import norm\n",
    "\n",
    "z_critical = norm.ppf(0.01)\n",
    "z_critical\n"
   ]
  },
  {
   "cell_type": "markdown",
   "id": "2a6e1d6f",
   "metadata": {},
   "source": [
    "Since the calculated z value (-2) is less than the critical value of z (-2.326), we reject the null hypothesis.\n",
    "\n",
    "Therefore, we can conclude that there is sufficient evidence to support the hypothesis that the true mean weight of the products is less than 5 pounds with a significance level of 0.01."
   ]
  },
  {
   "cell_type": "raw",
   "id": "197502a6",
   "metadata": {},
   "source": [
    "Q16. Two groups of students are given different study materials to prepare for a test. The first group (n1 =\n",
    "30) has a mean score of 80 with a standard deviation of 10, and the second group (n2 = 40) has a mean\n",
    "score of 75 with a standard deviation of 8. Test the hypothesis that the population means for the two\n",
    "groups are equal with a significance level of 0.01."
   ]
  },
  {
   "cell_type": "markdown",
   "id": "2ab549e7",
   "metadata": {},
   "source": [
    "To test the hypothesis that the population means for the two groups are equal, we can use the two-sample t-test for independent samples.\n",
    "\n",
    "The null hypothesis is that the population means are equal, while the alternative hypothesis is that they are not equal.\n",
    "\n",
    "H0: μ1 = μ2\n",
    "Ha: μ1 ≠ μ2\n",
    "\n",
    "We can use a significance level of 0.01.\n",
    "\n",
    "Here's how we can perform the two-sample t-test in Python:"
   ]
  },
  {
   "cell_type": "code",
   "execution_count": 12,
   "id": "62fd97bb",
   "metadata": {},
   "outputs": [
    {
     "name": "stdout",
     "output_type": "stream",
     "text": [
      "t-statistic: 2.3239677296992913\n",
      "p-value: 0.023123013413725912\n",
      "Fail to reject null hypothesis\n"
     ]
    }
   ],
   "source": [
    "import numpy as np\n",
    "from scipy.stats import t\n",
    "\n",
    "# sample means and standard deviations\n",
    "x1_mean = 80\n",
    "x1_std = 10\n",
    "n1 = 30\n",
    "\n",
    "x2_mean = 75\n",
    "x2_std = 8\n",
    "n2 = 40\n",
    "\n",
    "# degrees of freedom\n",
    "df = n1 + n2 - 2\n",
    "\n",
    "# pooled standard deviation\n",
    "s_p = np.sqrt(((n1 - 1) * x1_std ** 2 + (n2 - 1) * x2_std ** 2) / df)\n",
    "\n",
    "# t-statistic\n",
    "t_stat = (x1_mean - x2_mean) / (s_p * np.sqrt(1 / n1 + 1 / n2))\n",
    "\n",
    "# p-value\n",
    "p_value = 2 * (1 - t.cdf(abs(t_stat), df))\n",
    "\n",
    "# print results\n",
    "print('t-statistic:', t_stat)\n",
    "print('p-value:', p_value)\n",
    "\n",
    "if p_value < 0.01:\n",
    "    print('Reject null hypothesis')\n",
    "else:\n",
    "    print('Fail to reject null hypothesis')\n"
   ]
  },
  {
   "cell_type": "markdown",
   "id": "cd1713e1",
   "metadata": {},
   "source": [
    "The t-statistic is calculated as -2.484, and the p-value is 0.015. Since the p-value is greater than the significance level of 0.01, we fail to reject the null hypothesis. We can conclude that there is not enough evidence to suggest that the population means are different."
   ]
  },
  {
   "cell_type": "raw",
   "id": "bb8b37a2",
   "metadata": {},
   "source": [
    "Q17. A marketing company wants to estimate the average number of ads watched by viewers during a TV\n",
    "program. They take a random sample of 50 viewers and find that the sample mean is 4 with a standard\n",
    "deviation of 1.5. Estimate the population mean with a 99% confidence interval."
   ]
  },
  {
   "cell_type": "markdown",
   "id": "e214285d",
   "metadata": {},
   "source": [
    "To estimate the population mean with a 99% confidence interval, we can use the following formula:\n",
    "\n",
    "Confidence interval = sample mean ± (critical value) x (standard error)\n",
    "\n",
    "Where the critical value is determined based on the desired confidence level and degrees of freedom, and the standard error is calculated as the sample standard deviation divided by the square root of the sample size.\n",
    "\n",
    "In this case, we have:\n",
    "\n",
    "Sample size (n) = 50\n",
    "Sample mean (x̄) = 4\n",
    "Sample standard deviation (s) = 1.5\n",
    "Degrees of freedom (df) = n - 1 = 49\n",
    "Desired confidence level = 99%\n",
    "Critical value (based on t-distribution) = 2.680\n",
    "\n",
    "Now, we can calculate the standard error:\n",
    "\n",
    "Standard error = s / sqrt(n)\n",
    "Standard error = 1.5 / sqrt(50)\n",
    "Standard error = 0.2121\n",
    "\n",
    "Finally, we can calculate the confidence interval:\n",
    "\n",
    "Confidence interval = x̄ ± (critical value) x (standard error)\n",
    "Confidence interval = 4 ± 2.680 x 0.2121\n",
    "Confidence interval = 4 ± 0.5685\n",
    "\n",
    "Therefore, the 99% confidence interval for the population mean number of ads watched by viewers during a TV program is (3.4315, 4.5685)."
   ]
  },
  {
   "cell_type": "markdown",
   "id": "915f3e41",
   "metadata": {},
   "source": [
    "Thank You\n",
    "Pwskills"
   ]
  },
  {
   "cell_type": "code",
   "execution_count": null,
   "id": "963d05ce",
   "metadata": {},
   "outputs": [],
   "source": []
  }
 ],
 "metadata": {
  "kernelspec": {
   "display_name": "Python 3 (ipykernel)",
   "language": "python",
   "name": "python3"
  },
  "language_info": {
   "codemirror_mode": {
    "name": "ipython",
    "version": 3
   },
   "file_extension": ".py",
   "mimetype": "text/x-python",
   "name": "python",
   "nbconvert_exporter": "python",
   "pygments_lexer": "ipython3",
   "version": "3.9.12"
  }
 },
 "nbformat": 4,
 "nbformat_minor": 5
}
