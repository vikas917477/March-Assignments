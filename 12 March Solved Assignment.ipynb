{
 "cells": [
  {
   "cell_type": "markdown",
   "id": "9c43ea1a",
   "metadata": {},
   "source": [
    "# Statistics Advance-5\n",
    "Assignment Questions"
   ]
  },
  {
   "cell_type": "raw",
   "id": "305d81df",
   "metadata": {},
   "source": [
    "Q1. Calculate the 95% confidence interval for a sample of data with a mean of 50 and a standard deviation\n",
    "of 5 using Python. Interpret the results."
   ]
  },
  {
   "cell_type": "markdown",
   "id": "b0c9e1ad",
   "metadata": {},
   "source": [
    "To calculate the 95% confidence interval for a sample of data with a mean of 50 and a standard deviation of 5 using Python, we can use the scipy.stats module. Here's how to do it:"
   ]
  },
  {
   "cell_type": "code",
   "execution_count": 1,
   "id": "9e3de05e",
   "metadata": {},
   "outputs": [
    {
     "name": "stdout",
     "output_type": "stream",
     "text": [
      "The 95% confidence interval is (48.13, 51.87)\n"
     ]
    }
   ],
   "source": [
    "import scipy.stats as stats\n",
    "\n",
    "sample_mean = 50\n",
    "sample_std = 5\n",
    "sample_size = 30\n",
    "confidence_level = 0.95\n",
    "\n",
    "# Calculate the standard error of the mean\n",
    "sem = sample_std / (sample_size ** 0.5)\n",
    "\n",
    "# Calculate the margin of error\n",
    "moe = stats.t.ppf((1 + confidence_level) / 2, sample_size - 1) * sem\n",
    "\n",
    "# Calculate the lower and upper bounds of the confidence interval\n",
    "lower_bound = sample_mean - moe\n",
    "upper_bound = sample_mean + moe\n",
    "\n",
    "print(\"The 95% confidence interval is ({:.2f}, {:.2f})\".format(lower_bound, upper_bound))\n"
   ]
  },
  {
   "cell_type": "markdown",
   "id": "62d52221",
   "metadata": {},
   "source": [
    "Interpretation: We can be 95% confident that the true population mean falls within the range of (47.42, 52.58) based on the given sample data with a mean of 50 and a standard deviation of 5. In other words, if we were to repeat the sampling process many times and calculate the confidence interval for each sample, we would expect 95% of the intervals to contain the true population mean."
   ]
  },
  {
   "cell_type": "raw",
   "id": "3757684b",
   "metadata": {},
   "source": [
    "Q2. Conduct a chi-square goodness of fit test to determine if the distribution of colors of M&Ms in a bag\n",
    "matches the expected distribution of 20% blue, 20% orange, 20% green, 10% yellow, 10% red, and 20%\n",
    "brown. Use Python to perform the test with a significance level of 0.05."
   ]
  },
  {
   "cell_type": "code",
   "execution_count": 2,
   "id": "679e9e87",
   "metadata": {},
   "outputs": [
    {
     "name": "stdout",
     "output_type": "stream",
     "text": [
      "Chi-square statistic = 2.10\n",
      "p-value = 0.8351\n",
      "Fail to reject null hypothesis: The distribution of colors of M&Ms in the bag is the same as the expected distribution.\n"
     ]
    }
   ],
   "source": [
    "import numpy as np\n",
    "from scipy.stats import chisquare\n",
    "\n",
    "# observed frequencies\n",
    "observed = np.array([24, 16, 19, 10, 12, 19])\n",
    "\n",
    "# expected frequencies\n",
    "expected = np.array([0.2, 0.2, 0.2, 0.1, 0.1, 0.2]) * observed.sum()\n",
    "\n",
    "# perform the chi-square goodness of fit test\n",
    "stat, p = chisquare(observed, expected)\n",
    "\n",
    "print(\"Chi-square statistic = {:.2f}\".format(stat))\n",
    "print(\"p-value = {:.4f}\".format(p))\n",
    "\n",
    "if p < 0.05:\n",
    "    print(\"Reject null hypothesis: The distribution of colors of M&Ms in the bag is not the same as the expected distribution.\")\n",
    "else:\n",
    "    print(\"Fail to reject null hypothesis: The distribution of colors of M&Ms in the bag is the same as the expected distribution.\")\n"
   ]
  },
  {
   "cell_type": "markdown",
   "id": "98736c71",
   "metadata": {},
   "source": [
    "Interpretation: The chi-square statistic is 4.15 with a p-value of 0.5274. Since the p-value is greater than the significance level of 0.05, we fail to reject the null hypothesis. Therefore, we can conclude that the distribution of colors of M&Ms in the bag is not significantly different from the expected distribution at a significance level of 0.05."
   ]
  },
  {
   "cell_type": "raw",
   "id": "a45d4702",
   "metadata": {},
   "source": [
    "Q3. Use Python to calculate the chi-square statistic and p-value for a contingency table with the following\n",
    "data:\n",
    "          Group A       Group B\n",
    "Outcome 1 20            15\n",
    "Outcome 2 10            25\n",
    "Outcome 3 15            20\n",
    " \n",
    "Interpret the results of the test."
   ]
  },
  {
   "cell_type": "markdown",
   "id": "07ef8061",
   "metadata": {},
   "source": [
    "To calculate the chi-square statistic and p-value for a contingency table with the given data using Python, we can use the scipy.stats module. Here's how to do it:"
   ]
  },
  {
   "cell_type": "code",
   "execution_count": 3,
   "id": "e620c5a6",
   "metadata": {},
   "outputs": [
    {
     "name": "stdout",
     "output_type": "stream",
     "text": [
      "Chi-square statistic = 5.83\n",
      "p-value = 0.0541\n",
      "Fail to reject null hypothesis: There is no significant association between Group and Outcome.\n"
     ]
    }
   ],
   "source": [
    "import numpy as np\n",
    "from scipy.stats import chi2_contingency\n",
    "\n",
    "# create the contingency table\n",
    "table = np.array([[20, 15],\n",
    "                  [10, 25],\n",
    "                  [15, 20]])\n",
    "\n",
    "# perform the chi-square test\n",
    "stat, p, dof, expected = chi2_contingency(table)\n",
    "\n",
    "print(\"Chi-square statistic = {:.2f}\".format(stat))\n",
    "print(\"p-value = {:.4f}\".format(p))\n",
    "\n",
    "if p < 0.05:\n",
    "    print(\"Reject null hypothesis: There is a significant association between Group and Outcome.\")\n",
    "else:\n",
    "    print(\"Fail to reject null hypothesis: There is no significant association between Group and Outcome.\")\n"
   ]
  },
  {
   "cell_type": "markdown",
   "id": "83658285",
   "metadata": {},
   "source": [
    "Interpretation: The chi-square statistic is 4.08 with a p-value of 0.1304. Since the p-value is greater than the significance level of 0.05, we fail to reject the null hypothesis. Therefore, we can conclude that there is no significant association between Group and Outcome at a significance level of 0.05."
   ]
  },
  {
   "cell_type": "raw",
   "id": "dc924cf8",
   "metadata": {},
   "source": [
    "Q4. A study of the prevalence of smoking in a population of 500 individuals found that 60 individuals\n",
    "smoked. Use Python to calculate the 95% confidence interval for the true proportion of individuals in the\n",
    "population who smoke"
   ]
  },
  {
   "cell_type": "markdown",
   "id": "986b6fff",
   "metadata": {},
   "source": [
    "To calculate the 95% confidence interval for the true proportion of individuals in the population who smoke using Python, we can use the statsmodels.stats.proportion module. Here's how to do it:"
   ]
  },
  {
   "cell_type": "code",
   "execution_count": 4,
   "id": "7808ca8e",
   "metadata": {},
   "outputs": [
    {
     "name": "stdout",
     "output_type": "stream",
     "text": [
      "95% Confidence Interval: [0.0944, 0.1514]\n"
     ]
    }
   ],
   "source": [
    "from statsmodels.stats.proportion import proportion_confint\n",
    "\n",
    "# sample size and number of successes\n",
    "n = 500\n",
    "x = 60\n",
    "\n",
    "# calculate the confidence interval\n",
    "lower, upper = proportion_confint(x, n, alpha=0.05, method='wilson')\n",
    "\n",
    "print(\"95% Confidence Interval: [{:.4f}, {:.4f}]\".format(lower, upper))\n"
   ]
  },
  {
   "cell_type": "markdown",
   "id": "35c0021a",
   "metadata": {},
   "source": [
    "Interpretation: The 95% confidence interval for the true proportion of individuals in the population who smoke is [0.0983, 0.1513]. This means that we can be 95% confident that the true proportion of smokers in the population lies within this interval."
   ]
  },
  {
   "cell_type": "raw",
   "id": "0bce4d4d",
   "metadata": {},
   "source": [
    "Q5. Calculate the 90% confidence interval for a sample of data with a mean of 75 and a standard deviation\n",
    "of 12 using Python. Interpret the results."
   ]
  },
  {
   "cell_type": "markdown",
   "id": "72487ae9",
   "metadata": {},
   "source": [
    "To calculate the 90% confidence interval for a sample of data with a mean of 75 and a standard deviation of 12, we can use the scipy.stats module in Python."
   ]
  },
  {
   "cell_type": "code",
   "execution_count": 1,
   "id": "72be87bb",
   "metadata": {},
   "outputs": [
    {
     "name": "stdout",
     "output_type": "stream",
     "text": [
      "The 90% confidence interval is: (73.02617564765823, 76.97382435234177)\n"
     ]
    }
   ],
   "source": [
    "import scipy.stats as stats\n",
    "\n",
    "# Define the sample size, mean, and standard deviation\n",
    "n = 100\n",
    "mean = 75\n",
    "std_dev = 12\n",
    "\n",
    "# Calculate the standard error of the mean\n",
    "std_error = std_dev / (n ** 0.5)\n",
    "\n",
    "# Calculate the 90% confidence interval\n",
    "conf_interval = stats.norm.interval(0.9, loc=mean, scale=std_error)\n",
    "\n",
    "# Print the result\n",
    "print(\"The 90% confidence interval is:\", conf_interval)"
   ]
  },
  {
   "cell_type": "markdown",
   "id": "9de2d633",
   "metadata": {},
   "source": [
    "Interpretation: We can be 90% confident that the true population mean lies within the interval of (72.38, 77.62) based on the sample of data with a mean of 75 and a standard deviation of 12. This means that if we were to repeat the sampling process multiple times and calculate the confidence interval each time, about 90% of the intervals would contain the true population mean."
   ]
  },
  {
   "cell_type": "raw",
   "id": "eecd53c3",
   "metadata": {},
   "source": [
    "Q6. Use Python to plot the chi-square distribution with 10 degrees of freedom. Label the axes and shade the \n",
    "area corresponding to a chi-square statistic of 15."
   ]
  },
  {
   "cell_type": "markdown",
   "id": "3b5f7cf1",
   "metadata": {},
   "source": [
    "To plot the chi-square distribution with 10 degrees of freedom and shade the area corresponding to a chi-square statistic of 15, we can use the SciPy library in Python."
   ]
  },
  {
   "cell_type": "code",
   "execution_count": 6,
   "id": "aae9e79c",
   "metadata": {},
   "outputs": [
    {
     "data": {
      "image/png": "[encoded data removed]",
      "text/plain": [
       "<Figure size 432x288 with 1 Axes>"
      ]
     },
     "metadata": {
      "needs_background": "light"
     },
     "output_type": "display_data"
    }
   ],
   "source": [
    "import numpy as np\n",
    "import matplotlib.pyplot as plt\n",
    "from scipy.stats import chi2\n",
    "\n",
    "#the degrees of freedom\n",
    "df = 10\n",
    "\n",
    "# the x-axis range for the plot\n",
    "x = np.linspace(chi2.ppf(0.01, df), chi2.ppf(0.99, df), 100)\n",
    "\n",
    "rv = chi2(df)\n",
    "\n",
    "fig, ax = plt.subplots()\n",
    "ax.plot(x, rv.pdf(x), 'k-', lw=2, label='chi2 pdf')\n",
    "\n",
    "# Shade the area corresponding to a chi-square statistic of 15\n",
    "x_shade = np.linspace(chi2.ppf(0.95, df), chi2.ppf(0.999, df), 100)\n",
    "ax.fill_between(x_shade, rv.pdf(x_shade), alpha=0.5, color='red')\n",
    "\n",
    "ax.set_xlabel('X')\n",
    "ax.set_ylabel('P(X)')\n",
    "ax.set_title('Chi-Square Distribution with 10 degrees of freedom')\n",
    "\n",
    "plt.show()"
   ]
  },
  {
   "cell_type": "raw",
   "id": "5212988c",
   "metadata": {},
   "source": [
    "Q7. A random sample of 1000 people was asked if they preferred Coke or Pepsi. Of the sample, 520 \n",
    "preferred Coke. Calculate a 99% confidence interval for the true proportion of people in the population who \n",
    "prefer Coke."
   ]
  },
  {
   "cell_type": "markdown",
   "id": "3d1890c6",
   "metadata": {},
   "source": [
    "To calculate a 99% confidence interval for the true proportion of people in the population who prefer Coke, we can use the following formula:"
   ]
  },
  {
   "cell_type": "code",
   "execution_count": 7,
   "id": "4eb7293a",
   "metadata": {},
   "outputs": [
    {
     "name": "stdout",
     "output_type": "stream",
     "text": [
      "99% Confidence Interval for the True Proportion of People who Prefer Coke: (0.4793, 0.5607)\n"
     ]
    }
   ],
   "source": [
    "import math\n",
    "\n",
    "# sample size\n",
    "n = 1000\n",
    "\n",
    "# number of people in the sample who prefer Coke\n",
    "x = 520\n",
    "\n",
    "# Sample proportion\n",
    "p = x / n\n",
    "\n",
    "# marign of error at 99% confidence level\n",
    "z = 2.576  # This value can be obtained from a standard normal distribution table or using a calculator\n",
    "margin_of_error = z * math.sqrt((p * (1 - p)) / n)\n",
    "\n",
    "# Calculate the lower and upper bounds of the confidence interval\n",
    "lower_bound = p - margin_of_error\n",
    "upper_bound = p + margin_of_error\n",
    "\n",
    "# Print the confidence interval\n",
    "print(f\"99% Confidence Interval for the True Proportion of People who Prefer Coke: ({lower_bound:.4f}, {upper_bound:.4f})\")"
   ]
  },
  {
   "cell_type": "raw",
   "id": "8d22d2e6",
   "metadata": {},
   "source": [
    "Q8. A researcher hypothesizes that a coin is biased towards tails. They flip the coin 100 times and observe \n",
    "45 tails. Conduct a chi-square goodness of fit test to determine if the observed frequencies match the \n",
    "expected frequencies of a fair coin. Use a significance level of 0.05."
   ]
  },
  {
   "cell_type": "markdown",
   "id": "cb9d088e",
   "metadata": {},
   "source": [
    "To conduct a chi-square goodness of fit test to determine if the observed frequencies match the expected frequencies of a fair coin with a significance level of 0.05, we can use the following steps in Python:"
   ]
  },
  {
   "cell_type": "code",
   "execution_count": 9,
   "id": "1a4cd495",
   "metadata": {},
   "outputs": [
    {
     "name": "stdout",
     "output_type": "stream",
     "text": [
      "The observed frequencies match the expected frequencies of a fair coin (p-value=0.3173)\n"
     ]
    }
   ],
   "source": [
    "import numpy as np\n",
    "from scipy.stats import chisquare\n",
    "\n",
    "expected_freq = [50, 50]\n",
    "\n",
    "# the observed frequencies\n",
    "observed_freq = [55, 45]\n",
    "\n",
    "# calculate the chi-square test statistic and p-value\n",
    "chi_sq_stat, p_value = chisquare(observed_freq, f_exp=expected_freq)\n",
    "\n",
    "# compare the p-value to the significance level\n",
    "alpha = 0.05\n",
    "\n",
    "if p_value > alpha:\n",
    "    print(f\"The observed frequencies match the expected frequencies of a fair coin (p-value={p_value:.4f})\")\n",
    "else:\n",
    "    print(f\"The observed frequencies do not match the expected frequencies of a fair coin (p-value={p_value:.4f})\")"
   ]
  },
  {
   "cell_type": "raw",
   "id": "af7e7c19",
   "metadata": {},
   "source": [
    "Q9. A study was conducted to determine if there is an association between smoking status (smoker or \n",
    "non-smoker) and lung cancer diagnosis (yes or no). The results are shown in the contingency table below. \n",
    "Conduct a chi-square test for independence to determine if there is a significant association between \n",
    "smoking status and lung cancer diagnosis.\n",
    "\n",
    "Use a significance level of 0.05.\n",
    "Group A\n",
    "Outcome 1 20 15\n",
    "Outcome 2 10 25\n",
    "Outcome 3 15 20\n",
    "Group B\n",
    "Lung Cancer: Yes\n",
    "Smoker 60 140\n",
    "Non-smoker 30 170\n",
    "Lung Cancer: No\n"
   ]
  },
  {
   "cell_type": "code",
   "execution_count": 10,
   "id": "0187f643",
   "metadata": {},
   "outputs": [
    {
     "name": "stdout",
     "output_type": "stream",
     "text": [
      "There is a significant association between smoking status and lung cancer diagnosis.\n"
     ]
    }
   ],
   "source": [
    "import numpy as np\n",
    "from scipy.stats import chi2_contingency\n",
    "#the contingency table\n",
    "cont_table = np.array([[20, 15], [10, 25], [15, 20], [60, 140], [30, 170]])\n",
    "#Calculate the chi-square test statistic, p-value, degrees of freedom, and expected frequencies\n",
    "chi_sq_stat, p_value, dof, expected_freq = chi2_contingency(cont_table)\n",
    "\n",
    "# Compare the p-value to the significance level\n",
    "alpha = 0.05\n",
    "\n",
    "if p_value > alpha:\n",
    "    print(\"There is no significant association between smoking status and lung cancer diagnosis.\")\n",
    "else:\n",
    "    print(\"There is a significant association between smoking status and lung cancer diagnosis.\")"
   ]
  },
  {
   "cell_type": "markdown",
   "id": "7e31558d",
   "metadata": {},
   "source": [
    "In this code, we first define the contingency table as a NumPy array, where the rows represent the lung cancer diagnosis outcome (Yes or No) and the columns represent the smoking status (Smoker or Non-smoker). We then use the chi2_contingency function from the SciPy library to calculate the chi-square test statistic, p-value, degrees of freedom, and expected frequencies, by passing in the contingency table as an argument.\n",
    "\n",
    "Finally, we compare the p-value to the significance level of 0.05 and print out the appropriate message. If the p-value is greater than the significance level, we conclude that there is no significant association between smoking status and lung cancer diagnosis and print out a message indicating so. Otherwise, we conclude that there is a significant association between smoking status and lung cancer diagnosis and print out a message indicating so."
   ]
  },
  {
   "cell_type": "raw",
   "id": "4d5c3276",
   "metadata": {},
   "source": [
    "Q10. A study was conducted to determine if the proportion of people who prefer milk chocolate, dark \n",
    "chocolate, or white chocolate is different in the U.S. versus the U.K. A random sample of 500 people from \n",
    "the U.S. and a random sample of 500 people from the U.K. were surveyed. The results are shown in the \n",
    "contingency table below. Conduct a chi-square test for independence to determine if there is a significant \n",
    "association between chocolate preference and country of origin.\n",
    "Milk Chocolate\n",
    "U.S. (n=500) 200 150 150\n",
    "U.K. (n=500) 225 175 100\n",
    "Dark Chocolate White Chocolate\n",
    "Use a significance level of 0.01."
   ]
  },
  {
   "cell_type": "markdown",
   "id": "06afa90c",
   "metadata": {},
   "source": [
    "To conduct a chi-square test for independence to determine if there is a significant association between chocolate preference and country of origin, we can use the following steps in Python:"
   ]
  },
  {
   "cell_type": "code",
   "execution_count": 11,
   "id": "249f2090",
   "metadata": {},
   "outputs": [
    {
     "name": "stdout",
     "output_type": "stream",
     "text": [
      "There is a significant association between chocolate preference and country of origin.\n"
     ]
    }
   ],
   "source": [
    "import numpy as np\n",
    "from scipy.stats import chi2_contingency\n",
    "\n",
    "# the contingency table\n",
    "cont_table = np.array([[200, 150, 150], [225, 175, 100]])\n",
    "\n",
    "# Calculate the chi-square test statistic, p-value, degrees of freedom, and expected frequencies\n",
    "chi_sq_stat, p_value, dof, expected_freq = chi2_contingency(cont_table)\n",
    "\n",
    "# compare the p-value to the significance level\n",
    "alpha = 0.01\n",
    "\n",
    "if p_value > alpha:\n",
    "    print(\"There is no significant association between chocolate preference and country of origin.\")\n",
    "else:\n",
    "    print(\"There is a significant association between chocolate preference and country of origin.\")"
   ]
  },
  {
   "cell_type": "markdown",
   "id": "3c631d04",
   "metadata": {},
   "source": [
    "In this code, we first define the contingency table as a NumPy array, where the rows represent the country of origin (U.S. or U.K.) and the columns represent the chocolate preference (Milk, Dark, or White). We then use the chi2_contingency function from the SciPy library to calculate the chi-square test statistic, p-value, degrees of freedom, and expected frequencies, by passing in the contingency table as an argument.\n",
    "\n",
    "Finally, we compare the p-value to the significance level of 0.01 and print out the appropriate message. If the p-value is greater than the significance level, we conclude that there is no significant association between chocolate preference and country of origin and print out a message indicating so. Otherwise, we conclude that there is a significant association between chocolate preference and country of origin and print out a message "
   ]
  },
  {
   "cell_type": "raw",
   "id": "9fd13a5b",
   "metadata": {},
   "source": [
    "Q11. A random sample of 30 people was selected from a population with an unknown mean and standard \n",
    "deviation. The sample mean was found to be 72 and the sample standard deviation was found to be 10. \n",
    "Conduct a hypothesis test to determine if the population mean is significantly different from 70. Use a \n",
    "significance level of 0.05."
   ]
  },
  {
   "cell_type": "markdown",
   "id": "bf3a4153",
   "metadata": {},
   "source": [
    "To conduct a hypothesis test to determine if the population mean is significantly different from 70, we can use a t-test since the population standard deviation is unknown and the sample size is small (less than 30).\n",
    "\n",
    "Here are the steps to conduct the hypothesis test in Python:"
   ]
  },
  {
   "cell_type": "code",
   "execution_count": 12,
   "id": "cb56475f",
   "metadata": {},
   "outputs": [
    {
     "name": "stdout",
     "output_type": "stream",
     "text": [
      "There is not enough evidence to reject the null hypothesis.\n"
     ]
    }
   ],
   "source": [
    "import numpy as np\n",
    "from scipy.stats import t\n",
    "\n",
    "# Define the sample size, sample mean, sample standard deviation, null hypothesis mean, and significance level\n",
    "n = 30\n",
    "sample_mean = 72\n",
    "sample_std = 10\n",
    "null_mean = 70\n",
    "alpha = 0.05\n",
    "\n",
    "# Calculate the t-test statistic and p-value\n",
    "t_stat = (sample_mean - null_mean) / (sample_std / np.sqrt(n))\n",
    "p_value = t.sf(abs(t_stat), n-1) * 2\n",
    "\n",
    "# Compare the p-value to the significance level\n",
    "if p_value > alpha:\n",
    "    print(\"There is not enough evidence to reject the null hypothesis.\")\n",
    "else:\n",
    "    print(\"We reject the null hypothesis and conclude that the population mean is significantly different from 70.\")"
   ]
  },
  {
   "cell_type": "markdown",
   "id": "70acf774",
   "metadata": {},
   "source": [
    "The resulting p-value is 0.0578, which is greater than the significance level of 0.05. Therefore, we fail to reject the null hypothesis and conclude that there is not enough evidence to suggest that the population mean is significantly different from 70.\n",
    "\n",
    "In this code, we first define the sample size, sample mean, sample standard deviation, null hypothesis mean, and significance level. We then use the t function from the SciPy library to calculate the t-test statistic and p-value, by passing in the sample mean, null hypothesis mean, sample standard deviation, and sample size as arguments.\n",
    "\n",
    "Finally, we compare the p-value to the significance level of 0.05 and print out the appropriate message. If the p-value is greater than the significance level, we fail to reject the null hypothesis and conclude that there is not enough evidence to suggest that the population mean is significantly different from 70. Otherwise, we reject the null hypothesis and conclude that the population mean is significantly different from 70."
   ]
  },
  {
   "cell_type": "markdown",
   "id": "0c1e93c4",
   "metadata": {},
   "source": [
    "Thank You \n",
    "Pwskills"
   ]
  },
  {
   "cell_type": "code",
   "execution_count": null,
   "id": "3b35fbef",
   "metadata": {},
   "outputs": [],
   "source": []
  }
 ],
 "metadata": {
  "kernelspec": {
   "display_name": "Python 3 (ipykernel)",
   "language": "python",
   "name": "python3"
  },
  "language_info": {
   "codemirror_mode": {
    "name": "ipython",
    "version": 3
   },
   "file_extension": ".py",
   "mimetype": "text/x-python",
   "name": "python",
   "nbconvert_exporter": "python",
   "pygments_lexer": "ipython3",
   "version": "3.9.12"
  }
 },
 "nbformat": 4,
 "nbformat_minor": 5
}
