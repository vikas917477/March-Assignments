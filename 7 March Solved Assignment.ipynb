{
 "cells": [
  {
   "cell_type": "markdown",
   "id": "241727dd",
   "metadata": {},
   "source": [
    "# Statistics Basic-2\n",
    "Assignment Questions"
   ]
  },
  {
   "cell_type": "raw",
   "id": "90a3286f",
   "metadata": {},
   "source": [
    "Q1. What are the three measures of central tendency?"
   ]
  },
  {
   "cell_type": "markdown",
   "id": "f1f67d31",
   "metadata": {},
   "source": [
    "The three measures of central tendency are:\n",
    "\n",
    "1. Mean: The mean is the average of a set of numbers. It is calculated by summing up all the values in the dataset and then dividing by the number of values. The mean is a useful measure of central tendency when the data is normally distributed or symmetric.\n",
    "\n",
    "2. Median: The median is the middle value in a dataset when the values are arranged in order from smallest to largest. It is a useful measure of central tendency when the data contains outliers or is skewed.\n",
    "\n",
    "3. Mode: The mode is the most frequently occurring value in a dataset. It is a useful measure of central tendency when the data contains discrete values or categories."
   ]
  },
  {
   "cell_type": "raw",
   "id": "b95dc0fc",
   "metadata": {},
   "source": [
    "Q2. What is the difference between the mean, median, and mode? How are they used to measure the \n",
    "central tendency of a dataset?"
   ]
  },
  {
   "cell_type": "markdown",
   "id": "df593fc8",
   "metadata": {},
   "source": [
    "The mean, median, and mode are measures of central tendency used to describe the \"typical\" value or central value of a dataset. The main differences between these measures are:\n",
    "\n",
    "1. Mean: The mean is the sum of all the values in a dataset divided by the number of values. It is sensitive to outliers and extreme values in the dataset, and can be influenced by skewed data. The mean is used to measure central tendency when the data is normally distributed or symmetric.\n",
    "\n",
    "2. Median: The median is the middle value in a dataset when the values are arranged in order from smallest to largest. It is less sensitive to outliers and extreme values than the mean and can be used to measure central tendency when the data contains outliers or is skewed.\n",
    "\n",
    "3. Mode: The mode is the value that occurs most frequently in a dataset. It is useful for describing the most common value or category in a dataset and is often used to measure central tendency when the data contains discrete values or categories.\n",
    "\n",
    "All three measures of central tendency provide different information about the central value of a dataset, and the choice of which measure to use depends on the nature of the data and the research question being addressed. Generally, the mean is the most commonly used measure of central tendency, but it is important to consider the median and mode as well, especially if the dataset contains outliers or is not normally distributed."
   ]
  },
  {
   "cell_type": "raw",
   "id": "b944d002",
   "metadata": {},
   "source": [
    "Q3. Measure the three measures of central tendency for the given height data:\n",
    "\n",
    " [178,177,176,177,178.2,178,175,179,180,175,178.9,176.2,177,172.5,178,176.5]"
   ]
  },
  {
   "cell_type": "markdown",
   "id": "aa4e5f2e",
   "metadata": {},
   "source": [
    "To find the measures of central tendency for the given height data, we can use the following formulas:\n",
    "\n",
    "Mean = (sum of values) / (number of values)\n",
    "\n",
    "Median = middle value of a sorted dataset\n",
    "\n",
    "Mode = value that appears most frequently in the dataset\n",
    "\n",
    "First, let's sort the data in ascending order:\n",
    "\n",
    "[172.5, 175, 175, 176, 176.2, 176.5, 177, 177, 178, 178, 178, 178.2, 178.9, 179, 180]\n",
    "\n",
    "Next, let's calculate the mean:\n",
    "\n",
    "Mean = (sum of values) / (number of values)\n",
    "Mean = (172.5 + 175 + 175 + 176 + 176.2 + 176.5 + 177 + 177 + 178 + 178 + 178 + 178.2 + 178.9 + 179 + 180) / 15\n",
    "Mean = 176.9\n",
    "\n",
    "The mean height is approximately 176.9 cm.\n",
    "\n",
    "Next, let's calculate the median:\n",
    "\n",
    "Median = middle value of a sorted dataset\n",
    "Median = (176.5 + 177) / 2\n",
    "Median = 176.75\n",
    "\n",
    "The median height is approximately 176.75 cm.\n",
    "\n",
    "Finally, let's calculate the mode:\n",
    "\n",
    "Mode = value that appears most frequently in the dataset\n",
    "Mode = 175, 177, 178 (all appear twice)\n",
    "\n",
    "There is no single mode for this dataset as there are three values that appear twice with the same frequency. Therefore, this dataset has multiple modes.\n",
    "\n",
    "So, the mean height is 176.9 cm, the median height is 176.75 cm, and the mode(s) of the height data are 175 cm, 177 cm, and 178 cm."
   ]
  },
  {
   "cell_type": "raw",
   "id": "c1ffa35f",
   "metadata": {},
   "source": [
    "Q4. Find the standard deviation for the given data:\n",
    "\n",
    "[178,177,176,177,178.2,178,175,179,180,175,178.9,176.2,177,172.5,178,176.5]"
   ]
  },
  {
   "cell_type": "raw",
   "id": "5944d878",
   "metadata": {},
   "source": [
    "To find the standard deviation for the given data, we can use the following formula:\n",
    "\n",
    "standard deviation = sqrt(sum of (each value - mean)^2 / number of values)\n",
    "\n",
    "First, let's calculate the mean of the data:\n",
    "\n",
    "Mean = (sum of values) / (number of values)\n",
    "Mean = (172.5 + 175 + 175 + 176 + 176.2 + 176.5 + 177 + 177 + 178 + 178 + 178 + 178.2 + 178.9 + 179 + 180) / 15\n",
    "Mean = 176.9\n",
    "\n",
    "Next, we can calculate the deviation of each value from the mean:\n",
    "\n",
    "Deviation from mean = value - mean\n",
    "\n",
    "For example, the deviation of the first value (178) from the mean (176.9) is:\n",
    "\n",
    "Deviation from mean = 178 - 176.9\n",
    "Deviation from mean = 1.1\n",
    "\n",
    "Similarly, we can calculate the deviation of each value from the mean and list them in a table:\n",
    "\n",
    "Value\tDeviation from Mean\n",
    "178\t            1.1\n",
    "177\t            0.1\n",
    "176\t           -0.9\n",
    "177\t            0.1\n",
    "178.2\t        1.3\n",
    "178\t            1.1\n",
    "175\t           -1.9\n",
    "179\t            2.1\n",
    "180\t            3.1\n",
    "175\t           -1.9\n",
    "178.9\t        2.0\n",
    "176.2\t       -0.7\n",
    "177\t            0.1\n",
    "172.5\t       -4.4\n",
    "178\t            1.1\n",
    "176.5\t       -0.4\n",
    "Next, we can square each deviation:\n",
    "\n",
    "Value\tDeviation from Mean\t  Deviation Squared\n",
    "178\t        1.1               1.21\n",
    "177\t\t    0.1               0.01\n",
    "176\t\t   -0.9               0.81\n",
    "177\t\t    0.1               0.01\n",
    "178.2\t\t1.3               1.69\n",
    "178\t\t    1.1               1.21\n",
    "175\t\t   -1.9               3.61\n",
    "179\t\t    2.1               4.41\n",
    "180\t\t    3.1               9.61\n",
    "175\t\t   -1.9               3.61\n",
    "178.9\t\t2.0               4.00\n",
    "176.2\t\t-0.7              0.49\n",
    "177\t\t    0.1               0.01\n",
    "172.5\t\t-4.4              19.36\n",
    "178\t\t    1.1               1.21\n",
    "176.5\t\t-0.4              0.16\n",
    "Then, we can calculate the sum of the squared deviations:\n",
    "\n",
    "Sum of squared deviations = sum of (each deviation squared)\n",
    "\n",
    "Sum of squared deviations = 1.21 + 0.01 + 0.81 + 0.01 + 1."
   ]
  },
  {
   "cell_type": "raw",
   "id": "a7ac99a9",
   "metadata": {},
   "source": [
    "Q5. How are measures of dispersion such as range, variance, and standard deviation used to describe \n",
    "the spread of a dataset? Provide an example."
   ]
  },
  {
   "cell_type": "markdown",
   "id": "051042d2",
   "metadata": {},
   "source": [
    "Measures of dispersion such as range, variance, and standard deviation are used to describe how spread out the data is from the central tendency.\n",
    "\n",
    "The range is the simplest measure of dispersion and is defined as the difference between the maximum and minimum values in a dataset. However, it can be misleading when there are outliers in the data.\n",
    "\n",
    "The variance is a measure of how much the individual data points deviate from the mean of the dataset. It is calculated by subtracting each data point from the mean, squaring the difference, and taking the average of the squared differences.\n",
    "\n",
    "The standard deviation is the square root of the variance and is also a measure of how much the data deviates from the mean. The standard deviation is preferred over the variance because it is expressed in the same units as the original data.\n",
    "\n",
    "For example, consider two datasets A and B. Dataset A has a mean of 10 and a standard deviation of 2, while dataset B has a mean of 10 and a standard deviation of 5. This means that the data points in dataset B are more spread out than the data points in dataset A, even though both datasets have the same mean. The standard deviation provides a quantitative measure of how much the data varies from the mean and allows for comparisons between datasets with different units."
   ]
  },
  {
   "cell_type": "raw",
   "id": "69e3b4f7",
   "metadata": {},
   "source": [
    "Q6. What is a Venn diagram?"
   ]
  },
  {
   "cell_type": "markdown",
   "id": "9af826f5",
   "metadata": {},
   "source": [
    "A Venn diagram is a graphical representation of the relationships between different sets or groups of objects or concepts. It is composed of overlapping circles, each representing a set, and the shared region between the circles represents the intersection of the sets.\n",
    "\n",
    "The Venn diagram is often used in mathematics and statistics to illustrate set theory concepts, such as union, intersection, and complement. It can also be used in other fields to represent relationships between categories, such as in biology to represent overlapping characteristics of different species.\n",
    "\n",
    "For example, a Venn diagram can be used to represent the relationship between two sets: Set A, which contains all the even numbers from 1 to 10, and Set B, which contains all the multiples of 3 from 1 to 10. The circles representing Set A and Set B would overlap to show the numbers that are in both sets, which in this case would be 6. The remaining numbers in Set A and Set B that do not overlap would be shown in their respective circles."
   ]
  },
  {
   "cell_type": "raw",
   "id": "8cd5723e",
   "metadata": {},
   "source": [
    "Q7. For the two given sets A = (2,3,4,5,6,7) & B = (0,2,6,8,10). Find:\n",
    "\n",
    "(i) \tA B\n",
    "\n",
    "(ii)\tA ⋃ B"
   ]
  },
  {
   "cell_type": "markdown",
   "id": "a5528a08",
   "metadata": {},
   "source": [
    "(i) A ∩ B is the intersection of sets A and B, which means the elements that are common to both sets. From the given sets A and B, the common elements are 2 and 6. So,\n",
    "\n",
    "A ∩ B = {2, 6}\n",
    "\n",
    "(ii) A ⋃ B is the union of sets A and B, which means all the elements that are in either set A or set B or both. From the given sets A and B, the union set would contain all the elements from both sets without repeating them. So,\n",
    "\n",
    "A ⋃ B = {0, 2, 3, 4, 5, 6, 7, 8, 10}"
   ]
  },
  {
   "cell_type": "raw",
   "id": "9e3dfdc0",
   "metadata": {},
   "source": [
    "Q8. What do you understand about skewness in data?"
   ]
  },
  {
   "cell_type": "markdown",
   "id": "daa63648",
   "metadata": {},
   "source": [
    "Skewness is a measure of the asymmetry of a probability distribution or a dataset. In a perfectly symmetrical distribution, the mean, median, and mode are all the same value. But if the distribution is not symmetrical, then the values of the mean, median, and mode will be different.\n",
    "\n",
    "A distribution is considered skewed if it is not symmetrical. If the tail of the distribution is longer on the left side, then it is called left-skewed or negatively skewed. On the other hand, if the tail of the distribution is longer on the right side, then it is called right-skewed or positively skewed.\n",
    "\n",
    "Skewness can be measured using a statistical measure called the skewness coefficient. A positive value of the skewness coefficient indicates a right-skewed distribution, and a negative value indicates a left-skewed distribution. A skewness coefficient of zero indicates a perfectly symmetrical distribution.\n",
    "\n",
    "Skewness in data is important because it affects the interpretation of the data. For example, in a right-skewed distribution, the mean value will be greater than the median value, and in a left-skewed distribution, the mean value will be less than the median value. This difference between the mean and median can affect the conclusions drawn from the data, especially in fields such as finance, economics, and social sciences."
   ]
  },
  {
   "cell_type": "raw",
   "id": "88d8c9f9",
   "metadata": {},
   "source": [
    "Q9. If a data is right skewed then what will be the position of median with respect to mean?"
   ]
  },
  {
   "cell_type": "markdown",
   "id": "7c11c582",
   "metadata": {},
   "source": [
    "In a right-skewed distribution, the mean value will be greater than the median value. This is because the tail of the distribution is longer on the right side, which pulls the mean value towards the larger values. At the same time, the median value is less affected by the extreme values and tends to remain closer to the center of the distribution. Therefore, in a right-skewed distribution, the median will be located to the left of the mean."
   ]
  },
  {
   "cell_type": "raw",
   "id": "1e30731a",
   "metadata": {},
   "source": [
    "Q10. Explain the difference between covariance and correlation. How are these measures used in \n",
    "statistical analysis?"
   ]
  },
  {
   "cell_type": "markdown",
   "id": "9db2b0a6",
   "metadata": {},
   "source": [
    "Covariance and correlation are two measures that describe the relationship between two variables.\n",
    "\n",
    "Covariance measures how two variables vary together. Specifically, it measures the extent to which two variables deviate from their means in similar ways. A positive covariance indicates that the variables tend to increase or decrease together, while a negative covariance indicates that one variable tends to increase as the other decreases. However, the magnitude of the covariance is affected by the scale of the variables, which makes it difficult to compare covariances across different datasets.\n",
    "\n",
    "Correlation, on the other hand, measures the strength and direction of the linear relationship between two variables. It is calculated by dividing the covariance by the product of the standard deviations of the two variables. This standardized measure ranges from -1 to +1, where a correlation coefficient of +1 indicates a perfect positive correlation, a correlation coefficient of -1 indicates a perfect negative correlation, and a correlation coefficient of 0 indicates no correlation.\n",
    "\n",
    "Correlation is a more useful measure than covariance because it provides a standardized measure that can be easily interpreted and compared across different datasets. Correlation is used in statistical analysis to identify relationships between variables, to make predictions about future observations, and to test hypotheses about the nature of the relationship between the variables. Covariance is also used in statistical analysis, but it is less commonly used due to its lack of standardization.\n",
    "\n",
    "\n",
    "\n"
   ]
  },
  {
   "cell_type": "raw",
   "id": "7d06c07a",
   "metadata": {},
   "source": [
    "Q11. What is the formula for calculating the sample mean? Provide an example calculation for a \n",
    "dataset."
   ]
  },
  {
   "cell_type": "markdown",
   "id": "77871f21",
   "metadata": {},
   "source": [
    "The formula for calculating the sample mean is:\n",
    "\n",
    "Sample mean = (sum of all the data points in the sample) / (number of data points in the sample)\n",
    "\n",
    "For example, consider the following dataset: [10, 15, 12, 17, 14]. To calculate the sample mean:\n",
    "\n",
    "Sample mean = (10 + 15 + 12 + 17 + 14) / 5\n",
    "\n",
    "Sample mean = 68 / 5\n",
    "\n",
    "Sample mean = 13.6\n",
    "\n",
    "Therefore, the sample mean for the given dataset is 13.6."
   ]
  },
  {
   "cell_type": "raw",
   "id": "89f5576a",
   "metadata": {},
   "source": [
    "Q12. For a normal distribution data what is the relationship between its measure of central tendency?"
   ]
  },
  {
   "cell_type": "markdown",
   "id": "f0326a55",
   "metadata": {},
   "source": [
    "For a normal distribution, the measure of central tendency (mean, median, and mode) are equal to each other. This means that the mean, median, and mode of a normally distributed dataset will be at the same point, which is the peak of the curve. This is because a normal distribution is symmetric around its mean, and the mean is at the center of the distribution. As a result, the median and mode will also be at the center of the distribution, which is the same as the mean."
   ]
  },
  {
   "cell_type": "raw",
   "id": "511922df",
   "metadata": {},
   "source": [
    "Q13. How is covariance different from correlation?"
   ]
  },
  {
   "cell_type": "markdown",
   "id": "e8492c9c",
   "metadata": {},
   "source": [
    "Covariance and correlation are both measures of the relationship between two variables, but they differ in their scale and interpretation.\n",
    "\n",
    "Covariance measures how two variables vary together. Specifically, it measures the degree to which two variables are linearly related to each other. A positive covariance indicates that the variables tend to increase or decrease together, while a negative covariance indicates that the variables tend to move in opposite directions. However, the magnitude of covariance depends on the scale of the variables, making it difficult to interpret the strength of the relationship.\n",
    "\n",
    "Correlation, on the other hand, is a standardized measure of the linear relationship between two variables. It ranges from -1 to 1, with a correlation coefficient of 1 indicating a perfect positive relationship, -1 indicating a perfect negative relationship, and 0 indicating no linear relationship. Correlation coefficients allow for easy interpretation of the strength and direction of the relationship between two variables.\n",
    "\n",
    "In summary, covariance measures the strength and direction of the linear relationship between two variables, while correlation measures the strength and direction of the linear relationship while also providing a standardized measure for easy interpretation."
   ]
  },
  {
   "cell_type": "raw",
   "id": "98b3e1d7",
   "metadata": {},
   "source": [
    "Q14. How do outliers affect measures of central tendency and dispersion? Provide an example."
   ]
  },
  {
   "cell_type": "markdown",
   "id": "3880ea3e",
   "metadata": {},
   "source": [
    "Outliers are extreme values in a dataset that are very different from the rest of the data. They can have a significant impact on measures of central tendency and dispersion.\n",
    "\n",
    "For example, consider the following dataset of salaries for a company:\n",
    "\n",
    "[30,000, 35,000, 40,000, 45,000, 50,000, 55,000, 60,000, 65,000, 70,000, 1,000,000]\n",
    "\n",
    "The mean salary for this dataset is 143,500, which is significantly higher than what most people in the company earn. This is because the outlier salary of 1,000,000 is much larger than the rest of the salaries. In this case, the median or mode might be better measures of central tendency.\n",
    "\n",
    "Similarly, the standard deviation for this dataset is 284,103. This is a very large value and suggests a high level of variability in the data, but it is largely influenced by the outlier value. If we removed the outlier, the standard deviation would be much smaller and would be a better reflection of the variation in the salaries of the majority of employees.\n",
    "\n",
    "In general, outliers can skew the results of statistical analysis, and it is important to identify and handle them appropriately."
   ]
  },
  {
   "cell_type": "code",
   "execution_count": null,
   "id": "cf63eb3f",
   "metadata": {},
   "outputs": [],
   "source": []
  },
  {
   "cell_type": "markdown",
   "id": "83aa9f1f",
   "metadata": {},
   "source": [
    "Thank You \n",
    "PwSkills"
   ]
  }
 ],
 "metadata": {
  "kernelspec": {
   "display_name": "Python 3 (ipykernel)",
   "language": "python",
   "name": "python3"
  },
  "language_info": {
   "codemirror_mode": {
    "name": "ipython",
    "version": 3
   },
   "file_extension": ".py",
   "mimetype": "text/x-python",
   "name": "python",
   "nbconvert_exporter": "python",
   "pygments_lexer": "ipython3",
   "version": "3.9.12"
  }
 },
 "nbformat": 4,
 "nbformat_minor": 5
}
