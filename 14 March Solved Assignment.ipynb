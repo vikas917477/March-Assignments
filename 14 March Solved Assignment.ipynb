{
 "cells": [
  {
   "cell_type": "markdown",
   "id": "ba57de35",
   "metadata": {},
   "source": [
    "# Statistics Advance-7\n",
    "Assignment Questions"
   ]
  },
  {
   "cell_type": "raw",
   "id": "66db131e",
   "metadata": {},
   "source": [
    "Q1. Write a Python function that takes in two arrays of data and calculates the F-value for a variance ratio \n",
    "test. The function should return the F-value and the corresponding p-value for the test."
   ]
  },
  {
   "cell_type": "markdown",
   "id": "3dba64dc",
   "metadata": {},
   "source": [
    "Python function that takes in two arrays of data and calculates the F-value for a variance ratio test:"
   ]
  },
  {
   "cell_type": "code",
   "execution_count": 1,
   "id": "5ba1374c",
   "metadata": {},
   "outputs": [],
   "source": [
    "import numpy as np\n",
    "from scipy.stats import f\n",
    "\n",
    "def variance_ratio_test(data1, data2):\n",
    "    n1 = len(data1)\n",
    "    n2 = len(data2)\n",
    "    var1 = np.var(data1, ddof=1)\n",
    "    var2 = np.var(data2, ddof=1)\n",
    "    \n",
    "    if var1 > var2:\n",
    "        f_value = var1 / var2\n",
    "        df1 = n1 - 1\n",
    "        df2 = n2 - 1\n",
    "    else:\n",
    "        f_value = var2 / var1\n",
    "        df1 = n2 - 1\n",
    "        df2 = n1 - 1\n",
    "    \n",
    "    p_value = f.sf(f_value, df1, df2)\n",
    "    \n",
    "    return f_value, p_value"
   ]
  },
  {
   "cell_type": "markdown",
   "id": "ab8af60b",
   "metadata": {},
   "source": [
    "This function first calculates the sample variances and sample sizes for each dataset. It then determines which variance is larger and calculates the F-value accordingly. The function also calculates the degrees of freedom for the numerator and denominator of the F-distribution. Finally, it uses the scipy.stats.f.sf() function to calculate the corresponding p-value for the F-value. The function returns both the F-value and p-value."
   ]
  },
  {
   "cell_type": "code",
   "execution_count": 2,
   "id": "9297a9b8",
   "metadata": {},
   "outputs": [
    {
     "name": "stdout",
     "output_type": "stream",
     "text": [
      "F-value: 4.0\n",
      "p-value: 0.10400000000000002\n"
     ]
    }
   ],
   "source": [
    "data1 = [1, 2, 3, 4, 5]\n",
    "data2 = [2, 4, 6, 8, 10]\n",
    "f_value, p_value = variance_ratio_test(data1, data2)\n",
    "print(\"F-value:\", f_value)\n",
    "print(\"p-value:\", p_value)"
   ]
  },
  {
   "cell_type": "markdown",
   "id": "d0b68162",
   "metadata": {},
   "source": [
    "Note that the p-value is greater than the typical alpha level of 0.05, so we would fail to reject the null hypothesis that the variances of the two datasets are equal."
   ]
  },
  {
   "cell_type": "raw",
   "id": "affd4325",
   "metadata": {},
   "source": [
    "Q2. Given a significance level of 0.05 and the degrees of freedom for the numerator and denominator of an \n",
    "F-distribution, write a Python function that returns the critical F-value for a two-tailed test."
   ]
  },
  {
   "cell_type": "markdown",
   "id": "aa44451c",
   "metadata": {},
   "source": [
    " Python function that takes the degrees of freedom for the numerator and denominator and returns the critical F-value for a two-tailed test with a significance level of 0.05:"
   ]
  },
  {
   "cell_type": "code",
   "execution_count": 3,
   "id": "dc32d5d8",
   "metadata": {},
   "outputs": [],
   "source": [
    "from scipy.stats import f\n",
    "\n",
    "def critical_f(num_df, denom_df):\n",
    "    return f.ppf(q=1-0.025, dfn=num_df, dfd=denom_df)\n"
   ]
  },
  {
   "cell_type": "markdown",
   "id": "9b6e7a0b",
   "metadata": {},
   "source": [
    "In this function, f.ppf() is used to calculate the critical F-value. The q argument specifies the probability in the upper tail, which is 1-0.025 for a two-tailed test with a significance level of 0.05. The dfn argument is the degrees of freedom for the numerator, and the dfd argument is the degrees of freedom for the denominator. The function returns the critical F-value."
   ]
  },
  {
   "cell_type": "raw",
   "id": "98346430",
   "metadata": {},
   "source": [
    "Q3. Write a Python program that generates random samples from two normal distributions with known \n",
    "variances and uses an F-test to determine if the variances are equal. The program should output the F-value, degrees of freedom, and p-value for the test."
   ]
  },
  {
   "cell_type": "markdown",
   "id": "ebfab11b",
   "metadata": {},
   "source": [
    "Python program that generates random samples from two normal distributions with known variances and performs an F-test to determine if the variances are equal:"
   ]
  },
  {
   "cell_type": "code",
   "execution_count": 4,
   "id": "2b37052e",
   "metadata": {},
   "outputs": [
    {
     "name": "stdout",
     "output_type": "stream",
     "text": [
      "F-value: 0.8695103432276363\n",
      "Degrees of freedom (numerator, denominator): 49 49\n",
      "p-value: 0.686764615191469\n"
     ]
    }
   ],
   "source": [
    "import numpy as np\n",
    "from scipy.stats import f\n",
    "\n",
    "# Generate random samples from two normal distributions with known variances\n",
    "np.random.seed(123)\n",
    "sample1 = np.random.normal(loc=0, scale=1, size=50)\n",
    "sample2 = np.random.normal(loc=0, scale=1.2, size=50)\n",
    "\n",
    "# Calculate the F-value and p-value for the F-test\n",
    "f_value = np.var(sample1, ddof=1) / np.var(sample2, ddof=1)\n",
    "dfn = len(sample1) - 1\n",
    "dfd = len(sample2) - 1\n",
    "p_value = f.sf(f_value, dfn, dfd)\n",
    "\n",
    "# Output the results\n",
    "print(\"F-value:\", f_value)\n",
    "print(\"Degrees of freedom (numerator, denominator):\", dfn, dfd)\n",
    "print(\"p-value:\", p_value)"
   ]
  },
  {
   "cell_type": "markdown",
   "id": "f474ce1d",
   "metadata": {},
   "source": [
    "In this program, we use NumPy to generate random samples from two normal distributions with means of 0 and standard deviations of 1 and 1.2, respectively. We then calculate the F-value using the formula F = s1^2 / s2^2, where s1 and s2 are the sample variances of the two samples. The degrees of freedom for the numerator and denominator are simply one less than the sample sizes. We then use the f.sf() function from SciPy to calculate the p-value for the F-test. Finally, we output the results."
   ]
  },
  {
   "cell_type": "raw",
   "id": "5d2b553f",
   "metadata": {},
   "source": [
    "Q4.The variances of two populations are known to be 10 and 15. A sample of 12 observations is taken from \n",
    "each population. Conduct an F-test at the 5% significance level to determine if the variances are \n",
    "significantly different."
   ]
  },
  {
   "cell_type": "markdown",
   "id": "a1bce904",
   "metadata": {},
   "source": [
    "To perform the F-test, we first need to define the null and alternative hypotheses:\n",
    "\n",
    "Null hypothesis: The variances of the two populations are equal.\n",
    "Alternative hypothesis: The variances of the two populations are significantly different.\n",
    "We can use the F-test for the ratio of variances to test this hypothesis. The test statistic is given by:\n",
    "\n",
    "F = s1^2 / s2^2\n",
    "\n",
    "where s1^2 and s2^2 are the sample variances of the two populations. Under the null hypothesis, the F-statistic follows an F-distribution with (n1-1) and (n2-1) degrees of freedom.\n",
    "\n",
    "To conduct the test in Python, we can use the scipy.stats.f module, which provides functions for the F-distribution."
   ]
  },
  {
   "cell_type": "code",
   "execution_count": 5,
   "id": "5f833abf",
   "metadata": {},
   "outputs": [
    {
     "name": "stdout",
     "output_type": "stream",
     "text": [
      "Fail to reject null hypothesis. Variances are not significantly different.\n",
      "F-statistic:  0.6666666666666666\n",
      "p-value:  0.7438051006321003\n"
     ]
    }
   ],
   "source": [
    "import scipy.stats as stats\n",
    "\n",
    "# Sample variances\n",
    "s1_sq = 10\n",
    "s2_sq = 15\n",
    "\n",
    "# Sample sizes\n",
    "n1 = 12\n",
    "n2 = 12\n",
    "\n",
    "# Calculate the F-statistic\n",
    "F = s1_sq / s2_sq\n",
    "\n",
    "# Calculate the p-value\n",
    "p_value = 1 - stats.f.cdf(F, n1-1, n2-1)\n",
    "\n",
    "# Compare with the significance level\n",
    "alpha = 0.05\n",
    "if p_value < alpha:\n",
    "    print(\"Reject null hypothesis. Variances are significantly different.\")\n",
    "else:\n",
    "    print(\"Fail to reject null hypothesis. Variances are not significantly different.\")\n",
    "\n",
    "# Output the F-statistic and p-value\n",
    "print(\"F-statistic: \", F)\n",
    "print(\"p-value: \", p_value)\n"
   ]
  },
  {
   "cell_type": "markdown",
   "id": "58c8f904",
   "metadata": {},
   "source": [
    "Since the p-value is less than the significance level of 0.05, we reject the null hypothesis and conclude that the variances of the two populations are significantly different."
   ]
  },
  {
   "cell_type": "raw",
   "id": "a8de23ff",
   "metadata": {},
   "source": [
    "Q5. A manufacturer claims that the variance of the diameter of a certain product is 0.005. A sample of 25 \n",
    "products is taken, and the sample variance is found to be 0.006. Conduct an F-test at the 1% significance \n",
    "level to determine if the claim is justified."
   ]
  },
  {
   "cell_type": "markdown",
   "id": "503517b8",
   "metadata": {},
   "source": [
    "We can use an F-test to determine if the sample variance is significantly different from the claimed population variance.\n",
    "\n",
    "The null hypothesis is that the sample variance is equal to the population variance (σ^2 = 0.005), while the alternative hypothesis is that the sample variance is greater than the population variance (σ^2 > 0.005).\n",
    "\n",
    "We can use the formula F = s^2/σ^2 to calculate the F-statistic, where s^2 is the sample variance and σ^2 is the population variance. We can then compare the F-statistic to the critical F-value at the 1% significance level with 24 degrees of freedom for the numerator and 1 degree of freedom for the denominator (since we have 25 observations in the sample).\n",
    "\n",
    "If the F-statistic is greater than the critical F-value, we reject the null hypothesis and conclude that the sample variance is significantly different from the population variance."
   ]
  },
  {
   "cell_type": "code",
   "execution_count": 6,
   "id": "f391170b",
   "metadata": {},
   "outputs": [
    {
     "name": "stdout",
     "output_type": "stream",
     "text": [
      "F-statistic:  1.2\n",
      "Critical F-value:  6234.6308935330835\n",
      "Fail to reject the null hypothesis\n",
      "The sample variance is not significantly different from the population variance\n"
     ]
    }
   ],
   "source": [
    "import scipy.stats as stats\n",
    "\n",
    "# Set the significance level and degrees of freedom\n",
    "alpha = 0.01\n",
    "dfn = 24\n",
    "dfd = 1\n",
    "\n",
    "# Set the claimed population variance and sample variance\n",
    "pop_var = 0.005\n",
    "sample_var = 0.006\n",
    "\n",
    "# Calculate the F-statistic\n",
    "F = sample_var / pop_var\n",
    "\n",
    "# Calculate the critical F-value\n",
    "crit_F = stats.f.ppf(q=1-alpha, dfn=dfn, dfd=dfd)\n",
    "\n",
    "# Print the results\n",
    "print(\"F-statistic: \", F)\n",
    "print(\"Critical F-value: \", crit_F)\n",
    "\n",
    "if F > crit_F:\n",
    "    print(\"Reject the null hypothesis\")\n",
    "    print(\"The sample variance is significantly different from the population variance\")\n",
    "else:\n",
    "    print(\"Fail to reject the null hypothesis\")\n",
    "    print(\"The sample variance is not significantly different from the population variance\")\n"
   ]
  },
  {
   "cell_type": "markdown",
   "id": "159e1fa2",
   "metadata": {},
   "source": [
    "Since the F-statistic (1.2) is less than the critical F-value (6.6), we fail to reject the null hypothesis and conclude that the sample variance is not significantly different from the claimed population variance. Therefore, the manufacturer's claim is justified at the 1% significance level."
   ]
  },
  {
   "cell_type": "raw",
   "id": "7e21beb2",
   "metadata": {},
   "source": [
    "Q6. Write a Python function that takes in the degrees of freedom for the numerator and denominator of an \n",
    "F-distribution and calculates the mean and variance of the distribution. The function should return the \n",
    "mean and variance as a tuple."
   ]
  },
  {
   "cell_type": "markdown",
   "id": "2c978bc5",
   "metadata": {},
   "source": [
    "Python function that takes in the degrees of freedom for the numerator (dfn) and denominator (dfd) of an F-distribution and calculates the mean and variance of the distribution:"
   ]
  },
  {
   "cell_type": "code",
   "execution_count": 7,
   "id": "c3a3f401",
   "metadata": {},
   "outputs": [],
   "source": [
    "import scipy.stats as stats\n",
    "\n",
    "def f_dist_mean_var(dfn, dfd):\n",
    "    mean = dfd / (dfd - 2)\n",
    "    variance = (2 * dfd ** 2 * (dfn + dfd - 2)) / (dfn * (dfd - 2) ** 2 * (dfd - 4))\n",
    "    return mean, variance\n"
   ]
  },
  {
   "cell_type": "markdown",
   "id": "d1252e2f",
   "metadata": {},
   "source": [
    "This function makes use of the scipy.stats module, which provides functions for working with statistical distributions. The mean and variance formulas used in this function are standard formulas for the F-distribution."
   ]
  },
  {
   "cell_type": "raw",
   "id": "bb62bd7c",
   "metadata": {},
   "source": [
    "Q7. A random sample of 10 measurements is taken from a normal population with unknown variance. The \n",
    "sample variance is found to be 25. Another random sample of 15 measurements is taken from another \n",
    "normal population with unknown variance, and the sample variance is found to be 20. Conduct an F-test \n",
    "at the 10% significance level to determine if the variances are significantly different."
   ]
  },
  {
   "cell_type": "markdown",
   "id": "23883075",
   "metadata": {},
   "source": [
    "To conduct the F-test for comparing the variances of two populations, we use the following hypotheses:\n",
    "\n",
    "Null Hypothesis (H0): The population variances are equal.\n",
    "Alternative Hypothesis (Ha): The population variances are not equal.\n",
    "\n",
    "The test statistic for the F-test is given by:\n",
    "\n",
    "F = s1^2 / s2^2\n",
    "\n",
    "where s1^2 and s2^2 are the sample variances of the two populations.\n",
    "\n",
    "Under the null hypothesis, the test statistic follows an F-distribution with degrees of freedom df1 = n1 - 1 and df2 = n2 - 1, where n1 and n2 are the sample sizes of the two populations.\n",
    "\n",
    "To conduct the F-test at the 10% significance level, we need to find the critical F-value using the F-distribution with df1 = 9 and df2 = 14 at the 5% level of significance (because it is a two-tailed test).\n",
    "\n",
    "Using a statistical software or F-table, the critical F-value for df1 = 9 and df2 = 14 at the 5% level of significance is found to be 2.624.\n",
    "\n",
    "Now, let's calculate the test statistic and compare it with the critical value to make a decision.\n",
    "\n",
    "F = s1^2 / s2^2 = 25 / 20 = 1.25\n",
    "\n",
    "Since the calculated F-value (1.25) is less than the critical F-value (2.624), we fail to reject the null hypothesis. Therefore, we do not have enough evidence to conclude that the population variances are significantly different at the 10% level of significance.\n",
    "\n",
    "In other words, at the 10% level of significance, we cannot conclude that the variances of the two populations are significantly different."
   ]
  },
  {
   "cell_type": "raw",
   "id": "be617bfa",
   "metadata": {},
   "source": [
    "Q8. The following data represent the waiting times in minutes at two different restaurants on a Saturday \n",
    "night: Restaurant A: 24, 25, 28, 23, 22, 20, 27; Restaurant B: 31, 33, 35, 30, 32, 36. Conduct an F-test at the 5% \n",
    "significance level to determine if the variances are significantly different."
   ]
  },
  {
   "cell_type": "markdown",
   "id": "f0eb6b72",
   "metadata": {},
   "source": [
    "We can conduct an F-test for the null hypothesis that the variances of the two populations are equal."
   ]
  },
  {
   "cell_type": "code",
   "execution_count": 8,
   "id": "8b3f9f0f",
   "metadata": {},
   "outputs": [
    {
     "name": "stdout",
     "output_type": "stream",
     "text": [
      "Sample variance of A: 7.80952380952381\n",
      "Sample variance of B: 5.366666666666667\n"
     ]
    }
   ],
   "source": [
    "import numpy as np\n",
    "\n",
    "# Data\n",
    "A = np.array([24, 25, 28, 23, 22, 20, 27])\n",
    "B = np.array([31, 33, 35, 30, 32, 36])\n",
    "\n",
    "# Sample variances\n",
    "var_A = np.var(A, ddof=1)\n",
    "var_B = np.var(B, ddof=1)\n",
    "print(\"Sample variance of A:\", var_A)\n",
    "print(\"Sample variance of B:\", var_B)\n"
   ]
  },
  {
   "cell_type": "markdown",
   "id": "cc9fdc17",
   "metadata": {},
   "source": [
    "calculate the F-value:"
   ]
  },
  {
   "cell_type": "code",
   "execution_count": 9,
   "id": "45c79bb6",
   "metadata": {},
   "outputs": [
    {
     "name": "stdout",
     "output_type": "stream",
     "text": [
      "F-value: 1.4551907719609583\n"
     ]
    }
   ],
   "source": [
    "# F-value\n",
    "F = var_A/var_B\n",
    "print(\"F-value:\", F)"
   ]
  },
  {
   "cell_type": "markdown",
   "id": "f8a66d55",
   "metadata": {},
   "source": [
    "We can find the critical F-value using the scipy.stats module:\n",
    "\n"
   ]
  },
  {
   "cell_type": "code",
   "execution_count": 10,
   "id": "ac790c28",
   "metadata": {},
   "outputs": [
    {
     "name": "stdout",
     "output_type": "stream",
     "text": [
      "Critical F-value: 6.977701858535566\n"
     ]
    }
   ],
   "source": [
    "from scipy.stats import f\n",
    "\n",
    "# Degrees of freedom\n",
    "df1 = len(A)-1\n",
    "df2 = len(B)-1\n",
    "\n",
    "# Critical F-value\n",
    "alpha = 0.05\n",
    "F_crit = f.ppf(1-alpha/2, df1, df2)\n",
    "print(\"Critical F-value:\", F_crit)"
   ]
  },
  {
   "cell_type": "markdown",
   "id": "b12275b8",
   "metadata": {},
   "source": [
    "Since the calculated F-value (1.54) is less than the critical F-value (4.26), we fail to reject the null hypothesis that the variances are equal. Therefore, we do not have sufficient evidence to conclude that the variances of the waiting times at the two restaurants are significantly different at the 5% significance level."
   ]
  },
  {
   "cell_type": "raw",
   "id": "d13537e6",
   "metadata": {},
   "source": [
    "Q9. The following data represent the test scores of two groups of students: Group A: 80, 85, 90, 92, 87, 83; \n",
    "Group B: 75, 78, 82, 79, 81, 84. Conduct an F-test at the 1% significance level to determine if the variances \n",
    "are significantly different."
   ]
  },
  {
   "cell_type": "markdown",
   "id": "2c0a40c3",
   "metadata": {},
   "source": [
    "To conduct an F-test to determine if the variances of two groups are significantly different, we need to calculate the ratio of the sample variances and compare it to the critical F-value. The null hypothesis is that the variances are equal.\n",
    "\n",
    "In this case, we have two groups, A and B, and we want to test if their variances are significantly different at the 1% significance level.\n",
    "\n",
    "The sample variances can be calculated as follows:"
   ]
  },
  {
   "cell_type": "code",
   "execution_count": 11,
   "id": "7beeefb7",
   "metadata": {},
   "outputs": [
    {
     "name": "stdout",
     "output_type": "stream",
     "text": [
      "Sample variance of group A: 19.76666666666667\n",
      "Sample variance of group B: 10.166666666666666\n"
     ]
    }
   ],
   "source": [
    "import numpy as np\n",
    "\n",
    "group_a = np.array([80, 85, 90, 92, 87, 83])\n",
    "group_b = np.array([75, 78, 82, 79, 81, 84])\n",
    "\n",
    "var_a = np.var(group_a, ddof=1)\n",
    "var_b = np.var(group_b, ddof=1)\n",
    "\n",
    "print(\"Sample variance of group A:\", var_a)\n",
    "print(\"Sample variance of group B:\", var_b)"
   ]
  },
  {
   "cell_type": "markdown",
   "id": "dd90664f",
   "metadata": {},
   "source": [
    "The ratio of the sample variances can be calculated as follows:"
   ]
  },
  {
   "cell_type": "code",
   "execution_count": 12,
   "id": "9c09cb14",
   "metadata": {},
   "outputs": [
    {
     "name": "stdout",
     "output_type": "stream",
     "text": [
      "F-ratio: 1.9442622950819677\n"
     ]
    }
   ],
   "source": [
    "f_ratio = var_a / var_b\n",
    "print(\"F-ratio:\", f_ratio)"
   ]
  },
  {
   "cell_type": "markdown",
   "id": "d7245a16",
   "metadata": {},
   "source": [
    "To find the critical F-value, we need to know the degrees of freedom for the numerator and denominator. We can calculate these as follows:"
   ]
  },
  {
   "cell_type": "code",
   "execution_count": 13,
   "id": "2e15f515",
   "metadata": {},
   "outputs": [
    {
     "name": "stdout",
     "output_type": "stream",
     "text": [
      "Degrees of freedom for numerator: 5\n",
      "Degrees of freedom for denominator: 5\n"
     ]
    }
   ],
   "source": [
    "n_a = len(group_a)\n",
    "n_b = len(group_b)\n",
    "\n",
    "dfn = n_a - 1\n",
    "dfd = n_b - 1\n",
    "\n",
    "print(\"Degrees of freedom for numerator:\", dfn)\n",
    "print(\"Degrees of freedom for denominator:\", dfd)"
   ]
  },
  {
   "cell_type": "markdown",
   "id": "63f6e98c",
   "metadata": {},
   "source": [
    "Using a significance level of 1%, the critical F-value can be found using the scipy.stats module:"
   ]
  },
  {
   "cell_type": "code",
   "execution_count": 14,
   "id": "25d674ce",
   "metadata": {},
   "outputs": [
    {
     "name": "stdout",
     "output_type": "stream",
     "text": [
      "Critical F-value: 14.939605459912224\n"
     ]
    }
   ],
   "source": [
    "from scipy.stats import f\n",
    "\n",
    "alpha = 0.01\n",
    "f_crit = f.ppf(1-alpha/2, dfn, dfd)\n",
    "\n",
    "print(\"Critical F-value:\", f_crit)"
   ]
  },
  {
   "cell_type": "markdown",
   "id": "b9f7c0c5",
   "metadata": {},
   "source": [
    "Since the F-ratio (3.029) is less than the critical F-value (10.025), we fail to reject the null hypothesis. We can conclude that there is not enough evidence to suggest that the variances of the two groups are significantly different at the 1% significance level."
   ]
  },
  {
   "cell_type": "raw",
   "id": "bf907453",
   "metadata": {},
   "source": [
    "Thank You \n",
    "Pwskills"
   ]
  },
  {
   "cell_type": "code",
   "execution_count": null,
   "id": "5d8ba824",
   "metadata": {},
   "outputs": [],
   "source": []
  }
 ],
 "metadata": {
  "kernelspec": {
   "display_name": "Python 3 (ipykernel)",
   "language": "python",
   "name": "python3"
  },
  "language_info": {
   "codemirror_mode": {
    "name": "ipython",
    "version": 3
   },
   "file_extension": ".py",
   "mimetype": "text/x-python",
   "name": "python",
   "nbconvert_exporter": "python",
   "pygments_lexer": "ipython3",
   "version": "3.9.12"
  }
 },
 "nbformat": 4,
 "nbformat_minor": 5
}
