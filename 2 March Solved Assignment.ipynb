{
 "cells": [
  {
   "cell_type": "markdown",
   "id": "ad750c80",
   "metadata": {},
   "source": [
    "# Matplotlib\n",
    "Assignment Questions"
   ]
  },
  {
   "cell_type": "code",
   "execution_count": null,
   "id": "8805a3cd",
   "metadata": {},
   "outputs": [],
   "source": []
  },
  {
   "cell_type": "raw",
   "id": "05b5e37d",
   "metadata": {},
   "source": [
    "Q1: What is Matplotlib? Why is it used? Name five plots that can be plotted using the Pyplot module of\n",
    "Matplotlib."
   ]
  },
  {
   "cell_type": "markdown",
   "id": "231cbb22",
   "metadata": {},
   "source": [
    "Matplotlib is a data visualization library for creating static, animated, and interactive visualizations in Python. It is widely used for creating high-quality 2D plots and graphs. Matplotlib provides a wide range of customization options for creating various types of visualizations.\n",
    "\n",
    "Some of the reasons why Matplotlib is widely used are:\n",
    "\n",
    "1. It is easy to use and has a simple syntax.\n",
    "2. It provides a wide range of customization options to create high-quality plots and graphs.\n",
    "3. It supports a variety of plotting styles and types, including line plots, scatter plots, bar charts, histograms, and more.\n",
    "4. It is compatible with many operating systems and platforms.\n",
    "5. It is open-source and free to use.\n",
    "Five plots that can be plotted using the Pyplot module of Matplotlib are:\n",
    "\n",
    "1. Line plot: A line plot is used to visualize the relationship between two variables by plotting a line between the data points.\n",
    "2. Scatter plot: A scatter plot is used to visualize the relationship between two variables by plotting individual data points.\n",
    "3. Bar chart: A bar chart is used to compare data across different categories by plotting bars of different heights or lengths.\n",
    "4. Histogram: A histogram is used to visualize the distribution of a dataset by dividing it into bins and plotting the frequency of data points in each bin.\n",
    "5. Pie chart: A pie chart is used to represent data as slices of a circle, where each slice represents a proportion of the whole. It is often used to show proportions or percentages of different categories."
   ]
  },
  {
   "cell_type": "code",
   "execution_count": null,
   "id": "5cea3e34",
   "metadata": {},
   "outputs": [],
   "source": []
  },
  {
   "cell_type": "raw",
   "id": "cf1d30a9",
   "metadata": {},
   "source": [
    "Q2: What is a scatter plot? Use the following code to generate data for x and y. Using this generated data\n",
    "plot a scatter plot.\n",
    "import numpy as np\n",
    "np.random.seed(3)\n",
    "x = 3 + np.random.normal(0, 2, 50)\n",
    "y = 3 + np.random.normal(0, 2, len(x))\n",
    "Note: Also add title, xlabel, and ylabel to the plot."
   ]
  },
  {
   "cell_type": "markdown",
   "id": "9198f00f",
   "metadata": {},
   "source": [
    "A scatter plot is a type of plot that displays the relationship between two variables by showing individual data points as dots on a 2D coordinate system. Each dot represents a single observation in the dataset and the position of the dot on the x and y-axis indicates the values of the two variables for that observation. Scatter plots are often used to detect patterns or trends in the data and to identify potential correlations between variables.\n",
    "\n",
    "Here's the code to generate data for x and y and plot a scatter plot using Matplotlib's Pyplot module:"
   ]
  },
  {
   "cell_type": "code",
   "execution_count": 1,
   "id": "2662542f",
   "metadata": {},
   "outputs": [
    {
     "data": {
      "image/png": "[encoded data removed]",
      "text/plain": [
       "<Figure size 432x288 with 1 Axes>"
      ]
     },
     "metadata": {
      "needs_background": "light"
     },
     "output_type": "display_data"
    }
   ],
   "source": [
    "import matplotlib.pyplot as plt\n",
    "import numpy as np\n",
    "\n",
    "np.random.seed(3)\n",
    "\n",
    "# Generate data for x and y\n",
    "x = 3 + np.random.normal(0, 2, 50)\n",
    "y = 3 + np.random.normal(0, 2, len(x))\n",
    "\n",
    "# Plot a scatter plot\n",
    "plt.scatter(x, y)\n",
    "\n",
    "# Add title, xlabel, and ylabel to the plot\n",
    "plt.title(\"Scatter Plot\")\n",
    "plt.xlabel(\"X-axis\")\n",
    "plt.ylabel(\"Y-axis\")\n",
    "\n",
    "# Show the plot\n",
    "plt.show()\n"
   ]
  },
  {
   "cell_type": "markdown",
   "id": "93c31941",
   "metadata": {},
   "source": [
    "The np.random.seed(3) function sets the random seed to 3 so that the generated data is reproducible.\n",
    "\n",
    "The plt.scatter(x, y) function plots a scatter plot with x on the x-axis and y on the y-axis.\n",
    "\n",
    "The plt.title(\"Scatter Plot\"), plt.xlabel(\"X-axis\"), and plt.ylabel(\"Y-axis\") functions add a title, x-label, and y-label to the plot, respectively.\n",
    "\n",
    "Finally, plt.show() function is used to display the plot. The output plot will show the relationship between x and y variables as a scatter plot.\n",
    "\n",
    "\n",
    "\n"
   ]
  },
  {
   "cell_type": "code",
   "execution_count": null,
   "id": "947bd503",
   "metadata": {},
   "outputs": [],
   "source": []
  },
  {
   "cell_type": "raw",
   "id": "e6e6f808",
   "metadata": {},
   "source": [
    "Q3: Why is the subplot() function used? Draw four line plots using the subplot() function.\n",
    "Use the following data:\n",
    "import numpy as np\n",
    "For line 1: x = np.array([0, 1, 2, 3, 4, 5]) and y = np.array([0, 100, 200, 300, 400, 500])\n",
    "For line 2: x = np.array([0, 1, 2, 3, 4, 5]) and y = np.array([50, 20, 40, 20, 60, 70])\n",
    "For line 3: x = np.array([0, 1, 2, 3, 4, 5]) and y = np.array([10, 20, 30, 40, 50, 60])\n",
    "For line 4: x = np.array([0, 1, 2, 3, 4, 5]) and y = np.array([200, 350, 250, 550, 450, 150])"
   ]
  },
  {
   "cell_type": "markdown",
   "id": "bb01a874",
   "metadata": {},
   "source": [
    "The subplot() function is used to create multiple plots in the same figure. It takes three arguments, nrows, ncols, and index, which specify the number of rows, number of columns, and the index of the subplot to create, respectively. The index argument starts from 1 in the top-left corner and increases to the right and downwards.\n",
    "\n",
    "Here's an example code that uses the subplot() function to create four line plots:"
   ]
  },
  {
   "cell_type": "code",
   "execution_count": 2,
   "id": "e5f7da04",
   "metadata": {},
   "outputs": [
    {
     "data": {
      "image/png": "[encoded data removed]",
      "text/plain": [
       "<Figure size 432x288 with 4 Axes>"
      ]
     },
     "metadata": {
      "needs_background": "light"
     },
     "output_type": "display_data"
    }
   ],
   "source": [
    "import matplotlib.pyplot as plt\n",
    "import numpy as np\n",
    "\n",
    "# Create the data for the plots\n",
    "x1 = np.array([0, 1, 2, 3, 4, 5])\n",
    "y1 = np.array([0, 100, 200, 300, 400, 500])\n",
    "x2 = np.array([0, 1, 2, 3, 4, 5])\n",
    "y2 = np.array([50, 20, 40, 20, 60, 70])\n",
    "x3 = np.array([0, 1, 2, 3, 4, 5])\n",
    "y3 = np.array([10, 20, 30, 40, 50, 60])\n",
    "x4 = np.array([0, 1, 2, 3, 4, 5])\n",
    "y4 = np.array([200, 350, 250, 550, 450, 150])\n",
    "\n",
    "# Create a figure with four subplots\n",
    "fig, axs = plt.subplots(2, 2)\n",
    "\n",
    "# Plot the data on each subplot\n",
    "axs[0, 0].plot(x1, y1)\n",
    "axs[0, 0].set_title('Line 1')\n",
    "axs[0, 1].plot(x2, y2)\n",
    "axs[0, 1].set_title('Line 2')\n",
    "axs[1, 0].plot(x3, y3)\n",
    "axs[1, 0].set_title('Line 3')\n",
    "axs[1, 1].plot(x4, y4)\n",
    "axs[1, 1].set_title('Line 4')\n",
    "\n",
    "# Add a title for the entire figure\n",
    "fig.suptitle('Four Line Plots')\n",
    "\n",
    "# Show the figure\n",
    "plt.show()\n"
   ]
  },
  {
   "cell_type": "markdown",
   "id": "ce864272",
   "metadata": {},
   "source": [
    "This code creates four line plots using the subplot() function. The axs variable is a 2D array of AxesSubplot objects, which are used to plot the data on each subplot. The set_title() function is used to add a title to each subplot, and the suptitle() function is used to add a title to the entire figure. The plt.show() function is used to display the figure on the screen."
   ]
  },
  {
   "cell_type": "code",
   "execution_count": null,
   "id": "6f8a5132",
   "metadata": {},
   "outputs": [],
   "source": []
  },
  {
   "cell_type": "raw",
   "id": "65cf32cf",
   "metadata": {},
   "source": [
    "Q4: What is a bar plot? Why is it used? Using the following data plot a bar plot and a horizontal bar plot.\n",
    "import numpy as np\n",
    "company = np.array([\"Apple\", \"Microsoft\", \"Google\", \"AMD\"])\n",
    "profit = np.array([3000, 8000, 1000, 10000])"
   ]
  },
  {
   "cell_type": "markdown",
   "id": "301d1d9c",
   "metadata": {},
   "source": [
    "A bar plot is a way of representing data using rectangular bars with lengths proportional to the values that they represent. It is typically used to compare and display data in different categories.\n",
    "\n",
    "In the given data, the company array represents different companies and the profit array represents their respective profits. We can use a bar plot to visualize the profit of each company and compare them easily.\n",
    "\n",
    "To create a vertical bar plot using Matplotlib, we can use the plt.bar() function as follows:"
   ]
  },
  {
   "cell_type": "code",
   "execution_count": 5,
   "id": "8f08fb4d",
   "metadata": {},
   "outputs": [
    {
     "data": {
      "image/png": "[encoded data removed]",
      "text/plain": [
       "<Figure size 432x288 with 1 Axes>"
      ]
     },
     "metadata": {
      "needs_background": "light"
     },
     "output_type": "display_data"
    }
   ],
   "source": [
    "import matplotlib.pyplot as plt\n",
    "import numpy as np\n",
    "\n",
    "company = np.array([\"Apple\", \"Microsoft\", \"Google\", \"AMD\"])\n",
    "profit = np.array([3000, 8000, 1000, 10000])\n",
    "\n",
    "plt.bar(company, profit)\n",
    "plt.title(\"Company Profits\")\n",
    "plt.xlabel(\"Company\")\n",
    "plt.ylabel(\"Profit\")\n",
    "plt.show()\n"
   ]
  },
  {
   "cell_type": "markdown",
   "id": "420aaf40",
   "metadata": {},
   "source": [
    "This will create a vertical bar plot with the company names on the x-axis and the corresponding profits on the y-axis."
   ]
  },
  {
   "cell_type": "markdown",
   "id": "3d4bb68b",
   "metadata": {},
   "source": [
    "To create a horizontal bar plot, we can use the plt.barh() function as follows:"
   ]
  },
  {
   "cell_type": "code",
   "execution_count": 6,
   "id": "999d7ed0",
   "metadata": {},
   "outputs": [
    {
     "data": {
      "image/png": "[encoded data removed]",
      "text/plain": [
       "<Figure size 432x288 with 1 Axes>"
      ]
     },
     "metadata": {
      "needs_background": "light"
     },
     "output_type": "display_data"
    }
   ],
   "source": [
    "import matplotlib.pyplot as plt\n",
    "import numpy as np\n",
    "\n",
    "company = np.array([\"Apple\", \"Microsoft\", \"Google\", \"AMD\"])\n",
    "profit = np.array([3000, 8000, 1000, 10000])\n",
    "\n",
    "plt.barh(company, profit)\n",
    "plt.title(\"Company Profits\")\n",
    "plt.xlabel(\"Profit\")\n",
    "plt.ylabel(\"Company\")\n",
    "plt.show()\n"
   ]
  },
  {
   "cell_type": "markdown",
   "id": "8532d0dc",
   "metadata": {},
   "source": [
    "This will create a horizontal bar plot with the company names on the y-axis and the corresponding profits on the x-axis."
   ]
  },
  {
   "cell_type": "code",
   "execution_count": null,
   "id": "f1213293",
   "metadata": {},
   "outputs": [],
   "source": []
  },
  {
   "cell_type": "raw",
   "id": "d9d7a180",
   "metadata": {},
   "source": [
    "Q5: What is a box plot? Why is it used? Using the following data plot a box plot.\n",
    "box1 = np.random.normal(100, 10, 200)\n",
    "box2 = np.random.normal(90, 20, 200)"
   ]
  },
  {
   "cell_type": "markdown",
   "id": "41f60fae",
   "metadata": {},
   "source": [
    "A box plot is a graphical representation of the distribution of data based on five-number summary: minimum, first quartile, median, third quartile, and maximum. It is used to identify outliers and to visually compare the distribution of data between different groups or samples.\n",
    "\n",
    "To plot a box plot using the given data, we can use the boxplot() function from the matplotlib library as follows:"
   ]
  },
  {
   "cell_type": "code",
   "execution_count": 7,
   "id": "4b5cc388",
   "metadata": {},
   "outputs": [
    {
     "data": {
      "image/png": "[encoded data removed]",
      "text/plain": [
       "<Figure size 432x288 with 1 Axes>"
      ]
     },
     "metadata": {
      "needs_background": "light"
     },
     "output_type": "display_data"
    }
   ],
   "source": [
    "import matplotlib.pyplot as plt\n",
    "import numpy as np\n",
    "\n",
    "# Generate the data\n",
    "box1 = np.random.normal(100, 10, 200)\n",
    "box2 = np.random.normal(90, 20, 200)\n",
    "\n",
    "# Combine the data\n",
    "data = [box1, box2]\n",
    "\n",
    "# Create a figure and axis object\n",
    "fig, ax = plt.subplots()\n",
    "\n",
    "# Create the box plot\n",
    "bp = ax.boxplot(data)\n",
    "\n",
    "# Add labels and title\n",
    "ax.set_xticklabels(['Box 1', 'Box 2'])\n",
    "ax.set_ylabel('Value')\n",
    "ax.set_title('Box Plot')\n",
    "\n",
    "# Display the plot\n",
    "plt.show()\n"
   ]
  },
  {
   "cell_type": "markdown",
   "id": "a48e22aa",
   "metadata": {},
   "source": [
    "This code will generate a box plot with two boxes labeled \"Box 1\" and \"Box 2\", showing the distribution of the data in box1 and box2. The y-axis represents the values in the data, and the x-axis represents the boxes. The line inside the box represents the median, while the box represents the interquartile range (IQR), which contains the middle 50% of the data. The whiskers extend from the box to the minimum and maximum values within 1.5 times the IQR, and any points outside of the whiskers are considered outliers."
   ]
  },
  {
   "cell_type": "code",
   "execution_count": null,
   "id": "4eb435c6",
   "metadata": {},
   "outputs": [],
   "source": []
  }
 ],
 "metadata": {
  "kernelspec": {
   "display_name": "Python 3 (ipykernel)",
   "language": "python",
   "name": "python3"
  },
  "language_info": {
   "codemirror_mode": {
    "name": "ipython",
    "version": 3
   },
   "file_extension": ".py",
   "mimetype": "text/x-python",
   "name": "python",
   "nbconvert_exporter": "python",
   "pygments_lexer": "ipython3",
   "version": "3.9.12"
  }
 },
 "nbformat": 4,
 "nbformat_minor": 5
}
