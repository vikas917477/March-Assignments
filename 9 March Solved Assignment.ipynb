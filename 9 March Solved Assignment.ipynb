{
 "cells": [
  {
   "cell_type": "markdown",
   "id": "6b081790",
   "metadata": {},
   "source": [
    "# Statistics Advance-2\n",
    "Assignment Questions"
   ]
  },
  {
   "cell_type": "raw",
   "id": "04bfac46",
   "metadata": {},
   "source": [
    "Q1: What are the Probability Mass Function (PMF) and Probability Density Function (PDF)? Explain with \n",
    "an example."
   ]
  },
  {
   "cell_type": "markdown",
   "id": "b2f5a7c4",
   "metadata": {},
   "source": [
    "The Probability Mass Function (PMF) and Probability Density Function (PDF) are two types of mathematical functions used in probability theory and statistics to describe the probabilities of different outcomes in a random process.\n",
    "\n",
    "The PMF is used for discrete random variables, such as the number of heads in a coin toss or the number of red balls in a bag of colored balls. It gives the probability of each possible outcome in the discrete set of values that the variable can take. The PMF assigns a probability to each possible value of the random variable, so that the sum of all probabilities is equal to 1.\n",
    "\n",
    "For example, consider the case of rolling a fair six-sided die. The PMF of the random variable X, which represents the number of dots that appear on the face of the die, is given by:\n",
    "\n",
    "\n",
    "P(X = 1) = 1/6\n",
    "P(X = 2) = 1/6\n",
    "P(X = 3) = 1/6\n",
    "P(X = 4) = 1/6\n",
    "P(X = 5) = 1/6\n",
    "P(X = 6) = 1/6\n",
    "\n",
    "Here, each probability is equal to 1/6, since there are six equally likely outcomes when rolling a fair die.\n",
    "\n",
    "On the other hand, the PDF is used for continuous random variables, such as the height of a person or the time it takes to complete a task. It gives the relative likelihood of each possible value of the variable, as well as the likelihood of a range of values occurring.\n",
    "\n",
    "For example, consider the case of the normal distribution, which is a continuous probability distribution that is widely used in statistics. The PDF of the normal distribution is given by:\n",
    "\n",
    "f(x) = (1 / (sigma * sqrt(2 * pi))) * exp(-(x - mu)^2 / (2 * sigma^2))\n",
    "\n",
    "Here, mu is the mean of the distribution and sigma is its standard deviation. The function f(x) gives the probability density at the point x, which represents the likelihood of observing a value in the range [x, x + dx], where dx is an infinitesimal interval. The area under the curve of the PDF between two points a and b represents the probability of observing a value in the range [a, b].\n",
    "\n",
    "In summary, the PMF is used for discrete random variables and gives the probability of each possible outcome, while the PDF is used for continuous random variables and gives the likelihood of each possible value and range of values."
   ]
  },
  {
   "cell_type": "raw",
   "id": "bc9f0144",
   "metadata": {},
   "source": [
    "Q2: What is Cumulative Density Function (CDF)? Explain with an example. Why CDF is used?"
   ]
  },
  {
   "cell_type": "markdown",
   "id": "581e90a2",
   "metadata": {},
   "source": [
    "The Cumulative Distribution Function (CDF) is a function that describes the probability that a random variable X takes a value less than or equal to a certain value x. It is defined as the integral of the Probability Density Function (PDF) or Probability Mass Function (PMF) of the random variable X up to the value x. The CDF is denoted by F(x) and is defined as:\n",
    "\n",
    "F(x) = P(X ≤ x)\n",
    "\n",
    "In other words, the CDF gives the probability that X is less than or equal to a certain value x. The CDF is a monotonically increasing function that ranges from 0 to 1.\n",
    "\n",
    "For example, consider the case of rolling a fair six-sided die. The CDF of the random variable X, which represents the number of dots that appear on the face of the die, is given by:\n",
    "\n",
    "F(x) = P(X ≤ x)\n",
    "\n",
    "F(1) = 1/6\n",
    "F(2) = 2/6 = 1/3\n",
    "F(3) = 3/6 = 1/2\n",
    "F(4) = 4/6 = 2/3\n",
    "F(5) = 5/6\n",
    "F(6) = 1\n",
    "\n",
    "Here, the CDF gives the probability of rolling a number less than or equal to a given value of x. For example, F(3) = 1/2 means that there is a 50% chance of rolling a number less than or equal to 3 on the die.\n",
    "\n",
    "The CDF is used in statistics for various purposes, including hypothesis testing, confidence interval estimation, and probability calculations. It is a useful tool for analyzing the distribution of a random variable and understanding its behavior. The CDF can also be used to calculate other statistics, such as the mean and variance of the random variable. In summary, the CDF is a fundamental concept in probability theory and statistics that helps to describe the behavior of random variables and their distributions."
   ]
  },
  {
   "cell_type": "raw",
   "id": "8153d059",
   "metadata": {},
   "source": [
    "Q3: What are some examples of situations where the normal distribution might be used as a model? \n",
    "Explain how the parameters of the normal distribution relate to the shape of the distribution."
   ]
  },
  {
   "cell_type": "markdown",
   "id": "99a0b0d0",
   "metadata": {},
   "source": [
    "The normal distribution, also known as the Gaussian distribution, is a probability distribution that is commonly used to model real-world phenomena. It has a bell-shaped curve that is symmetrical around its mean value. Some examples of situations where the normal distribution might be used as a model include:\n",
    "\n",
    "1. Heights of individuals: The normal distribution can be used to model the distribution of heights of individuals in a population. The mean of the distribution would represent the average height of the population, and the standard deviation would represent the spread of heights around the mean.\n",
    "\n",
    "2. Test scores: The normal distribution can be used to model the distribution of test scores in a class or population. The mean of the distribution would represent the average score, and the standard deviation would represent the spread of scores around the mean.\n",
    "\n",
    "3. Errors in measurements: The normal distribution can be used to model the distribution of errors in measurements. The mean of the distribution would represent the true value of the measurement, and the standard deviation would represent the uncertainty or error associated with the measurement.\n",
    "\n",
    "The parameters of the normal distribution are the mean (μ) and the standard deviation (σ). The mean represents the center of the distribution and determines the location of the peak of the curve. The standard deviation determines the spread of the distribution around the mean. A smaller standard deviation results in a narrow, more peaked distribution, while a larger standard deviation results in a wider, flatter distribution.\n",
    "\n",
    "In summary, the normal distribution is a commonly used model for real-world phenomena that exhibit a bell-shaped curve. The mean and standard deviation are the parameters that describe the shape of the distribution, and they determine the location and spread of the curve."
   ]
  },
  {
   "cell_type": "raw",
   "id": "cada784b",
   "metadata": {},
   "source": [
    "Q4: Explain the importance of Normal Distribution. Give a few real-life examples of Normal \n",
    "Distribution. "
   ]
  },
  {
   "cell_type": "markdown",
   "id": "ab304aad",
   "metadata": {},
   "source": [
    "The normal distribution is an important statistical tool that has many applications in various fields. Some of the key reasons for its importance include:\n",
    "\n",
    "1. Central Limit Theorem: The normal distribution is used in the Central Limit Theorem, which states that the sample mean of a sufficiently large sample from any distribution will follow a normal distribution. This theorem is important in statistical inference, where we use sample data to make inferences about a larger population.\n",
    "\n",
    "2. Modeling Data: The normal distribution is commonly used to model real-world data that are normally distributed, such as heights, weights, and test scores. This allows us to make predictions about future values and understand the likelihood of certain outcomes.\n",
    "\n",
    "3. Statistical Tests: Many statistical tests, such as the t-test and ANOVA, assume that the data follows a normal distribution. This assumption is important for the validity of the tests and the accuracy of the results.\n",
    "\n",
    "Some real-life examples of normal distribution include:\n",
    "\n",
    "1. IQ scores: Intelligence quotient (IQ) scores are normally distributed, with a mean of 100 and a standard deviation of 15. This means that the majority of the population falls within one standard deviation of the mean, and a smaller percentage falls further away from the mean.\n",
    "\n",
    "2. Heights of individuals: The heights of individuals in a population are also normally distributed, with a mean of around 5 feet 7 inches and a standard deviation of around 3 inches. This means that most people fall within a few inches of the mean height, with a smaller percentage of people being much shorter or taller.\n",
    "\n",
    "3. Blood pressure: The distribution of blood pressure in a population is also approximately normal, with a mean of around 120/80 mmHg and a standard deviation of around 10 mmHg. This means that most people have blood pressure readings within a few points of the mean, with a smaller percentage having much higher or lower readings.\n",
    "\n",
    "In summary, the normal distribution is important in statistical analysis, modeling data, and performing statistical tests. It is commonly observed in many real-world phenomena, such as IQ scores, heights of individuals, and blood pressure readings."
   ]
  },
  {
   "cell_type": "raw",
   "id": "24d553b2",
   "metadata": {},
   "source": [
    "Q5: What is Bernaulli Distribution? Give an Example. What is the difference between Bernoulli \n",
    "Distribution and Binomial Distribution?"
   ]
  },
  {
   "cell_type": "markdown",
   "id": "089dbffe",
   "metadata": {},
   "source": [
    "The Bernoulli distribution is a discrete probability distribution that models the outcomes of a single trial of a binary event, where the outcome is either a success or a failure. It is named after Swiss mathematician Jacob Bernoulli.\n",
    "\n",
    "The probability mass function (PMF) of the Bernoulli distribution is:\n",
    "\n",
    "P(X = 1) = p\n",
    "P(X = 0) = 1 - p\n",
    "\n",
    "where p is the probability of success and (1-p) is the probability of failure.\n",
    "\n",
    "An example of a Bernoulli distribution is the outcome of a coin flip, where heads can be considered a success and tails can be considered a failure.\n",
    "\n",
    "The key difference between the Bernoulli distribution and the binomial distribution is that the Bernoulli distribution models the outcome of a single trial, whereas the binomial distribution models the number of successes in a fixed number of independent trials.\n",
    "\n",
    "The binomial distribution is a discrete probability distribution that gives the probability of having k successes in n independent trials, each with the same probability of success p. The probability mass function of the binomial distribution is:\n",
    "\n",
    "P(X = k) = nCk * p^k * (1-p)^(n-k)\n",
    "\n",
    "where nCk is the binomial coefficient that represents the number of ways to choose k items from a set of n items.\n",
    "\n",
    "To summarize, the Bernoulli distribution models the outcome of a single trial of a binary event, while the binomial distribution models the number of successes in a fixed number of independent trials of a binary event."
   ]
  },
  {
   "cell_type": "raw",
   "id": "d73f26b1",
   "metadata": {},
   "source": [
    "Q6. Consider a dataset with a mean of 50 and a standard deviation of 10. If we assume that the dataset \n",
    "is normally distributed, what is the probability that a randomly selected observation will be greater \n",
    "than 60? Use the appropriate formula and show your calculations"
   ]
  },
  {
   "cell_type": "markdown",
   "id": "1ab564b7",
   "metadata": {},
   "source": [
    "o solve this problem, we need to find the area under the normal distribution curve to the right of the value 60.\n",
    "\n",
    "The formula for the z-score of a value is:\n",
    "\n",
    "z = (x - μ) / σ\n",
    "\n",
    "where x is the value we are interested in, μ is the mean of the distribution, and σ is the standard deviation of the distribution.\n",
    "\n",
    "In this case, we want to find the z-score of 60, so we have:\n",
    "\n",
    "z = (60 - 50) / 10 = 1\n",
    "\n",
    "Next, we need to find the probability that a randomly selected observation will be greater than 60. This is equivalent to finding the area under the normal distribution curve to the right of the value 60.\n",
    "\n",
    "We can use a standard normal distribution table or a calculator to find this probability. Using a standard normal distribution table, we can find that the area to the right of z = 1 is 0.1587.\n",
    "\n",
    "Therefore, the probability that a randomly selected observation from a normally distributed dataset with a mean of 50 and a standard deviation of 10 will be greater than 60 is 0.1587 or approximately 16%."
   ]
  },
  {
   "cell_type": "raw",
   "id": "11f7b116",
   "metadata": {},
   "source": [
    "Q7: Explain uniform Distribution with an example."
   ]
  },
  {
   "cell_type": "markdown",
   "id": "4d976ad3",
   "metadata": {},
   "source": [
    "Uniform distribution is a continuous probability distribution that models the probability of an event occurring within a specified range. It is characterized by a constant probability density function (PDF) over the entire range of possible outcomes.\n",
    "\n",
    "An example of uniform distribution is the roll of a fair six-sided die. In this case, each outcome (1, 2, 3, 4, 5, 6) has an equal probability of 1/6. The probability density function of a uniform distribution is:\n",
    "\n",
    "f(x) = 1 / (b - a), for a <= x <= b\n",
    "\n",
    "where a and b are the lower and upper bounds of the range, respectively.\n",
    "\n",
    "The cumulative distribution function (CDF) of a uniform distribution is:\n",
    "\n",
    "F(x) = 0, for x < a\n",
    "F(x) = (x - a) / (b - a), for a <= x <= b\n",
    "F(x) = 1, for x > b\n",
    "\n",
    "where F(x) is the probability that a random variable X is less than or equal to x.\n",
    "\n",
    "Uniform distribution can be useful in a variety of contexts, such as in simulations, random number generation, and when there is no prior knowledge or bias about the outcomes of an event within a specified range."
   ]
  },
  {
   "cell_type": "raw",
   "id": "65ba741b",
   "metadata": {},
   "source": [
    "Q8: What is the z score? State the importance of the z score."
   ]
  },
  {
   "cell_type": "markdown",
   "id": "e5a7ec79",
   "metadata": {},
   "source": [
    "The z-score (also known as the standard score) is a measure of the number of standard deviations that a data point is from the mean of a distribution. It is calculated by subtracting the population mean from a given data point and then dividing that difference by the population standard deviation.\n",
    "\n",
    "The formula for the z-score is:\n",
    "\n",
    "z = (x - μ) / σ\n",
    "\n",
    "where x is the observed data point, μ is the population mean, and σ is the population standard deviation.\n",
    "\n",
    "The importance of the z-score lies in its ability to standardize data from different distributions into a common standard normal distribution, with a mean of 0 and a standard deviation of 1. This standardization allows for comparisons of data points across different distributions and enables the calculation of probabilities and percentiles.\n",
    "\n",
    "The z-score is commonly used in statistical analysis, such as in hypothesis testing, confidence intervals, and in identifying outliers. It is also used in quality control and process improvement, where it can help to identify when a process is out of control and in need of adjustment.\n",
    "\n",
    "Overall, the z-score is an important statistical tool that allows for the standardization of data, making it easier to compare and analyze data from different sources and distributions."
   ]
  },
  {
   "cell_type": "raw",
   "id": "b75d625f",
   "metadata": {},
   "source": [
    "Q9: What is Central Limit Theorem? State the significance of the Central Limit Theorem."
   ]
  },
  {
   "cell_type": "markdown",
   "id": "46fee279",
   "metadata": {},
   "source": [
    "The Central Limit Theorem (CLT) is a fundamental concept in statistics that states that as the sample size increases, the sampling distribution of the sample mean (or sum) approaches a normal distribution, regardless of the underlying distribution of the population from which the samples are drawn.\n",
    "\n",
    "More specifically, the CLT states that if a random sample is taken from any distribution with a finite mean and standard deviation, the sample mean will be normally distributed with a mean equal to the population mean and a standard deviation equal to the population standard deviation divided by the square root of the sample size.\n",
    "\n",
    "The significance of the CLT lies in its applicability to a wide range of statistical problems. It allows researchers to make inferences about the population parameters using sample data, even when the population distribution is unknown or non-normal. The CLT is particularly useful in hypothesis testing and confidence interval estimation, as it provides a theoretical foundation for the use of the normal distribution as an approximation for the sampling distribution of the sample mean.\n",
    "\n",
    "Furthermore, the CLT has practical implications in areas such as quality control, where it is used to monitor and improve production processes. It also has applications in finance, where it is used in the analysis of stock prices and financial returns, and in medical research, where it is used in the analysis of clinical trials and epidemiological studies.\n",
    "\n",
    "In summary, the Central Limit Theorem is a fundamental concept in statistics that allows for the estimation of population parameters from sample data, and its significance lies in its wide-ranging applicability to many statistical problems across various fields."
   ]
  },
  {
   "cell_type": "raw",
   "id": "e0ad8c7f",
   "metadata": {},
   "source": [
    "Q10: State the assumptions of the Central Limit Theorem."
   ]
  },
  {
   "cell_type": "markdown",
   "id": "df048f71",
   "metadata": {},
   "source": [
    "The Central Limit Theorem (CLT) has certain assumptions that must be met for it to hold true. These assumptions are:\n",
    "\n",
    "The sample is a random sample: The sample must be selected randomly from the population, which means that each member of the population has an equal chance of being selected.\n",
    "\n",
    "The sample size is sufficiently large: The sample size must be large enough so that the sampling distribution of the sample mean approaches a normal distribution.\n",
    "\n",
    "Independence: The observations in the sample must be independent of each other. This means that the value of one observation should not influence the value of another observation.\n",
    "\n",
    "The population has a finite variance: The population from which the sample is drawn should have a finite variance.\n",
    "\n",
    "If these assumptions are met, then the CLT can be used to approximate the sampling distribution of the sample mean as a normal distribution, even if the population distribution is not normal. However, if any of these assumptions are violated, then the CLT may not hold true, and other methods may need to be used for statistical inference."
   ]
  },
  {
   "cell_type": "markdown",
   "id": "ce74d566",
   "metadata": {},
   "source": [
    "Thank You\n",
    "Pw"
   ]
  },
  {
   "cell_type": "code",
   "execution_count": null,
   "id": "6c4f85c9",
   "metadata": {},
   "outputs": [],
   "source": []
  }
 ],
 "metadata": {
  "kernelspec": {
   "display_name": "Python 3 (ipykernel)",
   "language": "python",
   "name": "python3"
  },
  "language_info": {
   "codemirror_mode": {
    "name": "ipython",
    "version": 3
   },
   "file_extension": ".py",
   "mimetype": "text/x-python",
   "name": "python",
   "nbconvert_exporter": "python",
   "pygments_lexer": "ipython3",
   "version": "3.9.12"
  }
 },
 "nbformat": 4,
 "nbformat_minor": 5
}
