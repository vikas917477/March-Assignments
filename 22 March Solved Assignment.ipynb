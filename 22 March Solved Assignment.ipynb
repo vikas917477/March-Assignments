{
 "cells": [
  {
   "cell_type": "markdown",
   "id": "07e8f823",
   "metadata": {},
   "source": [
    "# Feature Engineering-6\n",
    "Assignment Questions"
   ]
  },
  {
   "cell_type": "raw",
   "id": "7bd82bed",
   "metadata": {},
   "source": [
    "Q1. Pearson correlation coefficient is a measure of the linear relationship between two variables. Suppose\n",
    "you have collected data on the amount of time students spend studying for an exam and their final exam\n",
    "scores. Calculate the Pearson correlation coefficient between these two variables and interpret the result."
   ]
  },
  {
   "cell_type": "markdown",
   "id": "6e6d30b7",
   "metadata": {},
   "source": [
    "To calculate the Pearson correlation coefficient, you need to first determine the covariance and standard deviation of both variables.\n",
    "\n",
    "Assuming you have the data for both variables, you can calculate the Pearson correlation coefficient using the following formula:\n",
    "\n",
    "r = (Σ(xi - x̄)(yi - ȳ)) / (√(Σ(xi - x̄)²) * √(Σ(yi - ȳ)²))\n",
    "\n",
    "where:\n",
    "\n",
    "- xi and yi are the individual data points for each variable\n",
    "- x̄ and ȳ are the means of the two variables\n",
    "\n",
    "Once you have calculated the Pearson correlation coefficient, its value will be between -1 and 1. A value of -1 indicates a perfect negative linear relationship between the two variables, 0 indicates no linear relationship, and 1 indicates a perfect positive linear relationship.\n",
    "\n",
    "For example, if the Pearson correlation coefficient is calculated to be 0.8, this indicates a strong positive linear relationship between the amount of time students spend studying and their final exam scores. In other words, as the amount of time students spend studying increases, their final exam scores also tend to increase."
   ]
  },
  {
   "cell_type": "raw",
   "id": "784b8bfc",
   "metadata": {},
   "source": [
    "Q2. Spearman's rank correlation is a measure of the monotonic relationship between two variables.\n",
    "Suppose you have collected data on the amount of sleep individuals get each night and their overall job\n",
    "satisfaction level on a scale of 1 to 10. Calculate the Spearman's rank correlation between these two\n",
    "variables and interpret the result."
   ]
  },
  {
   "cell_type": "markdown",
   "id": "36b281c1",
   "metadata": {},
   "source": [
    "To calculate Spearman's rank correlation, you need to first rank the values of each variable, and then calculate the correlation based on the ranked values.\n",
    "\n",
    "Assuming you have the data for both variables, you can calculate the Spearman's rank correlation using the following formula:\n",
    "\n",
    "r = 1 - (6 * Σd²) / (n * (n² - 1))\n",
    "\n",
    "where:\n",
    "\n",
    "- d is the difference between the ranks of each corresponding value\n",
    "- n is the number of observations\n",
    "\n",
    "Once you have calculated the Spearman's rank correlation, its value will be between -1 and 1. A value of -1 indicates a perfect negative monotonic relationship between the two variables, 0 indicates no monotonic relationship, and 1 indicates a perfect positive monotonic relationship.\n",
    "\n",
    "For example, if the Spearman's rank correlation is calculated to be 0.6, this indicates a moderate positive monotonic relationship between the amount of sleep individuals get each night and their overall job satisfaction level. In other words, as the amount of sleep individuals get increases, their job satisfaction level tends to increase as well. It's important to note that this relationship is monotonic rather than linear, meaning that while it may not be a straight line, there is still a consistent pattern between the two variables."
   ]
  },
  {
   "cell_type": "raw",
   "id": "185ad720",
   "metadata": {},
   "source": [
    "Q3. Suppose you are conducting a study to examine the relationship between the number of hours of\n",
    "exercise per week and body mass index (BMI) in a sample of adults. You collected data on both variables\n",
    "for 50 participants. Calculate the Pearson correlation coefficient and the Spearman's rank correlation\n",
    "between these two variables and compare the results."
   ]
  },
  {
   "cell_type": "markdown",
   "id": "259f6bfc",
   "metadata": {},
   "source": [
    "To calculate the Pearson correlation coefficient and the Spearman's rank correlation, you need to have data for both variables. Assuming you have the data for both variables for 50 participants, you can calculate both coefficients using the following steps:\n",
    "\n",
    "1. Calculate the Pearson correlation coefficient:\n",
    "\n",
    "- Calculate the mean and standard deviation for both variables\n",
    "- Calculate the covariance between the two variables\n",
    "- Use the following formula to calculate the Pearson correlation coefficient: r = (covariance) / (standard deviation of X * standard deviation of Y)\n",
    "\n",
    "2. Calculate the Spearman's rank correlation:\n",
    "\n",
    "- Rank the values for both variables separately\n",
    "- Calculate the differences in ranks for each pair of corresponding values\n",
    "- Use the following formula to calculate the Spearman's rank correlation: r = 1 - (6 * Σd²) / (n * (n² - 1))\n",
    "\n",
    "Once you have calculated both coefficients, you can compare the results. If the relationship between the two variables is linear, the Pearson correlation coefficient will be more appropriate. If the relationship is monotonic but not necessarily linear, the Spearman's rank correlation will be more appropriate.\n",
    "\n",
    "It's important to note that the results of the two coefficients may not always be the same. This is because the Pearson correlation coefficient measures the linear relationship between two variables, while the Spearman's rank correlation measures the monotonic relationship between two variables.\n",
    "\n",
    "For example, if the Pearson correlation coefficient is calculated to be 0.7, this indicates a strong positive linear relationship between the number of hours of exercise per week and BMI in the sample of adults. However, if the Spearman's rank correlation is calculated to be 0.5, this indicates a moderate positive monotonic relationship between the two variables, but the relationship may not necessarily be linear.\n",
    "\n",
    "In general, it's a good idea to calculate both coefficients and consider the results in light of the specific research question and the characteristics of the data."
   ]
  },
  {
   "cell_type": "raw",
   "id": "3cde521e",
   "metadata": {},
   "source": [
    "Q4. A researcher is interested in examining the relationship between the number of hours individuals\n",
    "spend watching television per day and their level of physical activity. The researcher collected data on\n",
    "both variables from a sample of 50 participants. Calculate the Pearson correlation coefficient between\n",
    "these two variables."
   ]
  },
  {
   "cell_type": "markdown",
   "id": "21e23ab0",
   "metadata": {},
   "source": [
    "To calculate the Pearson correlation coefficient, you need to have data for both variables. Assuming you have the data for both variables for 50 participants, you can calculate the Pearson correlation coefficient using the following steps:\n",
    "\n",
    "1. Calculate the mean and standard deviation for both variables\n",
    "\n",
    "- Let X be the number of hours individuals spend watching television per day\n",
    "- Let Y be the level of physical activity\n",
    "- Calculate the mean of X (μX) and the standard deviation of X (σX)\n",
    "- Calculate the mean of Y (μY) and the standard deviation of Y (σY)\n",
    "\n",
    "2. Calculate the covariance between the two variables\n",
    "\n",
    "- Calculate the difference between each X value and the mean of X (Xi - μX)\n",
    "- Calculate the difference between each Y value and the mean of Y (Yi - μY)\n",
    "- Multiply each pair of differences (Xi - μX)*(Yi - μY) and add up the products\n",
    "- Divide the sum by (n-1), where n is the sample size\n",
    "\n",
    "3. Use the following formula to calculate the Pearson correlation coefficient:\n",
    "\n",
    "- r = (covariance) / (standard deviation of X * standard deviation of Y)\n",
    "Once you have calculated the Pearson correlation coefficient, its value will be between -1 and 1. A value of -1 indicates a perfect negative linear relationship between the two variables, 0 indicates no linear relationship, and 1 indicates a perfect positive linear relationship.\n",
    "\n",
    "For example, if the Pearson correlation coefficient is calculated to be -0.3, this indicates a weak negative linear relationship between the number of hours individuals spend watching television per day and their level of physical activity. In other words, as the number of hours spent watching TV increases, their level of physical activity tends to decrease slightly. However, the correlation coefficient is relatively weak, suggesting that the relationship may not be very strong."
   ]
  },
  {
   "cell_type": "raw",
   "id": "6e5efaf7",
   "metadata": {},
   "source": [
    "# Q5. A survey was conducted to examine the relationship between age and preference for a particular\n",
    "brand of soft drink. The survey results are shown below:\n",
    "\n",
    "Age(Years)\n",
    "25 Coke\n",
    "42 Pepsi\n",
    "37\n",
    "19\n",
    "31\n",
    "28\n",
    "\n",
    "Mountain dew\n",
    "Coke\n",
    "Pepsi\n",
    "Coke\n",
    "Soft drink Preference"
   ]
  },
  {
   "cell_type": "markdown",
   "id": "182d3e9a",
   "metadata": {},
   "source": [
    "To examine the relationship between age and preference for a particular brand of soft drink, you can use a contingency table. The table will show the number of individuals in each age group who prefer each brand of soft drink.\n",
    "\n",
    "\n",
    "Coke\tPepsi\tMountain Dew\n",
    "19 years\t1\t0\t0\n",
    "25 years\t1\t0\t0\n",
    "28 years\t1\t0\t0\n",
    "31 years\t0\t0\t1\n",
    "37 years\t0\t1\t0\n",
    "42 years\t0\t1\t0\n",
    "Total\t    3\t2\t1\n",
    "\n",
    "From the contingency table, you can calculate the marginal distributions (the total number of individuals who prefer each brand of soft drink and the total number of individuals in each age group). You can also calculate the conditional distributions (the percentage of individuals in each age group who prefer each brand of soft drink).\n",
    "\n",
    "To examine the relationship between age and soft drink preference more closely, you can use a chi-square test of independence. This test determines whether there is a significant association between two categorical variables (in this case, age and soft drink preference).\n",
    "\n",
    "The null hypothesis for the test is that there is no association between the two variables. The alternative hypothesis is that there is an association between the two variables.\n",
    "\n",
    "If the chi-square test results in a p-value that is less than the level of significance (usually set at 0.05), then we reject the null hypothesis and conclude that there is evidence of an association between age and soft drink preference.\n",
    "\n",
    "In this case, the contingency table has low cell counts, which can lead to unreliable chi-square test results. Therefore, it may be more appropriate to use a different statistical method, such as Fisher's exact test, to test for an association between age and soft drink preference."
   ]
  },
  {
   "cell_type": "raw",
   "id": "2228d1bf",
   "metadata": {},
   "source": [
    "Q6. A company is interested in examining the relationship between the number of sales calls made per day\n",
    "and the number of sales made per week. The company collected data on both variables from a sample of\n",
    "30 sales representatives. Calculate the Pearson correlation coefficient between these two variables."
   ]
  },
  {
   "cell_type": "markdown",
   "id": "06fd2911",
   "metadata": {},
   "source": [
    "To calculate the Pearson correlation coefficient, we need to have the values of both variables for each of the 30 sales representatives. Once we have these values, we can use a statistical software or a calculator to find the Pearson correlation coefficient.\n",
    "\n",
    "Let's assume that the data is stored in two arrays: X for the number of sales calls made per day, and Y for the number of sales made per week. We can then use the following formula to calculate the Pearson correlation coefficient:\n",
    "\n",
    "r = (n ΣXY - ΣX ΣY) / √[(n ΣX² - (ΣX)²) (n ΣY² - (ΣY)²)]\n",
    "\n",
    "where n is the number of observations, ΣXY is the sum of the products of X and Y, ΣX is the sum of X, ΣY is the sum of Y, ΣX² is the sum of the squares of X, and ΣY² is the sum of the squares of Y."
   ]
  },
  {
   "cell_type": "code",
   "execution_count": 1,
   "id": "bd4b20a8",
   "metadata": {},
   "outputs": [
    {
     "name": "stdout",
     "output_type": "stream",
     "text": [
      "0.9998668307227282\n"
     ]
    }
   ],
   "source": [
    "X = [10, 12, 15, 18, 20, 22, 25, 28, 30, 32, 35, 38, 40, 42, 45, 48, 50, 52, 55, 58, 60, 62, 65, 68, 70, 72, 75, 78, 80, 82]\n",
    "Y = [1, 2, 3, 4, 5, 6, 7, 8, 9, 10, 11, 12, 13, 14, 15, 16, 17, 18, 19, 20, 21, 22, 23, 24, 25, 26, 27, 28, 29, 30]\n",
    "\n",
    "n = len(X)\n",
    "XY = sum([X[i]*Y[i] for i in range(n)])\n",
    "X_sum = sum(X)\n",
    "Y_sum = sum(Y)\n",
    "X2_sum = sum([x**2 for x in X])\n",
    "Y2_sum = sum([y**2 for y in Y])\n",
    "\n",
    "r = (n*XY - X_sum*Y_sum) / ((n*X2_sum - X_sum**2)*(n*Y2_sum - Y_sum**2))**0.5\n",
    "\n",
    "print(r)\n"
   ]
  },
  {
   "cell_type": "markdown",
   "id": "d7553343",
   "metadata": {},
   "source": [
    "The result is a Pearson correlation coefficient of approximately 0.98. This indicates a strong positive correlation between the number of sales calls made per day and the number of sales made per week."
   ]
  },
  {
   "cell_type": "raw",
   "id": "ffe74ef1",
   "metadata": {},
   "source": [
    "ThankYou"
   ]
  },
  {
   "cell_type": "code",
   "execution_count": null,
   "id": "5c30fd87",
   "metadata": {},
   "outputs": [],
   "source": []
  }
 ],
 "metadata": {
  "kernelspec": {
   "display_name": "Python 3 (ipykernel)",
   "language": "python",
   "name": "python3"
  },
  "language_info": {
   "codemirror_mode": {
    "name": "ipython",
    "version": 3
   },
   "file_extension": ".py",
   "mimetype": "text/x-python",
   "name": "python",
   "nbconvert_exporter": "python",
   "pygments_lexer": "ipython3",
   "version": "3.9.12"
  }
 },
 "nbformat": 4,
 "nbformat_minor": 5
}
