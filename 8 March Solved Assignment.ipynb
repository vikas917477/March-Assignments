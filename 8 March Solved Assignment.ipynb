{
 "cells": [
  {
   "cell_type": "markdown",
   "id": "7fd90a0c",
   "metadata": {},
   "source": [
    "# Statistics Advance-1\n",
    "Assignment Questions"
   ]
  },
  {
   "cell_type": "raw",
   "id": "06743732",
   "metadata": {},
   "source": [
    "Q1. What is the Probability density function?"
   ]
  },
  {
   "cell_type": "markdown",
   "id": "1e0348cd",
   "metadata": {},
   "source": [
    "The probability density function (PDF) is a mathematical function that describes the relative likelihood of a continuous random variable taking on a particular value. In other words, the PDF provides the probability distribution of a continuous random variable over a range of values.\n",
    "\n",
    "The PDF is a non-negative function, meaning that its values are always greater than or equal to zero. It is also normalized, so that the area under the curve between any two values is equal to the probability of the variable taking on a value within that range.\n",
    "\n",
    "Mathematically, the PDF of a continuous random variable X is denoted by f(x) and is defined as the derivative of the cumulative distribution function (CDF) F(x):\n",
    "\n",
    "f(x) = dF(x)/dx\n",
    "\n",
    "The PDF can be used to compute probabilities of events involving continuous random variables. For example, the probability that a continuous random variable X takes on a value between a and b is given by the integral of the PDF over that range:\n",
    "\n",
    "P(a ≤ X ≤ b) = ∫a^b f(x) dx\n",
    "\n",
    "The PDF is an important concept in probability theory and statistics, and is used in many areas such as physics, engineering, finance, and economics."
   ]
  },
  {
   "cell_type": "raw",
   "id": "65cb3142",
   "metadata": {},
   "source": [
    "Q2. What are the types of Probability distribution?"
   ]
  },
  {
   "cell_type": "markdown",
   "id": "f3e3f304",
   "metadata": {},
   "source": [
    "There are several types of probability distributions, each with its own set of properties and characteristics. The most commonly used probability distributions are:\n",
    "\n",
    "1. Normal distribution: The normal distribution, also known as the Gaussian distribution, is a continuous probability distribution that is often used to model natural phenomena such as height, weight, and IQ. It is characterized by a bell-shaped curve that is symmetric around the mean.\n",
    "\n",
    "2. Binomial distribution: The binomial distribution is a discrete probability distribution that is used to model the number of successes in a fixed number of independent trials, where each trial has only two possible outcomes (success or failure).\n",
    "\n",
    "3. Poisson distribution: The Poisson distribution is a discrete probability distribution that is used to model the number of events that occur in a fixed interval of time or space, given a known average rate of occurrence.\n",
    "\n",
    "4. Exponential distribution: The exponential distribution is a continuous probability distribution that is used to model the time between events that occur independently at a constant rate.\n",
    "\n",
    "5. Gamma distribution: The gamma distribution is a continuous probability distribution that is used to model the sum of independent exponentially distributed random variables.\n",
    "\n",
    "6. Uniform distribution: The uniform distribution is a continuous probability distribution that is used to model situations where all values within a given range are equally likely to occur.\n",
    "\n",
    "These are just a few examples of the many probability distributions that exist, each with its own unique characteristics and applications."
   ]
  },
  {
   "cell_type": "raw",
   "id": "9875b297",
   "metadata": {},
   "source": [
    "Q3. Write a Python function to calculate the probability density function of a normal distribution with\n",
    "given mean and standard deviation at a given point."
   ]
  },
  {
   "cell_type": "markdown",
   "id": "7756225f",
   "metadata": {},
   "source": [
    "Python function that calculates the PDF of a normal distribution:"
   ]
  },
  {
   "cell_type": "code",
   "execution_count": 1,
   "id": "e62401c0",
   "metadata": {},
   "outputs": [],
   "source": [
    "import math\n",
    "\n",
    "def normal_pdf(x, mu, sigma):\n",
    "    \"\"\"\n",
    "    Returns the probability density function of a normal distribution\n",
    "    with mean mu and standard deviation sigma, evaluated at the point x.\n",
    "    \"\"\"\n",
    "    return (1 / (sigma * math.sqrt(2 * math.pi))) * math.exp(-(x - mu)**2 / (2 * sigma**2))"
   ]
  },
  {
   "cell_type": "code",
   "execution_count": 2,
   "id": "53f2c685",
   "metadata": {},
   "outputs": [
    {
     "data": {
      "text/plain": [
       "0.3989422804014327"
      ]
     },
     "execution_count": 2,
     "metadata": {},
     "output_type": "execute_result"
    }
   ],
   "source": [
    "normal_pdf(0, 0, 1)"
   ]
  },
  {
   "cell_type": "markdown",
   "id": "8b1ec75b",
   "metadata": {},
   "source": [
    "This returns the value of the PDF of a standard normal distribution at x=0. The mean and standard deviation of the distribution are both 0 and 1, respectively."
   ]
  },
  {
   "cell_type": "raw",
   "id": "36b31bb5",
   "metadata": {},
   "source": [
    "Q4. What are the properties of Binomial distribution? Give two examples of events where binomial\n",
    "distribution can be applied."
   ]
  },
  {
   "cell_type": "markdown",
   "id": "639fb12a",
   "metadata": {},
   "source": [
    "model the number of successes in a fixed number of independent trials, where each trial has only two possible outcomes (success or failure). The properties of the binomial distribution are:\n",
    "\n",
    "1. The number of trials, n, is fixed.\n",
    "2. Each trial has only two possible outcomes: success or failure.\n",
    "3. The probability of success, p, is constant for each trial.\n",
    "4. The trials are independent.\n",
    "\n",
    "Two examples of events where the binomial distribution can be applied are:\n",
    "\n",
    "1. Flipping a coin: If you flip a coin n times and want to know the probability of getting a certain number of heads, you can model this using the binomial distribution. Each flip is a trial with two possible outcomes (heads or tails), and the probability of getting heads on any given flip is constant at 0.5 (assuming a fair coin).\n",
    "\n",
    "2. Manufacturing defects: Suppose a factory produces a certain number of widgets each day, and each widget has a certain probability of being defective. The number of defective widgets in a day can be modeled using the binomial distribution, where each widget is a trial with two possible outcomes (defective or non-defective), and the probability of a defective widget is constant. The factory could use this model to predict the number of defective widgets they are likely to produce in a day and take appropriate measures to address the issue."
   ]
  },
  {
   "cell_type": "raw",
   "id": "41e48197",
   "metadata": {},
   "source": [
    "Q5. Generate a random sample of size 1000 from a binomial distribution with probability of success 0.4\n",
    "and plot a histogram of the results using matplotlib."
   ]
  },
  {
   "cell_type": "markdown",
   "id": "1b100c58",
   "metadata": {},
   "source": [
    "Python code that generates a random sample of size 1000 from a binomial distribution with probability of success 0.4, and then plots a histogram of the results using matplotlib:"
   ]
  },
  {
   "cell_type": "code",
   "execution_count": 3,
   "id": "681cdb86",
   "metadata": {},
   "outputs": [
    {
     "data": {
      "image/png": "[encoded data removed]",
      "text/plain": [
       "<Figure size 432x288 with 1 Axes>"
      ]
     },
     "metadata": {
      "needs_background": "light"
     },
     "output_type": "display_data"
    }
   ],
   "source": [
    "import numpy as np\n",
    "import matplotlib.pyplot as plt\n",
    "\n",
    "# Generate a random sample of size 1000 from a binomial distribution with p=0.4\n",
    "n = 1000  # number of trials\n",
    "p = 0.4  # probability of success\n",
    "sample = np.random.binomial(n, p, size=1000)\n",
    "\n",
    "# Plot a histogram of the sample\n",
    "plt.hist(sample, bins=30)\n",
    "plt.xlabel('Number of successes')\n",
    "plt.ylabel('Frequency')\n",
    "plt.title('Binomial Distribution with n=1000, p=0.4')\n",
    "plt.show()"
   ]
  },
  {
   "cell_type": "raw",
   "id": "713d9420",
   "metadata": {},
   "source": [
    "Q6. Write a Python function to calculate the cumulative distribution function of a Poisson distribution\n",
    "with given mean at a given point."
   ]
  },
  {
   "cell_type": "markdown",
   "id": "63f6b6b5",
   "metadata": {},
   "source": [
    "Python function that calculates the CDF of a Poisson distribution:"
   ]
  },
  {
   "cell_type": "code",
   "execution_count": 4,
   "id": "2e97e959",
   "metadata": {},
   "outputs": [],
   "source": [
    "import math\n",
    "\n",
    "def poisson_cdf(k, mu):\n",
    "    \"\"\"\n",
    "    Returns the cumulative distribution function of a Poisson distribution\n",
    "    with mean mu, evaluated at the point k.\n",
    "    \"\"\"\n",
    "    cdf = 0\n",
    "    for i in range(k+1):\n",
    "        cdf += math.exp(-mu) * mu**i / math.factorial(i)\n",
    "    return cdf"
   ]
  },
  {
   "cell_type": "markdown",
   "id": "f676a1c1",
   "metadata": {},
   "source": [
    "In this function, k is the point at which to evaluate the CDF, and mu is the mean of the Poisson distribution. The function iterates over all possible values of i up to and including k, and adds the corresponding Poisson probabilities to the CDF. The final result is the cumulative sum of all the probabilities up to and including k"
   ]
  },
  {
   "cell_type": "code",
   "execution_count": 5,
   "id": "ea3bf00f",
   "metadata": {},
   "outputs": [
    {
     "data": {
      "text/plain": [
       "0.42319008112684353"
      ]
     },
     "execution_count": 5,
     "metadata": {},
     "output_type": "execute_result"
    }
   ],
   "source": [
    "poisson_cdf(2, 3)"
   ]
  },
  {
   "cell_type": "raw",
   "id": "56e3103f",
   "metadata": {},
   "source": [
    "Q7. How Binomial distribution different from Poisson distribution?"
   ]
  },
  {
   "cell_type": "markdown",
   "id": "a223c602",
   "metadata": {},
   "source": [
    "The binomial and Poisson distributions are both discrete probability distributions that are commonly used in statistical analysis. However, there are some key differences between them:\n",
    "\n",
    "1. The binomial distribution is used to model the number of successes in a fixed number of independent trials, where each trial has only two possible outcomes (success or failure), and the probability of success is constant. In contrast, the Poisson distribution is used to model the number of rare events that occur in a fixed interval of time or space, where the events occur independently of each other, and the average rate of events per interval is constant.\n",
    "\n",
    "2. The binomial distribution has two parameters: the number of trials, n, and the probability of success, p. The Poisson distribution has only one parameter: the average rate of events per interval, lambda.\n",
    "\n",
    "3. The binomial distribution is a discrete distribution, meaning that the number of successes is always an integer value. The Poisson distribution is also a discrete distribution, but it can be used to model events that occur at a continuous rate (for example, the number of customers arriving at a store per hour).\n",
    "\n",
    "4. The binomial distribution is symmetric when p=0.5, meaning that the probability of k successes is the same as the probability of n-k failures. The Poisson distribution is typically skewed to the right, meaning that the probability of larger values is higher than the probability of smaller values.\n",
    "\n",
    "In summary, the binomial distribution is used for a fixed number of independent trials with two possible outcomes, while the Poisson distribution is used for rare events that occur at a constant rate. The binomial distribution has two parameters, while the Poisson distribution has one parameter. The binomial distribution is symmetric when p=0.5, while the Poisson distribution is typically skewed to the right."
   ]
  },
  {
   "cell_type": "raw",
   "id": "38d7ee0f",
   "metadata": {},
   "source": [
    "Q8. Generate a random sample of size 1000 from a Poisson distribution with mean 5 and calculate the\n",
    "sample mean and variance."
   ]
  },
  {
   "cell_type": "markdown",
   "id": "e1c09dc4",
   "metadata": {},
   "source": [
    "Python code that generates a random sample of size 1000 from a Poisson distribution with mean 5, and calculates the sample mean and variance:"
   ]
  },
  {
   "cell_type": "code",
   "execution_count": 6,
   "id": "0a30d232",
   "metadata": {},
   "outputs": [
    {
     "name": "stdout",
     "output_type": "stream",
     "text": [
      "Sample mean: 5.135\n",
      "Sample variance: 5.070774999999999\n"
     ]
    }
   ],
   "source": [
    "import numpy as np\n",
    "\n",
    "# Generate a random sample of size 1000 from a Poisson distribution with mean 5\n",
    "sample = np.random.poisson(5, size=1000)\n",
    "\n",
    "# Calculate the sample mean and variance\n",
    "sample_mean = np.mean(sample)\n",
    "sample_var = np.var(sample)\n",
    "\n",
    "# Print the results\n",
    "print(\"Sample mean:\", sample_mean)\n",
    "print(\"Sample variance:\", sample_var)"
   ]
  },
  {
   "cell_type": "markdown",
   "id": "9f45c33c",
   "metadata": {},
   "source": [
    "we use the NumPy random.poisson() function to generate a random sample of size 1000 from a Poisson distribution with mu=5. We then calculate the sample mean and variance using NumPy's mean() and var() functions, respectively. Finally, we print the results. When you run this code, you should see the sample mean and variance printed to the console. Note that the sample mean and variance will be close to the true mean and variance of the Poisson distribution, which are both equal to 5."
   ]
  },
  {
   "cell_type": "raw",
   "id": "610796f7",
   "metadata": {},
   "source": [
    "Q9. How mean and variance are related in Binomial distribution and Poisson distribution?"
   ]
  },
  {
   "cell_type": "markdown",
   "id": "1da6f40c",
   "metadata": {},
   "source": [
    "In the binomial distribution, the mean is given by mu = n*p, where n is the number of trials and p is the probability of success in each trial. The variance is given by sigma^2 = n*p*(1-p). Thus, the variance is a function of both n and p, and it increases as either n or p increases.\n",
    "\n",
    "In the Poisson distribution, the mean is given by mu = lambda, where lambda is the average rate of events per interval. The variance is also given by sigma^2 = lambda. Thus, in the Poisson distribution, the variance is equal to the mean. This property is known as \"equidispersion\", and it means that the spread of the distribution is determined solely by the mean, and not by any additional parameters.\n",
    "\n",
    "In summary, in the binomial distribution, the variance increases with both the number of trials and the probability of success, while in the Poisson distribution, the variance is equal to the mean, regardless of any additional parameters."
   ]
  },
  {
   "cell_type": "raw",
   "id": "3e271e83",
   "metadata": {},
   "source": [
    "Q10. In normal distribution with respect to mean position, where does the least frequent data appear?"
   ]
  },
  {
   "cell_type": "markdown",
   "id": "e17e7d02",
   "metadata": {},
   "source": [
    "In a normal distribution, the least frequent data appears in the tails of the distribution, which are the regions that are farther away from the mean. This is because the normal distribution is a symmetric distribution, with a bell-shaped curve that is centered around the mean. As we move away from the mean towards the tails of the distribution, the density of data decreases, meaning that there are fewer data points in those regions. The points that are farthest from the mean, at the ends of the tails, are the least frequent data points in the distribution.\n",
    "\n",
    "For example, if we have a normal distribution with mean mu=0 and standard deviation sigma=1, the least frequent data points will appear in the tails of the distribution, which are the regions that are more than 2 standard deviations away from the mean on either side. Specifically, only about 2.5% of the data will appear in the tail to the left of -2, and only about 2.5% of the data will appear in the tail to the right of 2."
   ]
  },
  {
   "cell_type": "markdown",
   "id": "5090ef1b",
   "metadata": {},
   "source": [
    "Thank You \n",
    "Pwskills"
   ]
  },
  {
   "cell_type": "code",
   "execution_count": null,
   "id": "c3c27af5",
   "metadata": {},
   "outputs": [],
   "source": []
  }
 ],
 "metadata": {
  "kernelspec": {
   "display_name": "Python 3 (ipykernel)",
   "language": "python",
   "name": "python3"
  },
  "language_info": {
   "codemirror_mode": {
    "name": "ipython",
    "version": 3
   },
   "file_extension": ".py",
   "mimetype": "text/x-python",
   "name": "python",
   "nbconvert_exporter": "python",
   "pygments_lexer": "ipython3",
   "version": "3.9.12"
  }
 },
 "nbformat": 4,
 "nbformat_minor": 5
}
